{
 "cells": [
  {
   "cell_type": "code",
   "execution_count": 1,
   "metadata": {},
   "outputs": [],
   "source": [
    "import pandas as pd"
   ]
  },
  {
   "cell_type": "code",
   "execution_count": 2,
   "metadata": {},
   "outputs": [
    {
     "ename": "SyntaxError",
     "evalue": "unexpected EOF while parsing (584174290.py, line 1)",
     "output_type": "error",
     "traceback": [
      "\u001b[0;36m  Input \u001b[0;32mIn [2]\u001b[0;36m\u001b[0m\n\u001b[0;31m    class Setting():\u001b[0m\n\u001b[0m                    ^\u001b[0m\n\u001b[0;31mSyntaxError\u001b[0m\u001b[0;31m:\u001b[0m unexpected EOF while parsing\n"
     ]
    }
   ],
   "source": [
    "class Setting():\n",
    "    def __init__(self) -> None:\n",
    "        pass\n",
    "\n",
    "        "
   ]
  },
  {
   "cell_type": "code",
   "execution_count": null,
   "metadata": {},
   "outputs": [],
   "source": [
    "dir_lists = ['MC/DYJetsToLL_Pt-50To100_MatchEWPDG20_TuneCP5_13TeV-amcatnloFXFX-pythia8',\n",
    "            'MC/DYJetsToLL_Pt-100To250_MatchEWPDG20_TuneCP5_13TeV-amcatnloFXFX-pythia8',\n",
    "            'MC/DYJetsToLL_Pt-250To400_MatchEWPDG20_TuneCP5_13TeV-amcatnloFXFX-pythia8',\n",
    "            'MC/DYJetsToLL_Pt-400To650_MatchEWPDG20_TuneCP5_13TeV-amcatnloFXFX-pythia8',\n",
    "            'MC/DYJetsToLL_Pt-650ToInf_MatchEWPDG20_TuneCP5_13TeV-amcatnloFXFX-pythia8',\n",
    "            'MC/TTJets_TuneCP5_13TeV-amcatnloFXFX-pythia8',\n",
    "            #'MC/TTTo2L2Nu_TuneCP5_13TeV-powheg-pythia8',\n",
    "            #'MC/WW_TuneCP5_13TeV-pythia8',\n",
    "            'MC/WWTo2L2Nu_TuneCP5_13TeV-powheg-pythia8',\n",
    "            'MC/WZTo2Q2L_mllmin4p0_TuneCP5_13TeV-amcatnloFXFX-pythia8',\n",
    "            'MC/ZZTo2Q2L_mllmin4p0_TuneCP5_13TeV-amcatnloFXFX-pythia8',\n",
    "            #'MC/ZH_HToBB_ZToLL_M-125_TuneCP5_13TeV-powheg-pythia8',\n",
    "            #'MC/ZH_HToCC_ZToLL_M-125_TuneCP5_13TeV-powheg-pythia8',\n",
    "            #'MC/ZH_HToGG_ZToAll_M125_TuneCP5_13TeV-powheg-pythia8',\n",
    "            'MC/ggh500',\n",
    "            'MC/ggh600',\n",
    "            'MC/ggh1000',\n",
    "            'MC/ggh1500',\n",
    "            'MC/ggh2500',\n",
    "            'MC/ggh3000',\n",
    "            'MC/vbf1500',\n",
    "            'Data/skimed/Data2016UL_noDuplicates.root',]\n",
    "xec_lists = [398.8,\n",
    "            93.61,\n",
    "            3.67,\n",
    "            0.5,\n",
    "            0.04704,\n",
    "            831.76,\n",
    "            #1,\n",
    "            #1,\n",
    "            11.09,\n",
    "            6.419,\n",
    "            3.696,\n",
    "            #0.0317,\n",
    "            #0.03079,\n",
    "            #0.02991,\n",
    "            1,1,1,1,1,1,1,1]\n",
    "sample_lists = ['DY_pt50To100','DY_pt100To250','DY_pt250To400','DY_pt400To650','DY_pt650ToInf','TTJets','WWTo2L2Nu','WZTo2Q2L','ZZTo2Q2L','Data']\n"
   ]
  },
  {
   "cell_type": "code",
   "execution_count": 8,
   "metadata": {},
   "outputs": [
    {
     "data": {
      "text/html": [
       "<div>\n",
       "<style scoped>\n",
       "    .dataframe tbody tr th:only-of-type {\n",
       "        vertical-align: middle;\n",
       "    }\n",
       "\n",
       "    .dataframe tbody tr th {\n",
       "        vertical-align: top;\n",
       "    }\n",
       "\n",
       "    .dataframe thead th {\n",
       "        text-align: right;\n",
       "    }\n",
       "</style>\n",
       "<table border=\"1\" class=\"dataframe\">\n",
       "  <thead>\n",
       "    <tr style=\"text-align: right;\">\n",
       "      <th></th>\n",
       "      <th>dir</th>\n",
       "      <th>xec</th>\n",
       "    </tr>\n",
       "  </thead>\n",
       "  <tbody>\n",
       "    <tr>\n",
       "      <th>DY_pt50To100</th>\n",
       "      <td>MC/DYJetsToLL_Pt-50To100_MatchEWPDG20_TuneCP5_...</td>\n",
       "      <td>398.80</td>\n",
       "    </tr>\n",
       "    <tr>\n",
       "      <th>DY_pt100To250</th>\n",
       "      <td>MC/DYJetsToLL_Pt-100To250_MatchEWPDG20_TuneCP5...</td>\n",
       "      <td>93.61</td>\n",
       "    </tr>\n",
       "  </tbody>\n",
       "</table>\n",
       "</div>"
      ],
      "text/plain": [
       "                                                             dir     xec\n",
       "DY_pt50To100   MC/DYJetsToLL_Pt-50To100_MatchEWPDG20_TuneCP5_...  398.80\n",
       "DY_pt100To250  MC/DYJetsToLL_Pt-100To250_MatchEWPDG20_TuneCP5...   93.61"
      ]
     },
     "execution_count": 8,
     "metadata": {},
     "output_type": "execute_result"
    }
   ],
   "source": [
    "#sample_lists = ['DY_pt50To100','DY_pt100To250','DY_pt250To400','DY_pt400To650','DY_pt650ToInf','TTJets','WZTo2Q2L','ZZTo2Q2L','WWTo2L2Nu','Data']\n",
    "sample_lists = ['DY_pt50To100','DY_pt100To250']\n",
    "df = pd.DataFrame({'dir':['MC/DYJetsToLL_Pt-50To100_MatchEWPDG20_TuneCP5_13TeV-amcatnloFXFX-pythia8','MC/DYJetsToLL_Pt-100To250_MatchEWPDG20_TuneCP5_13TeV-amcatnloFXFX-pythia8'],\n",
    "                'xec':[398.8,93.61]},\n",
    "                    index=sample_lists)\n",
    "df"
   ]
  },
  {
   "cell_type": "code",
   "execution_count": null,
   "metadata": {},
   "outputs": [],
   "source": []
  }
 ],
 "metadata": {
  "kernelspec": {
   "display_name": "Python 3.8.12",
   "language": "python",
   "name": "python3"
  },
  "language_info": {
   "codemirror_mode": {
    "name": "ipython",
    "version": 3
   },
   "file_extension": ".py",
   "mimetype": "text/x-python",
   "name": "python",
   "nbconvert_exporter": "python",
   "pygments_lexer": "ipython3",
   "version": "3.8.12"
  },
  "orig_nbformat": 4,
  "vscode": {
   "interpreter": {
    "hash": "4f1650c5957004eab59b4c5750b0e19405ac261edfa12e93067e108f80b5ccd8"
   }
  }
 },
 "nbformat": 4,
 "nbformat_minor": 2
}
