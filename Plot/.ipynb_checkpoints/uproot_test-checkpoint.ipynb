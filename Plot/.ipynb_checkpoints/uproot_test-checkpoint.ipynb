{
 "cells": [
  {
   "cell_type": "code",
   "execution_count": 1,
   "id": "0db5d1d4",
   "metadata": {},
   "outputs": [],
   "source": [
    "import uproot\n",
    "import boost_histogram as bh\n",
    "import matplotlib.pyplot as plt\n",
    "import matplotlib as mpl\n",
    "import mplhep as hep\n",
    "import awkward as ak\n",
    "import pandas as pd\n",
    "import numpy as np"
   ]
  },
  {
   "cell_type": "code",
   "execution_count": 2,
   "id": "4b207b1b",
   "metadata": {},
   "outputs": [],
   "source": [
    "import seaborn as sns\n",
    "def set_sns_color(*args):\n",
    "    sns.palplot(sns.color_palette(*args))\n",
    "    sns.set_palette(*args)"
   ]
  },
  {
   "cell_type": "code",
   "execution_count": 3,
   "id": "90105eb6",
   "metadata": {},
   "outputs": [],
   "source": [
    "use_helvet = True  ## true: use helvetica for plots, make sure the system have the font installed\n",
    "if use_helvet:\n",
    "    CMShelvet = hep.style.CMS\n",
    "    CMShelvet['font.sans-serif'] = ['Helvetica', 'Arial']\n",
    "    plt.style.use(CMShelvet)\n",
    "else:\n",
    "    plt.style.use(hep.style.CMS)"
   ]
  },
  {
   "cell_type": "code",
   "execution_count": 4,
   "id": "357ddecc",
   "metadata": {},
   "outputs": [],
   "source": [
    "import sys,os"
   ]
  },
  {
   "cell_type": "code",
   "execution_count": 5,
   "id": "6d280ca8",
   "metadata": {},
   "outputs": [],
   "source": [
    "#find root files in this dir\n",
    "def find_this_rootfiles(dir):\n",
    "    filename_list = os.listdir(dir)\n",
    "    files = []\n",
    "    for i, filename in enumerate(filename_list):\n",
    "        if(filename.find(\".root\")==-1): continue\n",
    "        files.append(filename)\n",
    "    return files\n",
    "\n",
    "def get_hist(array,weights,nbins=50,xmin=None, xmax=None,mergeflowbin=True):\n",
    "    if xmin is None:\n",
    "        xmin = ak.min(array)\n",
    "    if xmax is None:\n",
    "        xmax = ak.max(array)\n",
    "    bins  = bh.axis.Regular(nbins, xmin, xmax)\n",
    "    hist = bh.Histogram(bins)\n",
    "    hist.fill(array,weight=weights)\n",
    "    return hist"
   ]
  },
  {
   "cell_type": "code",
   "execution_count": 9,
   "id": "47f52ecf",
   "metadata": {},
   "outputs": [],
   "source": [
    "ori_dir = '/cms/user/guojl/Sample/2L2Q/UL_Legacy/2016/'\n",
    "samples_inf = {#name path cross Section\n",
    "                    'DY_pt50To100':['MC/DYJetsToLL_Pt-50To100_MatchEWPDG20_TuneCP5_13TeV-amcatnloFXFX-pythia8', 398.8],\n",
    "                    'DY_pt100To250':['MC/DYJetsToLL_Pt-100To250_MatchEWPDG20_TuneCP5_13TeV-amcatnloFXFX-pythia8',93.61],\n",
    "                    'DY_pt250To400':['MC/DYJetsToLL_Pt-250To400_MatchEWPDG20_TuneCP5_13TeV-amcatnloFXFX-pythia8',3.67],\n",
    "                    'DY_pt400To650':['MC/DYJetsToLL_Pt-400To650_MatchEWPDG20_TuneCP5_13TeV-amcatnloFXFX-pythia8',0.5],\n",
    "                    'DY_pt650ToInf':['MC/DYJetsToLL_Pt-650ToInf_MatchEWPDG20_TuneCP5_13TeV-amcatnloFXFX-pythia8',0.04704],\n",
    "                    'TTJets':['MC/TTJets_TuneCP5_13TeV-amcatnloFXFX-pythia8',831.76],\n",
    "                    'TTTo2L2Nu':['MC/TTTo2L2Nu_TuneCP5_13TeV-powheg-pythia8',1],\n",
    "                    'WW_TuneCP5':['MC/WW_TuneCP5_13TeV-pythia8',1],\n",
    "                    'WZTo2Q2L':['MC/WZTo2Q2L_mllmin4p0_TuneCP5_13TeV-amcatnloFXFX-pythia8',6.419],\n",
    "                    'ZZTo2Q2L':['MC/ZZTo2Q2L_mllmin4p0_TuneCP5_13TeV-amcatnloFXFX-pythia8',3.222],\n",
    "                    'Signal':'MC/Signal',\n",
    "                    'test':'MC/test',\n",
    "                    'Data':['Data/skimed/Data2016UL_noDuplicates.root',1],\n",
    "                    }\n",
    "\n",
    "MClists = ['DY_pt50To100','DY_pt100To250','DY_pt250To400','DY_pt400To650',\n",
    "              'TTJets',\n",
    "              'WZTo2Q2L',\n",
    "              'ZZTo2Q2L']\n",
    "\n",
    "lumi = {2016: 16.81, 2017: 41.53, 2018: 59.74}\n",
    "year=2016\n",
    "\n",
    "bininfo = {'mass2l':[28,40,140]}"
   ]
  },
  {
   "cell_type": "code",
   "execution_count": 10,
   "id": "26878703",
   "metadata": {},
   "outputs": [],
   "source": [
    "#var to draw\n",
    "nbins, xmin, xmax = bininfo['mass2l'][0], bininfo['mass2l'][1], bininfo['mass2l'][2]\n",
    "\n",
    "bins  = bh.axis.Regular(nbins, xmin, xmax)\n",
    "hist_DY = bh.Histogram(bins)\n",
    "hist_TTjst = bh.Histogram(bins)\n",
    "hist_VZ = bh.Histogram(bins)"
   ]
  },
  {
   "cell_type": "code",
   "execution_count": 19,
   "id": "2b1d1f7f",
   "metadata": {},
   "outputs": [
    {
     "ename": "ValueError",
     "evalue": "axes have different length",
     "output_type": "error",
     "traceback": [
      "\u001b[0;31m---------------------------------------------------------------------------\u001b[0m",
      "\u001b[0;31mValueError\u001b[0m                                Traceback (most recent call last)",
      "Input \u001b[0;32mIn [19]\u001b[0m, in \u001b[0;36m<cell line: 4>\u001b[0;34m()\u001b[0m\n\u001b[1;32m     23\u001b[0m temp_hist \u001b[38;5;241m=\u001b[39m get_hist(ak_arrays[\u001b[38;5;124m'\u001b[39m\u001b[38;5;124mmass2l\u001b[39m\u001b[38;5;124m'\u001b[39m],weights,nbins,xmin,xmax)\n\u001b[1;32m     25\u001b[0m \u001b[38;5;28;01mif\u001b[39;00m MClist\u001b[38;5;241m.\u001b[39mfind(\u001b[38;5;124m'\u001b[39m\u001b[38;5;124mDY\u001b[39m\u001b[38;5;124m'\u001b[39m)\u001b[38;5;241m!=\u001b[39m\u001b[38;5;241m-\u001b[39m\u001b[38;5;241m1\u001b[39m:\n\u001b[0;32m---> 26\u001b[0m     MChist_lists[\u001b[38;5;241m2\u001b[39m]\u001b[38;5;241m+\u001b[39m\u001b[38;5;241m=\u001b[39mtemp_hist\n\u001b[1;32m     27\u001b[0m \u001b[38;5;28;01mif\u001b[39;00m MClist\u001b[38;5;241m.\u001b[39mfind(\u001b[38;5;124m'\u001b[39m\u001b[38;5;124mTTJets\u001b[39m\u001b[38;5;124m'\u001b[39m)\u001b[38;5;241m!=\u001b[39m\u001b[38;5;241m-\u001b[39m\u001b[38;5;241m1\u001b[39m:\n\u001b[1;32m     28\u001b[0m     MChist_lists[\u001b[38;5;241m1\u001b[39m]\u001b[38;5;241m+\u001b[39m\u001b[38;5;241m=\u001b[39mtemp_hist\n",
      "File \u001b[0;32m/cms/user/guojl/miniconda/envs/uprootframe/lib/python3.8/site-packages/boost_histogram/_internal/hist.py:328\u001b[0m, in \u001b[0;36mHistogram.__iadd__\u001b[0;34m(self, other)\u001b[0m\n\u001b[1;32m    326\u001b[0m \u001b[38;5;28;01mif\u001b[39;00m \u001b[38;5;28misinstance\u001b[39m(other, (\u001b[38;5;28mint\u001b[39m, \u001b[38;5;28mfloat\u001b[39m)) \u001b[38;5;129;01mand\u001b[39;00m other \u001b[38;5;241m==\u001b[39m \u001b[38;5;241m0\u001b[39m:\n\u001b[1;32m    327\u001b[0m     \u001b[38;5;28;01mreturn\u001b[39;00m \u001b[38;5;28mself\u001b[39m\n\u001b[0;32m--> 328\u001b[0m \u001b[38;5;28;43mself\u001b[39;49m\u001b[38;5;241;43m.\u001b[39;49m\u001b[43m_compute_inplace_op\u001b[49m\u001b[43m(\u001b[49m\u001b[38;5;124;43m\"\u001b[39;49m\u001b[38;5;124;43m__iadd__\u001b[39;49m\u001b[38;5;124;43m\"\u001b[39;49m\u001b[43m,\u001b[49m\u001b[43m \u001b[49m\u001b[43mother\u001b[49m\u001b[43m)\u001b[49m\n\u001b[1;32m    330\u001b[0m \u001b[38;5;66;03m# Addition may change the axes if they can grow\u001b[39;00m\n\u001b[1;32m    331\u001b[0m \u001b[38;5;28mself\u001b[39m\u001b[38;5;241m.\u001b[39maxes \u001b[38;5;241m=\u001b[39m \u001b[38;5;28mself\u001b[39m\u001b[38;5;241m.\u001b[39m_generate_axes_()\n",
      "File \u001b[0;32m/cms/user/guojl/miniconda/envs/uprootframe/lib/python3.8/site-packages/boost_histogram/_internal/hist.py:401\u001b[0m, in \u001b[0;36mHistogram._compute_inplace_op\u001b[0;34m(self, name, other)\u001b[0m\n\u001b[1;32m    396\u001b[0m \u001b[38;5;28;01mdef\u001b[39;00m \u001b[38;5;21m_compute_inplace_op\u001b[39m(\n\u001b[1;32m    397\u001b[0m     \u001b[38;5;28mself\u001b[39m: H, name: \u001b[38;5;28mstr\u001b[39m, other: Union[\u001b[38;5;124m\"\u001b[39m\u001b[38;5;124mHistogram\u001b[39m\u001b[38;5;124m\"\u001b[39m, \u001b[38;5;124m\"\u001b[39m\u001b[38;5;124mnp.typing.NDArray[Any]\u001b[39m\u001b[38;5;124m\"\u001b[39m, \u001b[38;5;28mfloat\u001b[39m]\n\u001b[1;32m    398\u001b[0m ) \u001b[38;5;241m-\u001b[39m\u001b[38;5;241m>\u001b[39m H:\n\u001b[1;32m    399\u001b[0m     \u001b[38;5;66;03m# Also takes CppHistogram, but that confuses mypy because it's hard to pick out\u001b[39;00m\n\u001b[1;32m    400\u001b[0m     \u001b[38;5;28;01mif\u001b[39;00m \u001b[38;5;28misinstance\u001b[39m(other, Histogram):\n\u001b[0;32m--> 401\u001b[0m         \u001b[38;5;28;43mgetattr\u001b[39;49m\u001b[43m(\u001b[49m\u001b[38;5;28;43mself\u001b[39;49m\u001b[38;5;241;43m.\u001b[39;49m\u001b[43m_hist\u001b[49m\u001b[43m,\u001b[49m\u001b[43m \u001b[49m\u001b[43mname\u001b[49m\u001b[43m)\u001b[49m\u001b[43m(\u001b[49m\u001b[43mother\u001b[49m\u001b[38;5;241;43m.\u001b[39;49m\u001b[43m_hist\u001b[49m\u001b[43m)\u001b[49m\n\u001b[1;32m    402\u001b[0m     \u001b[38;5;28;01melif\u001b[39;00m \u001b[38;5;28misinstance\u001b[39m(other, \u001b[38;5;28mtuple\u001b[39m(_histograms)):\n\u001b[1;32m    403\u001b[0m         \u001b[38;5;28mgetattr\u001b[39m(\u001b[38;5;28mself\u001b[39m\u001b[38;5;241m.\u001b[39m_hist, name)(other)\n",
      "\u001b[0;31mValueError\u001b[0m: axes have different length"
     ]
    }
   ],
   "source": [
    "#extract branch and fill hists for MC\n",
    "MChist_lists = [bh.Histogram(),bh.Histogram(),bh.Histogram()] #WZ,ZZ TTJets DY\n",
    "for MClist in MClists:\n",
    "    indir = ori_dir+samples_inf[MClist][0]+'/skimed'\n",
    "    files = find_this_rootfiles(indir)\n",
    "    \n",
    "    sumWeight = 0\n",
    "    for file in files:\n",
    "        with uproot.open(f'{indir}/{file}') as f:\n",
    "            this_sumWeight_h = f['sumWeights'].to_boost()\n",
    "            this_sumWeight = this_sumWeight_h.sum()\n",
    "            #print(f'this sum weight = {this_sumWeight}')\n",
    "            sumWeight += this_sumWeight\n",
    "            \n",
    "    #cut='passedfullmerged & particleNetZvsQCD>0.9'\n",
    "    #ak_arrays = event.arrays(['pt2l','mass2l','EventWeight'],cut,library=\"ak\")\n",
    "    ak_arrays = uproot.lazy([f\"{indir}/*.root:passedEvents\"],filter_name=['pt2l','mass2l','EventWeight','foundZ1LCandidate','passedfullmerged','passedfullresolved','particleNetZvsQCD'])\n",
    "    cut_array = ak_arrays['passedfullresolved']\n",
    "    ak_arrays = ak_arrays[cut_array]\n",
    "    \n",
    "    weights = (ak_arrays['EventWeight']*lumi[2016]*1000*samples_inf[MClist][1])/sumWeight\n",
    "    temp_hist = get_hist(ak_arrays['mass2l'],weights,nbins,xmin,xmax)\n",
    "    \n",
    "    if MClist.find('DY')!=-1:\n",
    "        MChist_lists[2]+=temp_hist\n",
    "    if MClist.find('TTJets')!=-1:\n",
    "        MChist_lists[1]+=temp_hist\n",
    "    if MClist.find('WZTo2Q2L')!=-1 or MClist.find('ZZTo2Q2L')!=-1:\n",
    "        MChist_lists[0]+=temp_hist\n",
    "\n",
    "#extract branch and fill hists for Data\n",
    "data_path = ori_dir+samples_inf['Data'][0]\n",
    "ak_arrays = uproot.lazy([f\"{data_path}:passedEvents\"],filter_name=['pt2l','mass2l','EventWeight','foundZ1LCandidate','passedfullmerged','passedfullresolved','particleNetZvsQCD'])\n",
    "cut_array = ak_arrays['passedfullresolved']\n",
    "ak_arrays = ak_arrays[cut_array]\n",
    "weights = ak_arrays['EventWeight']\n",
    "Data_hist = get_hist(ak_arrays['mass2l'],weights,nbins,xmin,xmax)"
   ]
  },
  {
   "cell_type": "code",
   "execution_count": 18,
   "id": "f0b2524f",
   "metadata": {},
   "outputs": [
    {
     "data": {
      "text/plain": [
       "Histogram(storage=Double())"
      ]
     },
     "execution_count": 18,
     "metadata": {},
     "output_type": "execute_result"
    }
   ],
   "source": [
    "h = bh.Histogram()\n",
    "h"
   ]
  },
  {
   "cell_type": "code",
   "execution_count": 68,
   "id": "d7e6c3bf",
   "metadata": {},
   "outputs": [],
   "source": [
    "color_order = sns.color_palette('Accent', 3)\n",
    "color_order.reverse()"
   ]
  },
  {
   "cell_type": "code",
   "execution_count": 43,
   "id": "e4375997",
   "metadata": {},
   "outputs": [
    {
     "data": {
      "text/plain": [
       "[Histogram(Regular(28, 40, 140), storage=Double()) # Sum: 3462.552245213883 (3498.916073288885 with flow),\n",
       " Histogram(Regular(28, 40, 140), storage=Double()) # Sum: 24487.853026453406 (30045.565183278173 with flow),\n",
       " Histogram(Regular(28, 40, 140), storage=Double()) # Sum: 120243.02058190922 (121558.3467242315 with flow)]"
      ]
     },
     "execution_count": 43,
     "metadata": {},
     "output_type": "execute_result"
    }
   ],
   "source": [
    "h=[hist_lists[0][0]+hist_lists[0][1],hist_lists[1][0],hist_lists[2][0]+hist_lists[2][1]+hist_lists[2][2]+hist_lists[2][3]]\n",
    "h"
   ]
  },
  {
   "cell_type": "code",
   "execution_count": 72,
   "id": "52b3ec12",
   "metadata": {},
   "outputs": [
    {
     "data": {
      "text/plain": [
       "[<matplotlib.lines.Line2D at 0x7f8bee9b2eb0>]"
      ]
     },
     "execution_count": 72,
     "metadata": {},
     "output_type": "execute_result"
    },
    {
     "data": {
      "image/png": "[encoded data removed]",
      "text/plain": [
       "<Figure size 216x72 with 1 Axes>"
      ]
     },
     "metadata": {
      "needs_background": "light"
     },
     "output_type": "display_data"
    },
    {
     "data": {
      "image/png": "[encoded data removed]",
      "text/plain": [
       "<Figure size 864x864 with 2 Axes>"
      ]
     },
     "metadata": {
      "needs_background": "light"
     },
     "output_type": "display_data"
    }
   ],
   "source": [
    "set_sns_color(color_order)\n",
    "f = plt.figure(figsize=(12,12))\n",
    "gs = mpl.gridspec.GridSpec(2, 1, height_ratios=[3, 1], hspace=0)\n",
    "## Upper histogram panel\n",
    "ax = f.add_subplot(gs[0])\n",
    "hep.cms.label(data=True, year=year, ax=ax, rlabel=r'%s $fb^{-1}$ (13 TeV)'%lumi[year], fontname='sans-serif')\n",
    "ax.set_xlim(xmin, xmax); ax.set_xticklabels([]);\n",
    "ax.set_ylabel('Events / bin', ha='right', y=1.0)\n",
    "#content = hist.values()\n",
    "hep.cms.label(data=True, year=year, ax=ax, rlabel=r'%s $fb^{-1}$ (13 TeV)'%lumi[year], fontname='sans-serif')\n",
    "#hep.histplot(content, bins=edge, label=\"MC\",histtype='fill', edgecolor='k', linewidth=1, stack=True) ## draw MC\n",
    "hep.histplot(h,label=[f'MC ({var})' for var in ['WZ,ZZ','TTjets','Z+jets']],histtype='fill', edgecolor='k', linewidth=1, stack=True) ## draw MC\n",
    "ax.set_xlim(xmin, xmax); ax.set_xticklabels([]);\n",
    "ax.set_ylabel('Events / bin', ha='right', y=1.0);\n",
    "#plt.ticklabel_format(axis=\"y\", style='sci')\n",
    "ax.legend()\n",
    "\n",
    "## Ratio panel\n",
    "ax1 = f.add_subplot(gs[1]); ax1.set_xlim(xmin, xmax); ax1.set_ylim(0.001, 1.999)\n",
    "ax1.set_xlabel('M(ll)', ha='right', x=1.0); ax1.set_ylabel('Data / MC', ha='center')\n",
    "ax1.plot([xmin,xmax], [1,1], 'k'); ax1.plot([xmin,xmax], [0.5,0.5], 'k:'); ax1.plot([xmin,xmax], [1.5,1.5], 'k:')"
   ]
  },
  {
   "cell_type": "code",
   "execution_count": 73,
   "id": "411600f6",
   "metadata": {},
   "outputs": [
    {
     "data": {
      "text/html": [
       "<svg  width=\"165\" height=\"55\"><rect x=\"0\" y=\"0\" width=\"55\" height=\"55\" style=\"fill:#001c7f;stroke-width:2;stroke:rgb(255,255,255)\"/><rect x=\"55\" y=\"0\" width=\"55\" height=\"55\" style=\"fill:#b1400d;stroke-width:2;stroke:rgb(255,255,255)\"/><rect x=\"110\" y=\"0\" width=\"55\" height=\"55\" style=\"fill:#12711c;stroke-width:2;stroke:rgb(255,255,255)\"/></svg>"
      ],
      "text/plain": [
       "[(0.0, 0.10980392156862745, 0.4980392156862745),\n",
       " (0.6941176470588235, 0.25098039215686274, 0.050980392156862744),\n",
       " (0.07058823529411765, 0.44313725490196076, 0.10980392156862745)]"
      ]
     },
     "execution_count": 73,
     "metadata": {},
     "output_type": "execute_result"
    }
   ],
   "source": [
    "color_order = sns.color_palette('dark', 3)\n",
    "color_order"
   ]
  },
  {
   "cell_type": "code",
   "execution_count": null,
   "id": "1ff33adc",
   "metadata": {},
   "outputs": [],
   "source": []
  }
 ],
 "metadata": {
  "kernelspec": {
   "display_name": "Python 3 (ipykernel)",
   "language": "python",
   "name": "python3"
  },
  "language_info": {
   "codemirror_mode": {
    "name": "ipython",
    "version": 3
   },
   "file_extension": ".py",
   "mimetype": "text/x-python",
   "name": "python",
   "nbconvert_exporter": "python",
   "pygments_lexer": "ipython3",
   "version": "3.8.12"
  }
 },
 "nbformat": 4,
 "nbformat_minor": 5
}
