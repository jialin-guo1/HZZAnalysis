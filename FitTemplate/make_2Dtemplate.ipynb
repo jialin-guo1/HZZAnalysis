{
 "cells": [
  {
   "cell_type": "code",
   "execution_count": 1,
   "metadata": {},
   "outputs": [
    {
     "name": "stderr",
     "output_type": "stream",
     "text": [
      "usage: ipykernel_launcher.py [-h] [-y YEAR] [-c CAT]\n",
      "ipykernel_launcher.py: error: unrecognized arguments: -f /afs/ihep.ac.cn/users/g/guojl/.local/share/jupyter/runtime/kernel-bfae9cf3-6bd0-4efb-8ef7-be2992049314.json\n"
     ]
    },
    {
     "ename": "SystemExit",
     "evalue": "2",
     "output_type": "error",
     "traceback": [
      "An exception has occurred, use %tb to see the full traceback.\n",
      "\u001b[0;31mSystemExit\u001b[0m\u001b[0;31m:\u001b[0m 2\n"
     ]
    },
    {
     "name": "stderr",
     "output_type": "stream",
     "text": [
      "/cms/user/guojl/miniconda/envs/uprootframe/lib/python3.8/site-packages/IPython/core/interactiveshell.py:3369: UserWarning: To exit: use 'exit', 'quit', or Ctrl-D.\n",
      "  warn(\"To exit: use 'exit', 'quit', or Ctrl-D.\", stacklevel=1)\n"
     ]
    }
   ],
   "source": [
    "import uproot\n",
    "import boost_histogram as bh\n",
    "import matplotlib.pyplot as plt\n",
    "import matplotlib as mpl\n",
    "import mplhep as hep\n",
    "import awkward1 as ak\n",
    "import pandas as pd\n",
    "import numpy as np\n",
    "import seaborn as sns\n",
    "\n",
    "\n",
    "#===========================================load config file====================================================================\n",
    "import sys,os\n",
    "sys.path.append(\"/cms/user/guojl/ME_test/CMSSW_10_6_26/src/HZZAnalysis/lib\")\n",
    "from utils import *\n",
    "\n",
    "import yaml\n",
    "sf_particleNet_signal = {}\n",
    "with open('/cms/user/guojl/ME_test/CMSSW_10_6_26/src/HZZAnalysis/cards/NetSF_signal_2016Legacy.yml') as f:\n",
    "    sf_particleNet_signal = yaml.safe_load(f)\n",
    "config = {}\n",
    "with open(\"/cms/user/guojl/ME_test/CMSSW_10_6_26/src/HZZAnalysis/cards/config_UL16.yml\") as f:\n",
    "    config = yaml.safe_load(f)\n",
    "\n",
    "outfilepath = \"/cms/user/guojl/ME_test/CMSSW_10_6_26/src/HZZAnalysis/BackgroundEstimation/ttoutfile\"\n",
    "year = '2016'; cat='net'\n",
    "#==================================================set plot color==================================================\n",
    "def set_sns_color(*args):\n",
    "    sns.palplot(sns.color_palette(*args))\n",
    "    sns.set_palette(*args)\n",
    "    \n",
    "color_order_bkg = sns.color_palette('Accent', 3)\n",
    "color_order_bkg.reverse()\n",
    "\n",
    "use_helvet = True  ## true: use helvetica for plots, make sure the system have the font installed\n",
    "if use_helvet:\n",
    "    CMShelvet = hep.style.CMS\n",
    "    CMShelvet['font.sans-serif'] = ['Helvetica', 'Arial']\n",
    "    plt.style.use(CMShelvet)\n",
    "else:\n",
    "    plt.style.use(hep.style.CMS)\n",
    "#=================================================================================================================================================================================================\n",
    "#=================================================================================================================================================================================================\n",
    "#=================================================================================================================================================================================================\n",
    "bkg_array,signal_array,data_array,sumWeight = extractCutedBranch(config,year,cat)\n",
    "\n",
    "##===================================================================================================================================================================\n",
    "def Conditional_norm_2Dhisto(h,nbins):\n",
    "    temp_h = h\n",
    "    for bin in range(0,nbins):\n",
    "        nevents = temp_h[bin,:].values(flow=False).sum()\n",
    "        if(nevents==0.0): continue\n",
    "        #temp_h.view(flow=False).value[bin,:]  = np.nan_to_num(temp_h.view(flow=False).value[bin,:],0.0)\n",
    "        temp_h.view(flow=False).value[bin,:] = temp_h.view(flow=False).value[bin,:]/nevents\n",
    "    return temp_h"
   ]
  },
  {
   "cell_type": "code",
   "execution_count": 19,
   "metadata": {},
   "outputs": [
    {
     "name": "stdout",
     "output_type": "stream",
     "text": [
      "This is DY_pt50To100 in 2lep\n",
      "This is DY_pt100To250 in 2lep\n",
      "This is DY_pt250To400 in 2lep\n",
      "This is DY_pt400To650 in 2lep\n",
      "This is DY_pt650ToInf in 2lep\n",
      "This is TTJets in 2lep\n",
      "This is WZTo2Q2L in 2lep\n",
      "This is ZZTo2Q2L in 2lep\n",
      "This is WWTo2L2Nu in 2lep\n",
      "This is Data in 2lep\n",
      "data weight  = [1, 1, 1, 1, 1, 1, 1, 1, 1, 1, 1, 1, 1, 1, ... 1, 1, 1, 1, 1, 1, 1, 1, 1, 1, 1, 1, 1]\n",
      "This is DY_pt50To100 in 2lep\n",
      "This is DY_pt100To250 in 2lep\n",
      "This is DY_pt250To400 in 2lep\n",
      "This is DY_pt400To650 in 2lep\n",
      "This is DY_pt650ToInf in 2lep\n",
      "This is TTJets in 2lep\n",
      "This is WZTo2Q2L in 2lep\n",
      "This is ZZTo2Q2L in 2lep\n",
      "This is WWTo2L2Nu in 2lep\n",
      "This is Data in 2lep\n",
      "data weight  = [1, 1, 1, 1, 1, 1, 1, 1, 1, 1, 1, 1, 1, 1, ... 1, 1, 1, 1, 1, 1, 1, 1, 1, 1, 1, 1, 1]\n"
     ]
    }
   ],
   "source": [
    "massZZ_low_bins = np.linspace(500,1700,25)\n",
    "#massZZ_high_bins = np.array([2000,3500])\n",
    "massZZ_high_bins = np.array([2000,4000])\n",
    "massZZ_bins = bh.axis.Variable(ak.from_numpy(np.append(massZZ_low_bins,massZZ_high_bins)).to_list())\n",
    "regions = ['CR','SR']\n",
    "#reg = 'SR'\n",
    "print(f'massZZ bins = {massZZ_bins}')\n",
    "\n",
    "if(cat=='ak4'):\n",
    "    massZZ='mass2l2jet'; kd = 'KD_Zjj'; case= 'resolved'\n",
    "elif(cat=='net'):\n",
    "    massZZ='mass2l2jet'; kd = 'KD_ZJ'; case='merged'\n",
    "\n",
    "Alph_path = f'/cms/user/guojl/ME_test/CMSSW_10_6_26/src/HZZAnalysis/BackgroundEstimation/AlphaFile/AlphaRaioVaildation_{case}.root'\n",
    "Alph_array = uproot.lazy([f\"{Alph_path}:alphatree\"])\n",
    "\n",
    "nbins, xmin, xmax = config['bininfo'][kd][0], config['bininfo'][kd][1], config['bininfo'][kd][2]\n",
    "with uproot.recreate(f'FitTemplate/template_{case}_{year}.root') as outfile:\n",
    "    cat = '2lep'\n",
    "    bkg_hists = {}; Data_hist = {}; signal_hists = {}\n",
    "    for reg in regions:\n",
    "        bkg_hists[reg] = {}; Data_hist[reg] = {}; signal_hists[reg] = {}\n",
    "        bkg_hists[reg][cat] = [None,None,None]; Data_hist[reg][cat] = None; signal_hists[reg][cat] = {}\n",
    "        signal_hists[reg][cat] = {'ggh':bh.Histogram(massZZ_bins,bh.axis.Regular(50, 0, 1),storage=bh.storage.Weight()),\n",
    "                              'vbf':bh.Histogram(massZZ_bins,bh.axis.Regular(50, 0, 1),storage=bh.storage.Weight())}\n",
    "\n",
    "        for sample in config['Samples_lists']:\n",
    "            print(f\"This is {sample} in {cat}\")\n",
    "            if sample!='Data':\n",
    "                if sample.find('DY')!=-1 and reg==\"CR\": continue\n",
    "                temp_array = bkg_array[reg][cat][sample]\n",
    "                #retray weight and apply paritcleNet weight\n",
    "                weights = (temp_array['EventWeight']*config['lumi'][year]*1000*config['samples_inf'][sample][1])/sumWeight[sample]\n",
    "\n",
    "                if (sample == 'ZZTo2Q2L' or sample =='WZTo2Q2L') and cat=='net':\n",
    "                    sf_Net = GetParticleNetSignalSF(temp_array,'ZvsQCD',sf_particleNet_signal)   \n",
    "                else:\n",
    "                    sf_Net = ak.ones_like(temp_array['EventWeight'])\n",
    "                weights = weights*sf_Net\n",
    "\n",
    "\n",
    "                #temp_hist = get_hist(temp_array[var],weights,nbins,xmin,xmax)\n",
    "                temp_hist = bh.Histogram(massZZ_bins,bh.axis.Regular(50, 0, 1),storage=bh.storage.Weight())\n",
    "                temp_hist.fill(temp_array[massZZ],temp_array[kd],weight = weights)\n",
    "                \n",
    "                if sample.find('DY')!=-1:\n",
    "                    if (bkg_hists[reg][cat])[2]==None:\n",
    "                        (bkg_hists[reg][cat])[2] = temp_hist\n",
    "                    else:\n",
    "                        (bkg_hists[reg][cat])[2]+=temp_hist\n",
    "                if sample.find('TTJets')!=-1 or sample.find('WWTo2L2Nu')!=-1:\n",
    "                    if (bkg_hists[reg][cat])[1]==None:\n",
    "                        (bkg_hists[reg][cat])[1] = temp_hist\n",
    "                    else:\n",
    "                        (bkg_hists[reg][cat])[1]+=temp_hist\n",
    "                if sample.find('WZTo2Q2L')!=-1 or sample.find('ZZTo2Q2L')!=-1:\n",
    "                    if (bkg_hists[reg][cat])[0]==None:\n",
    "                        (bkg_hists[reg][cat])[0] = temp_hist\n",
    "                    else:\n",
    "                        (bkg_hists[reg][cat])[0]+=temp_hist\n",
    "            else:\n",
    "                temp_array = data_array[reg][cat]\n",
    "                weights = np.ones_like(temp_array['EventWeight'])\n",
    "                print(f'data weight  = {weights}')\n",
    "                #Data_hist[reg][cat] = get_hist(temp_array[var],weights,nbins,xmin,xmax)\n",
    "                Data_hist[reg][cat] = bh.Histogram(massZZ_bins,bh.axis.Regular(50, 0, 1),storage=bh.storage.Weight())\n",
    "                Data_hist[reg][cat].fill(temp_array[massZZ],temp_array[kd],weight=weights)\n",
    "                #Data_hist[reg][cat] = temp_hist\n",
    "\n",
    "        if(year!='2016APV' and year!='2017'):\n",
    "            for sample in config['signal_lists']:\n",
    "                temp_array = signal_array[reg][cat][sample]\n",
    "                if year=='2016': \n",
    "                    weights = (temp_array['EventWeight']*36.33*1000*config['samples_inf'][sample][1])/sumWeight[sample]\n",
    "                else:\n",
    "                    weights = (temp_array['EventWeight']*config['lumi'][year]*config['samples_inf'][sample][1])/sumWeight[sample]\n",
    "                if cat=='net':\n",
    "                    sf_Net = GetParticleNetSignalSF(temp_array,'ZvsQCD',sf_particleNet_signal) \n",
    "                else:\n",
    "                    sf_Net = ak.ones_like(temp_array['EventWeight'])\n",
    "                weights = weights*sf_Net\n",
    "\n",
    "                temp_hist = bh.Histogram(massZZ_bins,bh.axis.Regular(50, 0, 1),storage=bh.storage.Weight())\n",
    "                temp_hist.fill(temp_array[massZZ],temp_array[kd],weight = weights)\n",
    "\n",
    "                if sample.find('ggh')!=-1:\n",
    "                    signal_hists[reg][cat]['ggh'] = signal_hists[reg][cat]['ggh']+temp_hist\n",
    "                elif sample.find('vbf')!=-1:\n",
    "                    signal_hists[reg][cat]['vbf'] = signal_hists[reg][cat]['vbf']+temp_hist"
   ]
  },
  {
   "cell_type": "markdown",
   "metadata": {},
   "source": [
    "## TEST"
   ]
  },
  {
   "cell_type": "code",
   "execution_count": 20,
   "metadata": {},
   "outputs": [],
   "source": [
    "def Conditional_norm_2Dhisto(h,nbins):\n",
    "    temp_h = h\n",
    "    for bin in range(0,nbins):\n",
    "        nevents = temp_h.values(flow=False).sum()\n",
    "        temp_h.view(flow=False).value[bin,:] = temp_h.view(flow=False).value[bin,:]/nevents\n",
    "    return temp_h"
   ]
  },
  {
   "cell_type": "code",
   "execution_count": null,
   "metadata": {},
   "outputs": [],
   "source": []
  },
  {
   "cell_type": "markdown",
   "metadata": {},
   "source": [
    "### Z+jet"
   ]
  },
  {
   "cell_type": "code",
   "execution_count": 4,
   "metadata": {},
   "outputs": [
    {
     "data": {
      "text/plain": [
       "array([3.596e+03, 2.070e+02, 5.800e+01, 1.700e+01, 1.100e+01, 1.000e+00,\n",
       "       0.000e+00, 0.000e+00, 0.000e+00, 0.000e+00, 0.000e+00, 0.000e+00,\n",
       "       0.000e+00, 0.000e+00, 0.000e+00, 0.000e+00, 0.000e+00, 0.000e+00,\n",
       "       0.000e+00, 0.000e+00])"
      ]
     },
     "execution_count": 4,
     "metadata": {},
     "output_type": "execute_result"
    }
   ],
   "source": [
    "Data_hist['CR']['2lep'].view(flow=False).value[0,:]"
   ]
  },
  {
   "cell_type": "code",
   "execution_count": 5,
   "metadata": {},
   "outputs": [
    {
     "data": {
      "text/plain": [
       "array([348., 238., 175., 140., 114., 128.,  90.,  79.,  71.,  57.,  58.,\n",
       "        63.,  58.,  50.,  55.,  49.,  66.,  51.,  73.,  70.])"
      ]
     },
     "execution_count": 5,
     "metadata": {},
     "output_type": "execute_result"
    }
   ],
   "source": [
    "Data_hist['SR']['2lep'].view(flow=False).value[0,:]"
   ]
  },
  {
   "cell_type": "code",
   "execution_count": 6,
   "metadata": {},
   "outputs": [
    {
     "data": {
      "text/plain": [
       "array([348., 238., 175., 140., 114., 128.,  90.,  79.,  71.,  57.,  58.,\n",
       "        63.,  58.,  50.,  55.,  49.,  66.,  51.,  73.,  70.])"
      ]
     },
     "execution_count": 6,
     "metadata": {},
     "output_type": "execute_result"
    }
   ],
   "source": [
    "Data_hist['CR']['2lep'].view(flow=False).value[0,:] = bkg_hist['SR']['2lep'][2].view(flow=False).value[0,:]\n",
    "Data_hist['CR']['2lep'].view(flow=False).value[0,:]"
   ]
  },
  {
   "cell_type": "code",
   "execution_count": 11,
   "metadata": {},
   "outputs": [
    {
     "data": {
      "text/plain": [
       "26"
      ]
     },
     "execution_count": 11,
     "metadata": {},
     "output_type": "execute_result"
    }
   ],
   "source": [
    "xbins = Data_hist['CR']['2lep'].axes.size[0]\n",
    "xbins"
   ]
  },
  {
   "cell_type": "code",
   "execution_count": 16,
   "metadata": {},
   "outputs": [],
   "source": [
    "for x in range(0,xbins):\n",
    "    Data_hist['CR']['2lep'].view(flow=False).value[x,:] = bkg_hists['SR']['2lep'][2].view(flow=False).value[x,:]\n"
   ]
  },
  {
   "cell_type": "code",
   "execution_count": 17,
   "metadata": {},
   "outputs": [
    {
     "data": {
      "text/plain": [
       "[StairsArtists(stairs=<matplotlib.patches.StepPatch object at 0x7f2c44daf7c0>, errorbar=None, legend_artist=None)]"
      ]
     },
     "execution_count": 17,
     "metadata": {},
     "output_type": "execute_result"
    },
    {
     "data": {
      "image/png": "[encoded data removed]",
      "text/plain": [
       "<Figure size 720x720 with 1 Axes>"
      ]
     },
     "metadata": {
      "needs_background": "light"
     },
     "output_type": "display_data"
    }
   ],
   "source": [
    "hep.histplot(Data_hist['CR']['2lep'].view(flow=False).value[0,:])"
   ]
  },
  {
   "cell_type": "code",
   "execution_count": 21,
   "metadata": {},
   "outputs": [],
   "source": [
    "\n",
    "reg='SR'"
   ]
  },
  {
   "cell_type": "code",
   "execution_count": 12,
   "metadata": {},
   "outputs": [
    {
     "data": {
      "text/plain": [
       "ColormeshArtists(pcolormesh=<matplotlib.collections.QuadMesh object at 0x7f2b3500fee0>, cbar=<matplotlib.colorbar.Colorbar object at 0x7f2b35020340>, text=[])"
      ]
     },
     "execution_count": 12,
     "metadata": {},
     "output_type": "execute_result"
    },
    {
     "data": {
      "image/png": "[encoded data removed]",
      "text/plain": [
       "<Figure size 720x720 with 2 Axes>"
      ]
     },
     "metadata": {
      "needs_background": "light"
     },
     "output_type": "display_data"
    }
   ],
   "source": [
    "sig_hist = (signal_hists[reg][cat]['ggh']+signal_hists[reg][cat]['vbf'])\n",
    "hep.hist2dplot(sig_hist)"
   ]
  },
  {
   "cell_type": "code",
   "execution_count": 24,
   "metadata": {},
   "outputs": [
    {
     "data": {
      "text/plain": [
       "52635.147334788926"
      ]
     },
     "execution_count": 24,
     "metadata": {},
     "output_type": "execute_result"
    }
   ],
   "source": [
    "nevents = sig_hist.view(flow=False).value.sum()\n",
    "nevents"
   ]
  },
  {
   "cell_type": "code",
   "execution_count": 26,
   "metadata": {},
   "outputs": [
    {
     "data": {
      "text/plain": [
       "ColormeshArtists(pcolormesh=<matplotlib.collections.QuadMesh object at 0x7f947f8a2fd0>, cbar=<matplotlib.colorbar.Colorbar object at 0x7f947f8ae310>, text=[])"
      ]
     },
     "execution_count": 26,
     "metadata": {},
     "output_type": "execute_result"
    },
    {
     "data": {
      "image/png": "[encoded data removed]",
      "text/plain": [
       "<Figure size 720x720 with 2 Axes>"
      ]
     },
     "metadata": {
      "needs_background": "light"
     },
     "output_type": "display_data"
    }
   ],
   "source": [
    "sig_hist.view(flow=False).value = sig_hist.view(flow=False).value*weight_one\n",
    "hep.hist2dplot(sig_hist)"
   ]
  },
  {
   "cell_type": "code",
   "execution_count": 30,
   "metadata": {},
   "outputs": [
    {
     "data": {
      "text/plain": [
       "26"
      ]
     },
     "execution_count": 30,
     "metadata": {},
     "output_type": "execute_result"
    }
   ],
   "source": [
    "sig_hist.axes.size[0]"
   ]
  },
  {
   "cell_type": "code",
   "execution_count": 36,
   "metadata": {},
   "outputs": [
    {
     "data": {
      "text/plain": [
       "7651.110458116047"
      ]
     },
     "execution_count": 36,
     "metadata": {},
     "output_type": "execute_result"
    }
   ],
   "source": [
    "sig_hist[0,:].values(flow=False).sum()"
   ]
  },
  {
   "cell_type": "code",
   "execution_count": 38,
   "metadata": {},
   "outputs": [],
   "source": [
    "for i in range(0,26):\n",
    "    nevents = sig_hist[i,:].values(flow=False).sum()\n",
    "    sig_hist.view(flow=False).value[i,:] = sig_hist.view(flow=False).value[i,:]/nevents"
   ]
  },
  {
   "cell_type": "code",
   "execution_count": 39,
   "metadata": {},
   "outputs": [
    {
     "data": {
      "text/plain": [
       "ColormeshArtists(pcolormesh=<matplotlib.collections.QuadMesh object at 0x7f2b349f0340>, cbar=<matplotlib.colorbar.Colorbar object at 0x7f2b34a6efa0>, text=[])"
      ]
     },
     "execution_count": 39,
     "metadata": {},
     "output_type": "execute_result"
    },
    {
     "data": {
      "image/png": "[encoded data removed]",
      "text/plain": [
       "<Figure size 720x720 with 2 Axes>"
      ]
     },
     "metadata": {
      "needs_background": "light"
     },
     "output_type": "display_data"
    }
   ],
   "source": [
    "hep.hist2dplot(sig_hist)"
   ]
  },
  {
   "cell_type": "code",
   "execution_count": null,
   "metadata": {},
   "outputs": [],
   "source": [
    "Data_hist['CR']['2lep'].sum(flow=False)"
   ]
  },
  {
   "cell_type": "code",
   "execution_count": 18,
   "metadata": {},
   "outputs": [
    {
     "data": {
      "text/plain": [
       "26"
      ]
     },
     "execution_count": 18,
     "metadata": {},
     "output_type": "execute_result"
    }
   ],
   "source": [
    "massZZ_bins.size"
   ]
  },
  {
   "cell_type": "code",
   "execution_count": null,
   "metadata": {},
   "outputs": [],
   "source": []
  }
 ],
 "metadata": {
  "kernelspec": {
   "display_name": "Python 3.8.12",
   "language": "python",
   "name": "python3"
  },
  "language_info": {
   "codemirror_mode": {
    "name": "ipython",
    "version": 3
   },
   "file_extension": ".py",
   "mimetype": "text/x-python",
   "name": "python",
   "nbconvert_exporter": "python",
   "pygments_lexer": "ipython3",
   "version": "3.8.12"
  },
  "orig_nbformat": 4,
  "vscode": {
   "interpreter": {
    "hash": "4f1650c5957004eab59b4c5750b0e19405ac261edfa12e93067e108f80b5ccd8"
   }
  }
 },
 "nbformat": 4,
 "nbformat_minor": 2
}
