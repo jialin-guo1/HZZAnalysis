{
 "cells": [
  {
   "cell_type": "code",
   "execution_count": 1,
   "metadata": {},
   "outputs": [],
   "source": [
    "import hist \n",
    "import uproot\n",
    "import sys,os\n",
    "import math\n",
    "import mplhep as hep\n",
    "import seaborn as sns\n",
    "import matplotlib.pyplot as plt\n",
    "sys.path.append(\"/cms/user/guojl/ME_test/CMSSW_10_6_26/src/HZZAnalysis/lib\")\n",
    "from utils import *\n",
    "from setting import setting"
   ]
  },
  {
   "cell_type": "code",
   "execution_count": 72,
   "metadata": {},
   "outputs": [],
   "source": [
    "massList = []\n",
    "for mass in range(500,1000,50):\n",
    "    massList.append(mass)\n",
    "for mass in range(1000,1600,100):\n",
    "    massList.append(mass)\n",
    "for mass in range(1600,3200,200):\n",
    "    massList.append(mass)"
   ]
  },
  {
   "cell_type": "code",
   "execution_count": 3,
   "metadata": {},
   "outputs": [
    {
     "name": "stdout",
     "output_type": "stream",
     "text": [
      "[INFO] Add TTTo2L2Nu\n",
      "[INFO] Add WWTo2L2Nu\n",
      "[INFO] Add WZTo2Q2L\n",
      "[INFO] Add ZZTo2Q2L\n"
     ]
    },
    {
     "data": {
      "image/png": "[encoded data removed]",
      "text/plain": [
       "<Figure size 216x72 with 1 Axes>"
      ]
     },
     "metadata": {
      "needs_background": "light"
     },
     "output_type": "display_data"
    }
   ],
   "source": [
    "use_helvet = True  ## true: use helvetica for plots, make sure the system have the font installed\n",
    "if use_helvet:\n",
    "    CMShelvet = hep.style.CMS\n",
    "    CMShelvet['font.sans-serif'] = ['Helvetica', 'Arial']\n",
    "    plt.style.use(CMShelvet)\n",
    "else:\n",
    "    plt.style.use(hep.style.CMS)\n",
    "\n",
    "#setMcDataPlotsColor\n",
    "def set_sns_color(*args):\n",
    "   sns.palplot(sns.color_palette(*args))\n",
    "   sns.set_palette(*args)\n",
    "   pass\n",
    "color_order_bkg = sns.color_palette('Accent', 3)\n",
    "color_order_bkg.reverse()\n",
    "set_sns_color(color_order_bkg)\n",
    "\n",
    "\n",
    "year = '2018'; cutcat = 'resloved'\n",
    "cat = '2lep'\n",
    "tag = 'all'\n",
    "reg = 'SR'\n",
    "\n",
    "inbkgfile = uproot.open(f'/cms/user/guojl/ME_test/CMSSW_10_6_26/src/HZZAnalysis/hist_{year}.root')\n",
    "\n",
    "varb = 'mass2l2jet_rebin'\n",
    "hist_bkg = None\n",
    "hist_sig = None\n",
    "\n",
    "#add TTbar and vz\n",
    "samplelist = ['TTTo2L2Nu','WWTo2L2Nu','WZTo2Q2L','ZZTo2Q2L']\n",
    "#with uproot.open(inbkgfile) as file:\n",
    "for sample in samplelist:\n",
    "    print(f'[INFO] Add {sample}')\n",
    "    if(hist_bkg==None):\n",
    "        hist_bkg = inbkgfile[f'{sample}/resolved/{reg}/{cat}/{tag}/{varb}'].to_hist()\n",
    "    else:\n",
    "        hist_bkg += inbkgfile[f'{sample}/resolved/{reg}/{cat}/{tag}/{varb}'].to_hist()\n",
    "#add DY\n",
    "sample = 'DY'\n",
    "varb = 'massZZ'\n",
    "hist_bkg += inbkgfile[f'{sample}_resolved_{reg}_{cat}_{tag}_{varb}'].to_hist()"
   ]
  },
  {
   "cell_type": "code",
   "execution_count": 6,
   "metadata": {},
   "outputs": [],
   "source": [
    "bkg = hist_bkg.values()"
   ]
  },
  {
   "cell_type": "code",
   "execution_count": 16,
   "metadata": {},
   "outputs": [
    {
     "name": "stdout",
     "output_type": "stream",
     "text": [
      "0\n",
      "76213.58352762483\n",
      "1\n",
      "76213.58352762481\n",
      "2\n",
      "76213.58352762481\n",
      "3\n",
      "76213.05929542298\n",
      "4\n",
      "76082.66708457953\n",
      "5\n",
      "75442.76098835457\n",
      "6\n",
      "65919.93972163637\n",
      "7\n",
      "43011.14086553346\n",
      "8\n",
      "27188.674288730792\n",
      "9\n",
      "17168.555788093858\n",
      "10\n",
      "10974.078602360107\n",
      "11\n",
      "6912.389553144645\n",
      "12\n",
      "4647.5901247123875\n",
      "13\n",
      "3398.589375622302\n",
      "14\n",
      "2577.3398251815943\n",
      "15\n",
      "1975.7756650009283\n",
      "16\n",
      "1511.289989430395\n",
      "17\n",
      "1177.4299267934168\n",
      "18\n",
      "926.0510202653383\n",
      "19\n",
      "726.327889817218\n",
      "20\n",
      "565.396229102842\n",
      "21\n",
      "446.5681322216269\n",
      "22\n",
      "349.879464014055\n",
      "23\n",
      "270.54304451650773\n",
      "24\n",
      "210.62705756844545\n",
      "25\n",
      "169.01497301983048\n",
      "26\n",
      "131.42843853245535\n",
      "27\n",
      "98.06772911097644\n",
      "28\n",
      "75.38662691445896\n",
      "29\n",
      "56.151001653265475\n",
      "30\n",
      "42.582064997483336\n",
      "31\n",
      "34.107368051796854\n",
      "32\n",
      "25.998586278188913\n",
      "33\n",
      "21.291973159552093\n",
      "34\n",
      "16.41986375815566\n",
      "35\n",
      "4.825239342406483\n"
     ]
    }
   ],
   "source": [
    "for i in range(0,36):\n",
    "    print(i)\n",
    "    print(bkg[i:36].sum())"
   ]
  },
  {
   "cell_type": "code",
   "execution_count": 75,
   "metadata": {},
   "outputs": [],
   "source": [
    "insigfile = uproot.open(f'/cms/user/guojl/ME_test/CMSSW_10_6_26/src/HZZAnalysis/SignalModel/Histos_sig_{year}.root')"
   ]
  },
  {
   "cell_type": "code",
   "execution_count": 78,
   "metadata": {},
   "outputs": [
    {
     "name": "stdout",
     "output_type": "stream",
     "text": [
      "significant = 39.76781249727291 at 500 cut on 100.0 in resolved\n",
      "significant = 39.76781249727291 at 500 cut on 125.0 in resolved\n",
      "significant = 39.767930941528085 at 500 cut on 150.0 in resolved\n",
      "significant = 39.767930941528085 at 500 cut on 175.0 in resolved\n",
      "significant = 39.797424476128334 at 500 cut on 200.0 in resolved\n",
      "significant = 39.797424476128334 at 500 cut on 225.0 in resolved\n",
      "significant = 39.94312269883915 at 500 cut on 250.0 in resolved\n",
      "significant = 39.94312269883915 at 500 cut on 275.0 in resolved\n",
      "significant = 42.31971507542675 at 500 cut on 300.0 in resolved\n",
      "significant = 42.31971507542675 at 500 cut on 325.0 in resolved\n",
      "significant = 50.3945008635044 at 500 cut on 350.0 in resolved\n",
      "significant = 50.3945008635044 at 500 cut on 375.0 in resolved\n",
      "significant = 59.75306462673773 at 500 cut on 400.0 in resolved\n",
      "significant = 59.75306462673773 at 500 cut on 425.0 in resolved\n",
      "significant = 69.27734073885456 at 500 cut on 450.0 in resolved\n",
      "significant = 67.28699479391379 at 500 cut on 475.0 in resolved\n",
      "significant = 41.23491480460863 at 500 cut on 500.0 in resolved\n",
      "significant = 8.598201924902737 at 500 cut on 525.0 in resolved\n",
      "significant = 0.04154239130332316 at 500 cut on 550.0 in resolved\n",
      "significant = 0.0001848160715710615 at 500 cut on 575.0 in resolved\n",
      "significant = 0.0 at 500 cut on 600.0 in resolved\n",
      "significant = 0.0 at 500 cut on 625.0 in resolved\n",
      "significant = 0.0 at 500 cut on 650.0 in resolved\n",
      "significant = 0.0 at 500 cut on 675.0 in resolved\n",
      "significant = 0.0 at 500 cut on 700.0 in resolved\n",
      "significant = 0.0 at 500 cut on 725.0 in resolved\n",
      "significant = 0.0 at 500 cut on 750.0 in resolved\n",
      "significant = 0.0 at 500 cut on 775.0 in resolved\n",
      "significant = 0.0 at 500 cut on 800.0 in resolved\n",
      "significant = 0.0 at 500 cut on 825.0 in resolved\n",
      "significant = 0.0 at 500 cut on 850.0 in resolved\n",
      "significant = 0.0 at 500 cut on 875.0 in resolved\n",
      "significant = 0.0 at 500 cut on 900.0 in resolved\n",
      "significant = 0.0 at 500 cut on 925.0 in resolved\n",
      "significant = 0.0 at 500 cut on 950.0 in resolved\n",
      "significant = 0.0 at 500 cut on 975.0 in resolved\n",
      "significant = 0.0 at 500 cut on 1000.0 in resolved\n",
      "significant = 0.0 at 500 cut on 1025.0 in resolved\n",
      "significant = 0.0 at 500 cut on 1050.0 in resolved\n",
      "significant = 0.0 at 500 cut on 1075.0 in resolved\n",
      "significant = 0.0 at 500 cut on 1100.0 in resolved\n",
      "significant = 0.0 at 500 cut on 1125.0 in resolved\n",
      "significant = 0.0 at 500 cut on 1150.0 in resolved\n",
      "significant = 0.0 at 500 cut on 1175.0 in resolved\n",
      "significant = 0.0 at 500 cut on 1200.0 in resolved\n",
      "significant = 0.0 at 500 cut on 1225.0 in resolved\n",
      "significant = 0.0 at 500 cut on 1250.0 in resolved\n",
      "significant = 0.0 at 500 cut on 1275.0 in resolved\n",
      "significant = 0.0 at 500 cut on 1300.0 in resolved\n",
      "significant = 0.0 at 500 cut on 1325.0 in resolved\n",
      "significant = 0.0 at 500 cut on 1350.0 in resolved\n",
      "significant = 0.0 at 500 cut on 1375.0 in resolved\n",
      "significant = 0.0 at 500 cut on 1400.0 in resolved\n",
      "significant = 0.0 at 500 cut on 1425.0 in resolved\n",
      "significant = 0.0 at 500 cut on 1450.0 in resolved\n",
      "significant = 0.0 at 500 cut on 1475.0 in resolved\n",
      "significant = 0.0 at 500 cut on 1500.0 in resolved\n",
      "significant = 0.0 at 500 cut on 1525.0 in resolved\n",
      "significant = 0.0 at 500 cut on 1550.0 in resolved\n",
      "significant = 0.0 at 500 cut on 1575.0 in resolved\n",
      "significant = 0.0 at 500 cut on 1600.0 in resolved\n",
      "significant = 0.0 at 500 cut on 1625.0 in resolved\n",
      "significant = 0.0 at 500 cut on 1650.0 in resolved\n",
      "significant = 0.0 at 500 cut on 1675.0 in resolved\n",
      "significant = 0.0 at 500 cut on 1700.0 in resolved\n",
      "significant = 0.0 at 500 cut on 1725.0 in resolved\n",
      "significant = 0.0 at 500 cut on 1750.0 in resolved\n",
      "significant = 0.0 at 500 cut on 1775.0 in resolved\n",
      "significant = 0.0 at 500 cut on 1800.0 in resolved\n",
      "significant = 0.0 at 500 cut on 1825.0 in resolved\n",
      "significant = 0.0 at 500 cut on 1850.0 in resolved\n",
      "significant = 0.0 at 500 cut on 1875.0 in resolved\n",
      "significant = 0.0 at 500 cut on 1900.0 in resolved\n"
     ]
    }
   ],
   "source": [
    "case = 'resolved'\n",
    "for mass in [500]:\n",
    "    str = f\"sig{mass}_{case};1\"\n",
    "    hist_sig = insigfile[str].to_hist()\n",
    "    sig = hist_sig.values()\n",
    "\n",
    "    cutlist = np.linspace(100,3000,117)\n",
    "    max = 3000\n",
    "    y = []\n",
    "    significant = 0.0\n",
    "    for i in cutlist:\n",
    "        if(i <=1900):\n",
    "            bkgtot = hist_bkg[hist.loc(i):hist.loc(max)].values().sum()\n",
    "            sigtot = hist_sig[hist.loc(i):hist.loc(max)].values().sum()\n",
    "            significant = sigtot/math.sqrt(sigtot+bkgtot)\n",
    "            y.append(significant)\n",
    "            print(f'significant = {significant} at {mass} cut on {i} in {case}')\n",
    "        else:\n",
    "            y.append(significant)\n",
    "    \n",
    "    f, ax = plt.subplots(figsize=(10, 10))\n",
    "    hep.cms.label(data=True, llabel='Preliminary', year=year, ax=ax, rlabel=r'%s $fb^{-1}$ (13 TeV)' %setting().config['lumi'][year], fontname='sans-serif')\n",
    "    ax.plot(cutlist,y,'ro:',label = 'significant', linewidth = 2,markersize=1)\n",
    "    ax.set_xlabel(r'$M_{ZZ}$ [GeV]', ha='right', x=1.0)\n",
    "    ax.set_ylabel('Significant', ha='right', y=1.0)\n",
    "    ax.legend(loc='upper right') \n",
    "    plt.savefig(f'significantscan/significant_{mass}_{case}.png')\n",
    "    plt.close()"
   ]
  },
  {
   "cell_type": "code",
   "execution_count": 67,
   "metadata": {},
   "outputs": [
    {
     "ename": "KeyInFileError",
     "evalue": "not found: 'sig525_resolved' with cycle 1\n\n    Available keys: 'sig550_resolved;1', 'sig500_resolved;1', 'sig650_resolved;1', 'sig750_resolved;1', 'sig850_resolved;1', 'sig950_resolved;1', 'sig1200_resolved;1', 'sig1500_resolved;1', 'sig2000_resolved;1', 'sig2200_resolved;1'...\n\nin file /cms/user/guojl/ME_test/CMSSW_10_6_26/src/HZZAnalysis/SignalModel/Histos_sig_2018.root",
     "output_type": "error",
     "traceback": [
      "\u001b[0;31m---------------------------------------------------------------------------\u001b[0m",
      "\u001b[0;31mKeyInFileError\u001b[0m                            Traceback (most recent call last)",
      "\u001b[1;32m/cms/user/guojl/ME_test/CMSSW_10_6_26/src/HZZAnalysis/getsignificant.ipynb Cell 7\u001b[0m in \u001b[0;36m<cell line: 1>\u001b[0;34m()\u001b[0m\n\u001b[1;32m      <a href='vscode-notebook-cell://ssh-remote%2Bihep/cms/user/guojl/ME_test/CMSSW_10_6_26/src/HZZAnalysis/getsignificant.ipynb#X14sdnNjb2RlLXJlbW90ZQ%3D%3D?line=0'>1</a>\u001b[0m \u001b[39mfor\u001b[39;00m mass \u001b[39min\u001b[39;00m massList:\n\u001b[1;32m      <a href='vscode-notebook-cell://ssh-remote%2Bihep/cms/user/guojl/ME_test/CMSSW_10_6_26/src/HZZAnalysis/getsignificant.ipynb#X14sdnNjb2RlLXJlbW90ZQ%3D%3D?line=1'>2</a>\u001b[0m     \u001b[39mstr\u001b[39m \u001b[39m=\u001b[39m \u001b[39mf\u001b[39m\u001b[39m\"\u001b[39m\u001b[39msig\u001b[39m\u001b[39m{\u001b[39;00mmass\u001b[39m}\u001b[39;00m\u001b[39m_resolved;1\u001b[39m\u001b[39m\"\u001b[39m\n\u001b[0;32m----> <a href='vscode-notebook-cell://ssh-remote%2Bihep/cms/user/guojl/ME_test/CMSSW_10_6_26/src/HZZAnalysis/getsignificant.ipynb#X14sdnNjb2RlLXJlbW90ZQ%3D%3D?line=2'>3</a>\u001b[0m     hist_sig \u001b[39m=\u001b[39m insigfile[\u001b[39mstr\u001b[39;49m]\u001b[39m.\u001b[39mto_hist()\n\u001b[1;32m      <a href='vscode-notebook-cell://ssh-remote%2Bihep/cms/user/guojl/ME_test/CMSSW_10_6_26/src/HZZAnalysis/getsignificant.ipynb#X14sdnNjb2RlLXJlbW90ZQ%3D%3D?line=3'>4</a>\u001b[0m     sig \u001b[39m=\u001b[39m hist_sig\u001b[39m.\u001b[39mvalues()\n\u001b[1;32m      <a href='vscode-notebook-cell://ssh-remote%2Bihep/cms/user/guojl/ME_test/CMSSW_10_6_26/src/HZZAnalysis/getsignificant.ipynb#X14sdnNjb2RlLXJlbW90ZQ%3D%3D?line=5'>6</a>\u001b[0m     cutlist \u001b[39m=\u001b[39m np\u001b[39m.\u001b[39mlinspace(\u001b[39m100\u001b[39m,\u001b[39m3000\u001b[39m,\u001b[39m117\u001b[39m)\n",
      "File \u001b[0;32m/cms/user/guojl/miniconda/envs/uprootframe/lib/python3.8/site-packages/uproot/reading.py:2096\u001b[0m, in \u001b[0;36mReadOnlyDirectory.__getitem__\u001b[0;34m(self, where)\u001b[0m\n\u001b[1;32m   2093\u001b[0m     \u001b[39mreturn\u001b[39;00m step\n\u001b[1;32m   2095\u001b[0m \u001b[39melse\u001b[39;00m:\n\u001b[0;32m-> 2096\u001b[0m     \u001b[39mreturn\u001b[39;00m \u001b[39mself\u001b[39;49m\u001b[39m.\u001b[39;49mkey(where)\u001b[39m.\u001b[39mget()\n",
      "File \u001b[0;32m/cms/user/guojl/miniconda/envs/uprootframe/lib/python3.8/site-packages/uproot/reading.py:2050\u001b[0m, in \u001b[0;36mReadOnlyDirectory.key\u001b[0;34m(self, where)\u001b[0m\n\u001b[1;32m   2046\u001b[0m     \u001b[39mraise\u001b[39;00m uproot\u001b[39m.\u001b[39mKeyInFileError(\n\u001b[1;32m   2047\u001b[0m         item, cycle\u001b[39m=\u001b[39m\u001b[39m\"\u001b[39m\u001b[39many\u001b[39m\u001b[39m\"\u001b[39m, keys\u001b[39m=\u001b[39m\u001b[39mself\u001b[39m\u001b[39m.\u001b[39mkeys(), file_path\u001b[39m=\u001b[39m\u001b[39mself\u001b[39m\u001b[39m.\u001b[39m_file\u001b[39m.\u001b[39mfile_path\n\u001b[1;32m   2048\u001b[0m     )\n\u001b[1;32m   2049\u001b[0m \u001b[39melse\u001b[39;00m:\n\u001b[0;32m-> 2050\u001b[0m     \u001b[39mraise\u001b[39;00m uproot\u001b[39m.\u001b[39mKeyInFileError(\n\u001b[1;32m   2051\u001b[0m         item, cycle\u001b[39m=\u001b[39mcycle, keys\u001b[39m=\u001b[39m\u001b[39mself\u001b[39m\u001b[39m.\u001b[39mkeys(), file_path\u001b[39m=\u001b[39m\u001b[39mself\u001b[39m\u001b[39m.\u001b[39m_file\u001b[39m.\u001b[39mfile_path\n\u001b[1;32m   2052\u001b[0m     )\n",
      "\u001b[0;31mKeyInFileError\u001b[0m: not found: 'sig525_resolved' with cycle 1\n\n    Available keys: 'sig550_resolved;1', 'sig500_resolved;1', 'sig650_resolved;1', 'sig750_resolved;1', 'sig850_resolved;1', 'sig950_resolved;1', 'sig1200_resolved;1', 'sig1500_resolved;1', 'sig2000_resolved;1', 'sig2200_resolved;1'...\n\nin file /cms/user/guojl/ME_test/CMSSW_10_6_26/src/HZZAnalysis/SignalModel/Histos_sig_2018.root"
     ]
    }
   ],
   "source": [
    "for mass in massList:\n",
    "    str = f\"sig{mass}_resolved;1\"\n",
    "    hist_sig = insigfile[str].to_hist()\n",
    "    sig = hist_sig.values()\n",
    "\n",
    "    cutlist = np.linspace(100,3000,117)\n",
    "    max = 3000\n",
    "    y = []\n",
    "    significant = 0.0\n",
    "    for i in cutlist:\n",
    "        if(i <=1900):\n",
    "            bkgtot = hist_bkg[hist.loc(i):hist.loc(max)].values().sum()\n",
    "            sigtot = hist_sig[hist.loc(i):hist.loc(max)].values().sum()\n",
    "            significant = sigtot/math.sqrt(sigtot+bkgtot)\n",
    "            y.append(significant)\n",
    "        else:\n",
    "            y.append(significant)\n",
    "    \n",
    "    f, ax = plt.subplots(figsize=(10, 10))\n",
    "    hep.cms.label(data=True, llabel='Preliminary', year=year, ax=ax, rlabel=r'%s $fb^{-1}$ (13 TeV)' %setting().config['lumi'][year], fontname='sans-serif')\n",
    "    ax.plot(cutlist,y,'ro:',label = 'significant', linewidth = 2,markersize=1)\n",
    "    ax.set_xlabel(r'$M_{ZZ}$ [GeV]', ha='right', x=1.0)\n",
    "    ax.set_ylabel('Significant', ha='right', y=1.0)\n",
    "    ax.legend(loc='upper right') \n",
    "    plt.savefig(f'significantscan/significant_{mass}_resolved.png')\n",
    "    plt.close()\n",
    "\n"
   ]
  },
  {
   "cell_type": "code",
   "execution_count": 61,
   "metadata": {},
   "outputs": [],
   "source": [
    "cutlist = np.linspace(100,3000,)\n",
    "max = 3000\n",
    "y = []\n",
    "significant = 0.0\n",
    "for i in cutlist:\n",
    "    if(i <=1900):\n",
    "        bkgtot = hist_bkg[hist.loc(i):hist.loc(max)].values().sum()\n",
    "        sigtot = hist_sig[hist.loc(i):hist.loc(max)].values().sum()\n",
    "        significant = sigtot/math.sqrt(sigtot+bkgtot)\n",
    "        y.append(significant)\n",
    "    else:\n",
    "        y.append(significant)\n",
    "\n"
   ]
  },
  {
   "cell_type": "code",
   "execution_count": 62,
   "metadata": {},
   "outputs": [
    {
     "data": {
      "image/png": "[encoded data removed]",
      "text/plain": [
       "<Figure size 720x720 with 1 Axes>"
      ]
     },
     "metadata": {
      "needs_background": "light"
     },
     "output_type": "display_data"
    }
   ],
   "source": [
    "f, ax = plt.subplots(figsize=(10, 10))\n",
    "hep.cms.label(data=True, llabel='Preliminary', year=year, ax=ax, rlabel=r'%s $fb^{-1}$ (13 TeV)' %setting().config['lumi'][year], fontname='sans-serif')\n",
    "ax.plot(cutlist,y,'ro:',label = 'significant', linewidth = 2,markersize=1)\n",
    "ax.set_xlabel(r'$M_{ZZ}$ [GeV]', ha='right', x=1.0)\n",
    "ax.set_ylabel('Significant', ha='right', y=1.0)\n",
    "ax.legend(loc='upper right') \n",
    "plt.savefig(f'./significant_resolved.png')\n"
   ]
  },
  {
   "attachments": {},
   "cell_type": "markdown",
   "metadata": {},
   "source": [
    "# mass point scan"
   ]
  },
  {
   "cell_type": "code",
   "execution_count": 81,
   "metadata": {},
   "outputs": [
    {
     "data": {
      "image/png": "[encoded data removed]",
      "text/plain": [
       "<Figure size 720x720 with 1 Axes>"
      ]
     },
     "metadata": {
      "needs_background": "light"
     },
     "output_type": "display_data"
    }
   ],
   "source": [
    "\n",
    "y = []\n",
    "case = 'resolved'\n",
    "for mass in massList:\n",
    "    cut = mass/1.1\n",
    "    bkgtot=hist_bkg[hist.loc(cut):].values().sum()\n",
    "    #hist_sig = insigfile['sig{}_{}'.format(mass,case)].to_hist()\n",
    "    str = f\"sig{mass}_{case};1\"\n",
    "    hist_sig = insigfile[str].to_hist()\n",
    "    #hist_sig = insigfile[f\"sig{mass}_resolved;1\"].to_hist()\n",
    "    sigtot = hist_sig[hist.loc(cut):].values().sum()\n",
    "\n",
    "    #compute\n",
    "    significant = sigtot/math.sqrt(sigtot+bkgtot)\n",
    "    y.append(significant)\n",
    "\n",
    "\n",
    "f, ax = plt.subplots(figsize=(10, 10))\n",
    "hep.cms.label(data=True, llabel='Preliminary', year=year, ax=ax, rlabel=r'%s $fb^{-1}$ (13 TeV)' %setting().config['lumi'][year], fontname='sans-serif')\n",
    "ax.plot(massList,y,'ro:',label = 'significant', linewidth = 2,markersize=1)\n",
    "ax.set_xlabel(r'$M_{ZZ}$ [GeV]', ha='right', x=1.0)\n",
    "ax.set_ylabel('Significant', ha='right', y=1.0)\n",
    "ax.legend(loc='upper right') \n",
    "plt.savefig(f'./significant_resolved.png')\n",
    "#plt.close()"
   ]
  },
  {
   "cell_type": "code",
   "execution_count": null,
   "metadata": {},
   "outputs": [],
   "source": []
  }
 ],
 "metadata": {
  "kernelspec": {
   "display_name": "Python 3",
   "language": "python",
   "name": "python3"
  },
  "language_info": {
   "codemirror_mode": {
    "name": "ipython",
    "version": 3
   },
   "file_extension": ".py",
   "mimetype": "text/x-python",
   "name": "python",
   "nbconvert_exporter": "python",
   "pygments_lexer": "ipython3",
   "version": "3.8.12"
  },
  "orig_nbformat": 4
 },
 "nbformat": 4,
 "nbformat_minor": 2
}
