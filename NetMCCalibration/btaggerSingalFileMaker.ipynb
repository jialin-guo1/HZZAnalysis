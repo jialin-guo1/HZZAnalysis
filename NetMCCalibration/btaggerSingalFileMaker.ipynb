{
 "cells": [
  {
   "cell_type": "code",
   "execution_count": 1,
   "id": "4d10a1fb",
   "metadata": {},
   "outputs": [],
   "source": [
    "#import uproot4 as uproot\n",
    "import uproot\n",
    "import boost_histogram as bh\n",
    "import matplotlib.pyplot as plt\n",
    "import matplotlib as mpl\n",
    "import mplhep as hep\n",
    "import awkward1 as ak\n",
    "import pandas as pd\n",
    "import numpy as np"
   ]
  },
  {
   "cell_type": "code",
   "execution_count": 18,
   "id": "c83f4be5",
   "metadata": {},
   "outputs": [],
   "source": [
    "import uproot"
   ]
  },
  {
   "cell_type": "code",
   "execution_count": 2,
   "id": "eb93342a",
   "metadata": {},
   "outputs": [],
   "source": [
    "import sys,os\n",
    "sys.path.append(\"/cms/user/guojl/ME_test/CMSSW_10_6_26/src/HZZAnalysis/lib\")"
   ]
  },
  {
   "cell_type": "code",
   "execution_count": 3,
   "id": "c7973bca",
   "metadata": {},
   "outputs": [],
   "source": [
    "from utils import *"
   ]
  },
  {
   "cell_type": "code",
   "execution_count": 4,
   "id": "de050dcb",
   "metadata": {},
   "outputs": [],
   "source": [
    "ori_dir = '/cms/user/guojl/Sample/2L2Q/UL_Legacy/2016/'\n",
    "samples_inf = {#name path cross Section\n",
    "                    #'DY_pt50To100':['MC/DYJetsToLL_Pt-50To100_MatchEWPDG20_TuneCP5_13TeV-amcatnloFXFX-pythia8', 363.8142],\n",
    "                    'DY_pt50To100':['MC/DYJetsToLL_Pt-50To100_MatchEWPDG20_TuneCP5_13TeV-amcatnloFXFX-pythia8', 398.8],\n",
    "                    #'DY_pt100To250':['MC/DYJetsToLL_Pt-100To250_MatchEWPDG20_TuneCP5_13TeV-amcatnloFXFX-pythia8',84.014804],\n",
    "                    'DY_pt100To250':['MC/DYJetsToLL_Pt-100To250_MatchEWPDG20_TuneCP5_13TeV-amcatnloFXFX-pythia8',93.61],\n",
    "                    'DY_pt250To400':['MC/DYJetsToLL_Pt-250To400_MatchEWPDG20_TuneCP5_13TeV-amcatnloFXFX-pythia8',3.67],#3.047],\n",
    "                    'DY_pt400To650':['MC/DYJetsToLL_Pt-400To650_MatchEWPDG20_TuneCP5_13TeV-amcatnloFXFX-pythia8',0.5],#0.392],\n",
    "                    'DY_pt650ToInf':['MC/DYJetsToLL_Pt-650ToInf_MatchEWPDG20_TuneCP5_13TeV-amcatnloFXFX-pythia8',0.04704],#0.03636],\n",
    "                    'TTJets':['MC/TTJets_TuneCP5_13TeV-amcatnloFXFX-pythia8',831.76],\n",
    "                    'TTTo2L2Nu':['MC/TTTo2L2Nu_TuneCP5_13TeV-powheg-pythia8',1],\n",
    "                    'WW_TuneCP5':['MC/WW_TuneCP5_13TeV-pythia8',1],\n",
    "                    'WWTo2L2Nu':['MC/WWTo2L2Nu_TuneCP5_13TeV-powheg-pythia8',11.09],\n",
    "                    'WZTo2Q2L':['MC/WZTo2Q2L_mllmin4p0_TuneCP5_13TeV-amcatnloFXFX-pythia8',6.419],\n",
    "                    'ZZTo2Q2L':['MC/ZZTo2Q2L_mllmin4p0_TuneCP5_13TeV-amcatnloFXFX-pythia8',3.696],\n",
    "                    'ggH1000':['MC/Signal/skimed/GluGluHToZZTo2L2Q_M1000_TuneCP5_13TeV_powheg2_JHUGenV7011_pythia8__asymptotic_v17-v2_0.root',5.07],\n",
    "                    'VBF1500':['MC/Signal/skimed/VBF_HToZZTo2L2Q_M1500_TuneCP5_13TeV_powheg2_JHUGenV7011_pythia8__asymptotic_v13-v1_0.root',0.77],\n",
    "                    'test':'MC/test',\n",
    "                    'Data':['Data/skimed/Data2016UL_noDuplicates.root',1],\n",
    "                    }\n",
    "\n",
    "Samples_lists = ['DY_pt50To100','DY_pt100To250','DY_pt250To400','DY_pt400To650','DY_pt650ToInf',\n",
    "              'TTJets',\n",
    "              'WZTo2Q2L',\n",
    "              'ZZTo2Q2L',\n",
    "              'WWTo2L2Nu',\n",
    "              'Data']\n",
    "\n",
    "#signal_lists = [ 'ggH1000','VBF1500']\n",
    "signal_lists = [ 'ggH1000']\n",
    "\n",
    "lumi = {2016: 16.81, 2017: 41.53, 2018: 59.74}\n",
    "year=2016\n",
    "\n",
    "bininfo = {'mass2l':[24,60,120,\"M(ll)\"],\n",
    "              'pt2l':[70,100,800,\"Pt(ll)\"],\n",
    "              #'massmerged':[28,40,180,\"M(J)\"],\n",
    "              'massmerged':[40,0,200,\"M(J)\"],\n",
    "              'ptmerged':[60,200,800,\"Pt(J)\"],\n",
    "              'mass2l2jet':[28,40,180,\"M(2l2q)\"], \n",
    "              'pt2jet':[70,100,800,\"Pt(jj)\"],\n",
    "              'mass2jet':[28,40,180,\"M(jj)\"],\n",
    "              'particleNetZvsQCD':[20,0,1,\"particleNetZvsQCD\"],\n",
    "              'KD_jjVBF':[20,0,1,\"VBF(score)\"]}\n",
    "\n",
    "cats = ['isEE','isMuMu']"
   ]
  },
  {
   "cell_type": "code",
   "execution_count": 5,
   "id": "9f98389e",
   "metadata": {},
   "outputs": [],
   "source": [
    "import yaml"
   ]
  },
  {
   "cell_type": "code",
   "execution_count": 6,
   "id": "d7927ea9",
   "metadata": {},
   "outputs": [],
   "source": [
    "sf_particleNet_signal = {}\n",
    "with open('/cms/user/guojl/ME_test/CMSSW_10_6_26/src/HZZAnalysis/cards/NetSF_signal_2016Legacy.yml') as f:\n",
    "    sf_particleNet_signal = yaml.safe_load(f)"
   ]
  },
  {
   "cell_type": "code",
   "execution_count": 7,
   "id": "abb85020",
   "metadata": {},
   "outputs": [],
   "source": [
    "#var to read\n",
    "var_read_lists = ['pt2l','mass2l','EventWeight','foundZ1LCandidate','foundTTCRCandidate','foundZ2JCandidate','foundZ2MergedCandidata','foundTTCRCandidate','passedfullmerged','passedfullresolved','particleNetZvsQCD','passedNassociated','isEE','isMuMu',\n",
    "                        'massmerged','ptmerged',\n",
    "                        'pt2jet','mass2jet',\n",
    "                        'mass2l2jet', 'mass2lj',\n",
    "                        'KD_jjVBF',\n",
    "                         'isbjet','iscjet','islightjet',\n",
    "                        'particleNetZbbvslight','MET']"
   ]
  },
  {
   "cell_type": "code",
   "execution_count": 11,
   "id": "9fafe773",
   "metadata": {},
   "outputs": [
    {
     "name": "stdout",
     "output_type": "stream",
     "text": [
      "This is ggH1000\n"
     ]
    }
   ],
   "source": [
    "sumWeight = {};signal_array = {}\n",
    "for sample in signal_lists:\n",
    "    print(f\"This is {sample}\")\n",
    "    signal_path = ori_dir+samples_inf[sample][0]\n",
    "    \n",
    "    sumWeight[sample] = 0\n",
    "    with uproot.open(signal_path) as f:\n",
    "        this_sumWeight_h = f['sumWeights'].to_boost()\n",
    "        this_sumWeight = this_sumWeight_h.sum()\n",
    "        sumWeight[sample] += this_sumWeight\n",
    "        \n",
    "        signal_array[sample] = f['passedEvents'].arrays(filter_name=var_read_lists,library=\"ak\")"
   ]
  },
  {
   "cell_type": "code",
   "execution_count": 14,
   "id": "f8ba30f0",
   "metadata": {},
   "outputs": [],
   "source": [
    "def make_cut(array): \n",
    "    cut_barray = array['foundZ1LCandidate'] & array['foundZ2MergedCandidata'] & (array['massmerged']>70) & (array['massmerged']<105) & (array['particleNetZvsQCD']>0.9)\n",
    "    #cut_lightarray = array[cat] & (array['iscjet'] | array['islightjet']) & array['foundZ1LCandidate'] & array['foundZ2MergedCandidata'] & ((array['massmerged']<70) | (array['massmerged']>105)) & (array['particleNetZvsQCD']>0.9)\n",
    "    #cut_array = array[cat] & array['foundZ2JCandidate'] & ((array['mass2jet']<70) | (array['mass2jet']>105)) & array['passedNassociated']#resovled\n",
    "    #cut_array = array[cat] #leptonic Z\n",
    "    return cut_barray"
   ]
  },
  {
   "cell_type": "code",
   "execution_count": 15,
   "id": "78f7d13e",
   "metadata": {},
   "outputs": [],
   "source": [
    "#apply cut and for each sample\n",
    "\n",
    "bkg_array_cut = {}; data_array_cut = {}; signal_b_array_cut = {}; signal_light_array_cut = {}\n",
    "for sample in signal_lists:\n",
    "    temp_array = signal_array[sample]\n",
    "    cut_b_array = make_cut(temp_array)\n",
    "    signal_b_array_cut[sample] = temp_array[cut_b_array]"
   ]
  },
  {
   "cell_type": "code",
   "execution_count": 16,
   "id": "2b716401",
   "metadata": {},
   "outputs": [
    {
     "data": {
      "text/plain": [
       "199970.0"
      ]
     },
     "execution_count": 16,
     "metadata": {},
     "output_type": "execute_result"
    }
   ],
   "source": [
    "sumWeight['ggH1000']"
   ]
  },
  {
   "cell_type": "code",
   "execution_count": 19,
   "id": "2ca3db34",
   "metadata": {},
   "outputs": [],
   "source": [
    "outfilepath = '/cms/user/guojl/ME_test/CMSSW_10_6_26/src/HZZAnalysis/NetMCCalibration'\n",
    "with uproot.recreate(f'{outfilepath}/ghh_btag.root') as f:\n",
    "    f['passedEvents'] = {'particleNetZbbvslight':signal_b_array_cut['ggH1000']['particleNetZbbvslight'],\n",
    "                         'isbjet':signal_b_array_cut['ggH1000']['isbjet'],\n",
    "                         'weight':signal_b_array_cut['ggH1000']['EventWeight']}"
   ]
  },
  {
   "cell_type": "code",
   "execution_count": null,
   "id": "7ced7caa",
   "metadata": {},
   "outputs": [],
   "source": []
  }
 ],
 "metadata": {
  "kernelspec": {
   "display_name": "Python 3 (ipykernel)",
   "language": "python",
   "name": "python3"
  },
  "language_info": {
   "codemirror_mode": {
    "name": "ipython",
    "version": 3
   },
   "file_extension": ".py",
   "mimetype": "text/x-python",
   "name": "python",
   "nbconvert_exporter": "python",
   "pygments_lexer": "ipython3",
   "version": "3.8.12"
  }
 },
 "nbformat": 4,
 "nbformat_minor": 5
}
