{
 "cells": [
  {
   "cell_type": "code",
   "execution_count": 1,
   "id": "a077e6e8",
   "metadata": {},
   "outputs": [],
   "source": [
    "#import uproot4 as uproot\n",
    "import uproot\n",
    "import boost_histogram as bh\n",
    "import matplotlib.pyplot as plt\n",
    "import matplotlib as mpl\n",
    "import mplhep as hep\n",
    "import awkward1 as ak\n",
    "import pandas as pd\n",
    "import numpy as np"
   ]
  },
  {
   "cell_type": "code",
   "execution_count": 2,
   "id": "d8e71c55",
   "metadata": {},
   "outputs": [],
   "source": [
    "import seaborn as sns\n",
    "def set_sns_color(*args):\n",
    "    sns.palplot(sns.color_palette(*args))\n",
    "    sns.set_palette(*args)\n",
    "    \n",
    "color_order_bkg = sns.color_palette('Accent', 3)\n",
    "color_order_bkg.reverse()"
   ]
  },
  {
   "cell_type": "code",
   "execution_count": 3,
   "id": "7e28b4b4",
   "metadata": {},
   "outputs": [],
   "source": [
    "use_helvet = True  ## true: use helvetica for plots, make sure the system have the font installed\n",
    "if use_helvet:\n",
    "    CMShelvet = hep.style.CMS\n",
    "    CMShelvet['font.sans-serif'] = ['Helvetica', 'Arial']\n",
    "    plt.style.use(CMShelvet)\n",
    "else:\n",
    "    plt.style.use(hep.style.CMS)"
   ]
  },
  {
   "cell_type": "code",
   "execution_count": 4,
   "id": "781b4b11",
   "metadata": {},
   "outputs": [],
   "source": [
    "import sys,os\n",
    "sys.path.append(\"/cms/user/guojl/ME_test/CMSSW_10_6_26/src/HZZAnalysis/lib\")"
   ]
  },
  {
   "cell_type": "code",
   "execution_count": 5,
   "id": "613c018d",
   "metadata": {},
   "outputs": [],
   "source": [
    "from utils import *"
   ]
  },
  {
   "cell_type": "code",
   "execution_count": 6,
   "id": "0eb95c33",
   "metadata": {},
   "outputs": [],
   "source": [
    "ori_dir = '/cms/user/guojl/Sample/2L2Q/UL_Legacy/2016/'\n",
    "samples_inf = {#name path cross Section\n",
    "                    #'DY_pt50To100':['MC/DYJetsToLL_Pt-50To100_MatchEWPDG20_TuneCP5_13TeV-amcatnloFXFX-pythia8', 363.8142],\n",
    "                    'DY_pt50To100':['MC/DYJetsToLL_Pt-50To100_MatchEWPDG20_TuneCP5_13TeV-amcatnloFXFX-pythia8', 398.8],\n",
    "                    #'DY_pt100To250':['MC/DYJetsToLL_Pt-100To250_MatchEWPDG20_TuneCP5_13TeV-amcatnloFXFX-pythia8',84.014804],\n",
    "                    'DY_pt100To250':['MC/DYJetsToLL_Pt-100To250_MatchEWPDG20_TuneCP5_13TeV-amcatnloFXFX-pythia8',93.61],\n",
    "                    'DY_pt250To400':['MC/DYJetsToLL_Pt-250To400_MatchEWPDG20_TuneCP5_13TeV-amcatnloFXFX-pythia8',3.67],#3.047],\n",
    "                    'DY_pt400To650':['MC/DYJetsToLL_Pt-400To650_MatchEWPDG20_TuneCP5_13TeV-amcatnloFXFX-pythia8',0.5],#0.392],\n",
    "                    'DY_pt650ToInf':['MC/DYJetsToLL_Pt-650ToInf_MatchEWPDG20_TuneCP5_13TeV-amcatnloFXFX-pythia8',0.04704],#0.03636],\n",
    "                    'TTJets':['MC/TTJets_TuneCP5_13TeV-amcatnloFXFX-pythia8',831.76],\n",
    "                    'TTTo2L2Nu':['MC/TTTo2L2Nu_TuneCP5_13TeV-powheg-pythia8',1],\n",
    "                    'WW_TuneCP5':['MC/WW_TuneCP5_13TeV-pythia8',1],\n",
    "                    'WWTo2L2Nu':['MC/WWTo2L2Nu_TuneCP5_13TeV-powheg-pythia8',11.09],\n",
    "                    'WZTo2Q2L':['MC/WZTo2Q2L_mllmin4p0_TuneCP5_13TeV-amcatnloFXFX-pythia8',6.419],\n",
    "                    'ZZTo2Q2L':['MC/ZZTo2Q2L_mllmin4p0_TuneCP5_13TeV-amcatnloFXFX-pythia8',3.696],\n",
    "                    'ggH1000':['MC/Signal/skimed/GluGluHToZZTo2L2Q_M1000_TuneCP5_13TeV_powheg2_JHUGenV7011_pythia8__asymptotic_v17-v2_0.root',5.07],\n",
    "                    'VBF1500':['MC/Signal/skimed/VBF_HToZZTo2L2Q_M1500_TuneCP5_13TeV_powheg2_JHUGenV7011_pythia8__asymptotic_v13-v1_0.root',0.77],\n",
    "                    'test':'MC/test',\n",
    "                    'Data':['Data/skimed/Data2016UL_noDuplicates.root',1],\n",
    "                    }\n",
    "\n",
    "Samples_lists = ['DY_pt50To100','DY_pt100To250','DY_pt250To400','DY_pt400To650','DY_pt650ToInf',\n",
    "              'TTJets',\n",
    "              'WZTo2Q2L',\n",
    "              'ZZTo2Q2L',\n",
    "              'WWTo2L2Nu',\n",
    "              'Data']\n",
    "\n",
    "#signal_lists = [ 'ggH1000','VBF1500']\n",
    "signal_lists = [ 'ggH1000']\n",
    "\n",
    "lumi = {2016: 16.81, 2017: 41.53, 2018: 59.74}\n",
    "year=2016\n",
    "\n",
    "bininfo = {'mass2l':[24,60,120,\"M(ll)\"],\n",
    "              'pt2l':[70,100,800,\"Pt(ll)\"],\n",
    "              #'massmerged':[28,40,180,\"M(J)\"],\n",
    "              'massmerged':[40,0,200,\"M(J)\"],\n",
    "              'ptmerged':[60,200,800,\"Pt(J)\"],\n",
    "              'mass2l2jet':[28,40,180,\"M(2l2q)\"], \n",
    "              'pt2jet':[70,100,800,\"Pt(jj)\"],\n",
    "              'mass2jet':[28,40,180,\"M(jj)\"],\n",
    "              'particleNetZvsQCD':[20,0,1,\"particleNetZvsQCD\"],\n",
    "              'KD_jjVBF':[20,0,1,\"VBF(score)\"]}\n",
    "\n",
    "cats = ['isEE','isMuMu']"
   ]
  },
  {
   "cell_type": "code",
   "execution_count": 7,
   "id": "6973242c",
   "metadata": {},
   "outputs": [],
   "source": [
    "#var to read\n",
    "var_read_lists = ['pt2l','mass2l','EventWeight','foundZ1LCandidate','foundTTCRCandidate','foundZ2JCandidate','foundZ2MergedCandidata','foundTTCRCandidate','passedfullmerged','passedfullresolved','particleNetZvsQCD','passedNassociated','isEE','isMuMu',\n",
    "                        'massmerged','ptmerged',\n",
    "                        'pt2jet','mass2jet',\n",
    "                        'mass2l2jet', 'mass2lj',\n",
    "                        'KD_jjVBF',\n",
    "                         'isbjet','iscjet','islightjet']"
   ]
  },
  {
   "cell_type": "code",
   "execution_count": 8,
   "id": "aaa77091",
   "metadata": {},
   "outputs": [
    {
     "name": "stdout",
     "output_type": "stream",
     "text": [
      "This is DY_pt50To100\n",
      "This is DY_pt100To250\n",
      "This is DY_pt250To400\n",
      "This is DY_pt400To650\n",
      "This is DY_pt650ToInf\n",
      "This is TTJets\n",
      "This is WZTo2Q2L\n",
      "This is ZZTo2Q2L\n",
      "This is WWTo2L2Nu\n",
      "This is Data\n",
      "This is ggH1000\n"
     ]
    }
   ],
   "source": [
    "#extract branch for each sample\n",
    "bkg_array = {}\n",
    "data_array = None\n",
    "signal_array = {}\n",
    "sumWeight = {}\n",
    "\n",
    "for sample in Samples_lists:\n",
    "    print(f\"This is {sample}\")\n",
    "    if sample!='Data':\n",
    "        indir = ori_dir+samples_inf[sample][0]+'/skimed'\n",
    "        files = find_this_rootfiles(indir)\n",
    "        sumWeight[sample] = 0\n",
    "            \n",
    "        for file in files:\n",
    "            with uproot.open(f'{indir}/{file}') as f:\n",
    "                this_sumWeight_h = f['sumWeights'].to_boost()\n",
    "                this_sumWeight = this_sumWeight_h.sum()\n",
    "                #print(f'this sum weight = {this_sumWeight}')\n",
    "                sumWeight[sample] += this_sumWeight\n",
    "                    \n",
    "        bkg_array[sample] = uproot.lazy([f\"{indir}/*.root:passedEvents\"],filter_name=var_read_lists)\n",
    "        \n",
    "    else:\n",
    "        data_path = ori_dir+samples_inf['Data'][0]\n",
    "        data_array = uproot.lazy([f\"{data_path}:passedEvents\"],filter_name=var_read_lists)\n",
    "\n",
    "for sample in signal_lists:\n",
    "    print(f\"This is {sample}\")\n",
    "    signal_path = ori_dir+samples_inf[sample][0]\n",
    "    \n",
    "    sumWeight[sample] = 0\n",
    "    with uproot.open(signal_path) as f:\n",
    "        this_sumWeight_h = f['sumWeights'].to_boost()\n",
    "        this_sumWeight = this_sumWeight_h.sum()\n",
    "        sumWeight[sample] += this_sumWeight\n",
    "        \n",
    "        signal_array[sample] = f['passedEvents'].arrays(filter_name=var_read_lists,library=\"ak\")"
   ]
  },
  {
   "cell_type": "code",
   "execution_count": 9,
   "id": "bfcaeaf1",
   "metadata": {},
   "outputs": [],
   "source": [
    "def make_cut(array,cat): \n",
    "    if cat=='DY':\n",
    "        selection = '((massmerged<70) | (massmerged>105)) & (particleNetZvsQCD>0.9) & (foundZ1LCandidate==True) & (foundZ2MergedCandidata==True)'\n",
    "        #cut_array = array['foundZ1LCandidate'] & array['foundZ2MergedCandidata'] & ((array['massmerged']<70) | (array['massmerged']>105) & (array['particleNetZvsQCD']>0.9)) #merged\n",
    "    elif cat=='TT':\n",
    "        selection = '((massmerged<70) | (massmerged>105)) & (particleNetZvsQCD>0.9) & (foundTTCRCandidate==True) & (foundZ2MergedCandidata==True)'\n",
    "        #cut_array = array['foundTTCRCandidate'] & array['foundZ2MergedCandidata'] & ((array['massmerged']<70) | (array['massmerged']>105) & (array['particleNetZvsQCD']>0.9)) #merged\n",
    "    else:\n",
    "        print(\"[ERROR] only DY and TT are available\")\n",
    "        sys.exit()\n",
    "    \n",
    "    cut_array = ak.numexpr.evaluate(selection,array)\n",
    "        \n",
    "    #cut_array = array[cat] & array['foundZ2JCandidate'] & ((array['mass2jet']<70) | (array['mass2jet']>105)) &array['passedNassociated']#resovled\n",
    "    #cut_array = array[cat] #leptonic Z\n",
    "    return cut_array"
   ]
  },
  {
   "cell_type": "code",
   "execution_count": 10,
   "id": "6f5511b8",
   "metadata": {},
   "outputs": [],
   "source": [
    "import yaml"
   ]
  },
  {
   "cell_type": "code",
   "execution_count": 11,
   "id": "95a7eff7",
   "metadata": {},
   "outputs": [],
   "source": [
    "sf_particleNet_signal = {}\n",
    "with open('/cms/user/guojl/ME_test/CMSSW_10_6_26/src/HZZAnalysis/cards/NetSF_signal_2016Legacy.yml') as f:\n",
    "    sf_particleNet_signal = yaml.safe_load(f)"
   ]
  },
  {
   "cell_type": "code",
   "execution_count": 12,
   "id": "f77c66be",
   "metadata": {},
   "outputs": [],
   "source": [
    "def GetParticleNetSignalSF(array,tagger):\n",
    "    if tagger=='ZvsQCD':\n",
    "        tag = 'particleNetZvsQCD'\n",
    "    elif tagger=='btag':\n",
    "        tag = 'particleNetZbbvslight'\n",
    "    else:\n",
    "        print(\"[ERROR] Please enter correctly tagger(only ZvQCD and btag are available )\")\n",
    "        sys.exit()\n",
    "        \n",
    "    sf_arr = ak.zeros_like(array['particleNetZvsQCD'])\n",
    "    sf_arr = ak.to_numpy(sf_arr)\n",
    "    \n",
    "    wsp = {\"LP\":[0.90,0.94],'MP':[0.94,0.98],'HP':[0.98,1.0]}\n",
    "    flavors = {'bhadron':'isbjet','chadron':'iscjet','lighthadron':'islightjet'}\n",
    "    pt_ranges = {'200To400':[200,400],'400To600':[400,600],'600ToInf':[600,9999999]} \n",
    "    \n",
    "    for pur in wsp.keys():\n",
    "        for flavor in flavors.keys():\n",
    "            for pt_range in pt_ranges.keys():\n",
    "                cut = \"({}>{}) & ({}<={}) & (ptmerged>={}) & (ptmerged<{}) & ({}==True)\".format(tag,wsp[pur][0],tag,wsp[pur][1],pt_ranges[pt_range][0],pt_ranges[pt_range][1],flavors[flavor])\n",
    "                cut_arr = ak.numexpr.evaluate(cut,array)\n",
    "                sf_arr[cut_arr] = float(sf_particleNet_signal[tagger][flavor][pur][pt_range])\n",
    "    sf_arr = ak.from_numpy(sf_arr)\n",
    "    print(\"This sf_array = \",sf_arr)\n",
    "    return sf_arr"
   ]
  },
  {
   "cell_type": "code",
   "execution_count": 13,
   "id": "a24cf7ad",
   "metadata": {},
   "outputs": [
    {
     "name": "stdout",
     "output_type": "stream",
     "text": [
      "This is DY_pt50To100 in DY\n",
      "This is DY_pt100To250 in DY\n",
      "This is DY_pt250To400 in DY\n",
      "This is DY_pt400To650 in DY\n",
      "This is DY_pt650ToInf in DY\n",
      "This is TTJets in DY\n",
      "This is WZTo2Q2L in DY\n",
      "This is ZZTo2Q2L in DY\n",
      "This is WWTo2L2Nu in DY\n",
      "This is Data in DY\n",
      "This is DY_pt50To100 in TT\n",
      "This is DY_pt100To250 in TT\n",
      "This is DY_pt250To400 in TT\n",
      "This is DY_pt400To650 in TT\n",
      "This is DY_pt650ToInf in TT\n",
      "This is TTJets in TT\n",
      "This is WZTo2Q2L in TT\n",
      "This is ZZTo2Q2L in TT\n",
      "This is WWTo2L2Nu in TT\n",
      "This is Data in TT\n"
     ]
    }
   ],
   "source": [
    "#apply Z+jet and TT CR cut for each sample\n",
    "CR_lists = [\"DY\",'TT']\n",
    "bkg_array_cut = {}; data_array_cut = {}; signal_array_cut = {}\n",
    "for CR_list in CR_lists:\n",
    "    bkg_array_cut[CR_list] = {}; data_array_cut[CR_list] = None;signal_array_cut[CR_list] = {}\n",
    "    for sample in Samples_lists:\n",
    "        print(f\"This is {sample} in {CR_list}\")\n",
    "        if sample!='Data':\n",
    "            temp_array = bkg_array[sample]\n",
    "            cut_array = make_cut(temp_array,CR_list)\n",
    "            bkg_array_cut[CR_list][sample] = temp_array[cut_array]\n",
    "        else:\n",
    "            temp_array = data_array\n",
    "            cut_array = make_cut(temp_array,CR_list)\n",
    "            data_array_cut[CR_list] = temp_array[cut_array]\n",
    "            \n",
    "    for sample in signal_lists:\n",
    "        temp_array = signal_array[sample]\n",
    "        cut_array = make_cut(temp_array,CR_list)\n",
    "        signal_array_cut[CR_list][sample] = temp_array[cut_array]\n"
   ]
  },
  {
   "cell_type": "code",
   "execution_count": 1,
   "id": "e3d6b395",
   "metadata": {},
   "outputs": [
    {
     "ename": "NameError",
     "evalue": "name 'bininfo' is not defined",
     "output_type": "error",
     "traceback": [
      "\u001b[0;31m---------------------------------------------------------------------------\u001b[0m",
      "\u001b[0;31mNameError\u001b[0m                                 Traceback (most recent call last)",
      "Input \u001b[0;32mIn [1]\u001b[0m, in \u001b[0;36m<cell line: 3>\u001b[0;34m()\u001b[0m\n\u001b[1;32m      1\u001b[0m \u001b[38;5;66;03m#fill histo \u001b[39;00m\n\u001b[1;32m      2\u001b[0m var \u001b[38;5;241m=\u001b[39m \u001b[38;5;124m'\u001b[39m\u001b[38;5;124mmassmerged\u001b[39m\u001b[38;5;124m'\u001b[39m\n\u001b[0;32m----> 3\u001b[0m nbins, xmin, xmax \u001b[38;5;241m=\u001b[39m \u001b[43mbininfo\u001b[49m[var][\u001b[38;5;241m0\u001b[39m], bininfo[var][\u001b[38;5;241m1\u001b[39m], bininfo[var][\u001b[38;5;241m2\u001b[39m]\n\u001b[1;32m      4\u001b[0m edge \u001b[38;5;241m=\u001b[39m np\u001b[38;5;241m.\u001b[39mlinspace(xmin, xmax, nbins\u001b[38;5;241m+\u001b[39m\u001b[38;5;241m1\u001b[39m)\n\u001b[1;32m      5\u001b[0m \u001b[38;5;28;01mif\u001b[39;00m var\u001b[38;5;241m.\u001b[39mfind(\u001b[38;5;124m'\u001b[39m\u001b[38;5;124mpt\u001b[39m\u001b[38;5;124m'\u001b[39m)\u001b[38;5;241m!=\u001b[39m\u001b[38;5;241m-\u001b[39m\u001b[38;5;241m1\u001b[39m \u001b[38;5;129;01mor\u001b[39;00m var\u001b[38;5;241m.\u001b[39mfind(\u001b[38;5;124m'\u001b[39m\u001b[38;5;124mmassmerged\u001b[39m\u001b[38;5;124m'\u001b[39m)\u001b[38;5;241m!=\u001b[39m\u001b[38;5;241m-\u001b[39m\u001b[38;5;241m1\u001b[39m \u001b[38;5;129;01mor\u001b[39;00m var\u001b[38;5;241m.\u001b[39mfind(\u001b[38;5;124m'\u001b[39m\u001b[38;5;124mmass2jet\u001b[39m\u001b[38;5;124m'\u001b[39m)\u001b[38;5;241m!=\u001b[39m\u001b[38;5;241m-\u001b[39m\u001b[38;5;241m1\u001b[39m:\n",
      "\u001b[0;31mNameError\u001b[0m: name 'bininfo' is not defined"
     ]
    }
   ],
   "source": [
    "#fill histo \n",
    "var = 'massmerged'\n",
    "nbins, xmin, xmax = bininfo[var][0], bininfo[var][1], bininfo[var][2]\n",
    "edge = np.linspace(xmin, xmax, nbins+1)\n",
    "if var.find('pt')!=-1 or var.find('massmerged')!=-1 or var.find('mass2jet')!=-1:\n",
    "    islogY = True\n",
    "else:\n",
    "    islogY = True\n",
    "\n",
    "bkg_hists = {}; Data_hist = {}; signal_hists={}\n",
    "for cat in CR_lists:\n",
    "    bkg_hists[cat] = [None,None,None]; Data_hist[cat] = None ;signal_hists[cat] = []\n",
    "    for sample in Samples_lists:\n",
    "        print(f\"This is {sample} in {cat}\")\n",
    "        if sample!='Data':\n",
    "            temp_array = bkg_array_cut[cat][sample]\n",
    "            weights = (temp_array['EventWeight']*lumi[2016]*1000*samples_inf[sample][1])/sumWeight[sample]\n",
    "            #ZZ and WZ need NET sf which is the same as signal\n",
    "            if sample == 'ZZTo2Q2L' or sample =='WZTo2Q2L':\n",
    "                sf_Net = GetParticleNetSignalSF(temp_array,'ZvsQCD')\n",
    "                weights = weights*sf_Net\n",
    "        \n",
    "            temp_hist = get_hist(temp_array[var],weights,nbins,xmin,xmax)\n",
    "            \n",
    "            \n",
    "            \n",
    "            if sample.find('DY')!=-1:\n",
    "                if (bkg_hists[cat])[2]==None:\n",
    "                    (bkg_hists[cat])[2] = temp_hist\n",
    "                else:\n",
    "                    (bkg_hists[cat])[2]+=temp_hist\n",
    "            if sample.find('TTJets')!=-1 or sample.find('WWTo2L2Nu')!=-1:\n",
    "                if (bkg_hists[cat])[1]==None:\n",
    "                    (bkg_hists[cat])[1] = temp_hist\n",
    "                else:\n",
    "                    (bkg_hists[cat])[1]+=temp_hist\n",
    "            if sample.find('WZTo2Q2L')!=-1 or sample.find('ZZTo2Q2L')!=-1:\n",
    "                if (bkg_hists[cat])[0]==None:\n",
    "                    (bkg_hists[cat])[0] = temp_hist\n",
    "                else:\n",
    "                    (bkg_hists[cat])[0]+=temp_hist\n",
    "        else:\n",
    "            temp_array = data_array_cut[cat]\n",
    "            weights = np.ones_like(temp_array['EventWeight'])\n",
    "            print(f'data weight  = {weights}')\n",
    "            Data_hist[cat] = get_hist(temp_array[var],weights,nbins,xmin,xmax)\n",
    "\n",
    "    for sample in signal_lists:\n",
    "        temp_array = signal_array_cut[cat][sample]\n",
    "        weights = (temp_array['EventWeight']*lumi[2016]*samples_inf[sample][1]*1000)/sumWeight[sample] #scale 100\n",
    "        temp_hist = get_hist(temp_array[var],weights,nbins,xmin,xmax)\n",
    "        signal_hists[cat].append(temp_hist)\n",
    "\n",
    "print(\"Fill done\")\n",
    "\n",
    "#draw var\n",
    "for cat in CR_lists:\n",
    "    print(f\"[INFO] it is {cat} plot\")\n",
    "    plot_unce = True\n",
    "    set_sns_color(color_order_bkg)\n",
    "    f = plt.figure(figsize=(12,12))\n",
    "    gs = mpl.gridspec.GridSpec(2, 1, height_ratios=[3, 1], hspace=0)\n",
    "    ##================================ Upper histogram panel=========================================\n",
    "    ax = f.add_subplot(gs[0])\n",
    "    hep.cms.label(data=True, year=year, ax=ax, rlabel=r'%s $fb^{-1}$ (13 TeV)'%lumi[year], fontname='sans-serif')\n",
    "    ax.set_xlim(xmin, xmax); ax.set_xticklabels([]); ax.set_ylabel('Events / bin', ha='right', y=1.0)\n",
    "    \n",
    "    ##BACKGRUND\n",
    "    #hep.histplot(bkg_hists[cat],label=[f'MC ({var})' for var in ['WZ,ZZ','TT,WW','Z+jets']],histtype='fill', edgecolor='k', linewidth=1, stack=True) ## draw MC\n",
    "    plot_hist(bkg_hists[cat],label=[f'MC ({var})' for var in ['WZ,ZZ','TT,WW','Z+jets']],histtype='fill', edgecolor='k', linewidth=1, stack=True) ## draw MC\n",
    "    bkg_hist = bkg_hists[cat][0]+bkg_hists[cat][1]+bkg_hists[cat][2]\n",
    "    bkg_tot = bkg_hist.values()\n",
    "    bkg_err = get_err(bkg_hist)\n",
    "    #bkg_err = np.sqrt(bkg_hist.view(flow=False).variance)\n",
    "\n",
    "    if plot_unce:\n",
    "        #ax.fill_between(edge, (bkg_tot-bkg_err).tolist()+[0], (bkg_tot+bkg_err).tolist()+[0], label='BKG total unce.', step='post', hatch='\\\\\\\\', edgecolor='dimgrey', facecolor='none', linewidth=0) ## draw bkg unce. \n",
    "        ax.fill_between(edge, (bkg_tot-bkg_err).tolist()+[0], (bkg_tot+bkg_err).tolist()+[0], label='BKG total unce.', step='post', hatch='\\\\\\\\', edgecolor='darkblue', facecolor='none', linewidth=0) ## draw bkg unce.\n",
    "    ax.set_xlim(xmin, xmax); ax.set_xticklabels([]);\n",
    "    ax.set_ylabel('Events / bin', ha='right', y=1.0);\n",
    "    \n",
    "    ##SIGNAL\n",
    "    #colors = ['blue', 'red']\n",
    "    #plot_hist(signal_hists[cat],label=[ var for var in ['ggH(m1000)','VBF(m1500)']],linestyle=[style for style in [':','--']], color=[color for color in colors])\n",
    "    #plot_hist(signal_hists[cat],'ggH(m1000)',linestyle=[style for style in [':','--']], color=[color for color in colors])\n",
    "\n",
    "\n",
    "    ##DATA\n",
    "    data_err = get_err(Data_hist[cat])\n",
    "    data = Data_hist[cat].values()\n",
    "    #hep.histplot(Data_hist[cat], yerr=data_err,label='Data', histtype='errorbar', color='k', markersize=15, elinewidth=1.5) ## draw data\n",
    "    plot_hist(Data_hist[cat],label='Data', histtype='errorbar', color='k', markersize=15, elinewidth=1.5) ## draw data\n",
    "    if islogY:\n",
    "        ax.set(yscale = \"log\")\n",
    "        ax.set_ylim(1e-1, 3*ax.get_ylim()[1])\n",
    "    else:\n",
    "        ax.set_ylim(0, ax.get_ylim()[1])\n",
    "        ax.set_ylim(0, 1.5*max(data))\n",
    "    hep.plot.yscale_legend\n",
    "    ax.legend(fontsize=15)\n",
    "\n",
    "    ##==========================================Ratio panel========================\n",
    "    ax1 = f.add_subplot(gs[1]); ax1.set_xlim(xmin, xmax); ax1.set_ylim(0.001, 1.999)\n",
    "    ax1.set_xlabel(bininfo[var][3], ha='right', x=1.0); ax1.set_ylabel('Data / MC', ha='center')\n",
    "    ax1.plot([xmin,xmax], [1,1], 'k'); ax1.plot([xmin,xmax], [0.5,0.5], 'k:'); ax1.plot([xmin,xmax], [1.5,1.5], 'k:')\n",
    "    \n",
    "    ratio=np.nan_to_num((data/bkg_tot),nan=-1)\n",
    "    ratio_err = np.nan_to_num((data_err/bkg_tot),nan=-1)\n",
    "    hep.histplot(ratio, yerr = ratio_err,bins=edge, histtype='errorbar', color='k', markersize=15, elinewidth=1)\n",
    "    #hep.histplot(data/bkg_tot, yerr = data_err/bkg_err,bins=edge, histtype='errorbar', color='k', markersize=15, elinewidth=1)\n",
    "    if plot_unce:\n",
    "        ratio_unc_low = np.nan_to_num(((bkg_tot-bkg_err)/bkg_tot),nan=-1)\n",
    "        ratio_unc_up = np.nan_to_num(((bkg_tot+bkg_err)/bkg_tot),nan=-1)\n",
    "        ax1.fill_between(edge, ratio_unc_low.tolist()+[0],ratio_unc_up.tolist()+[0], step='post', hatch='\\\\\\\\', edgecolor='darkblue', facecolor='none', linewidth=0) ## draw bkg unce.\n",
    "        #ax1.fill_between(edge, ((bkg_tot-bkg_err)/bkg_tot).tolist()+[0], ((bkg_tot+bkg_err)/bkg_tot).tolist()+[0], step='post', hatch='\\\\\\\\', edgecolor='darkblue', facecolor='none', linewidth=0) ## draw bkg unce."
   ]
  },
  {
   "cell_type": "code",
   "execution_count": 15,
   "id": "6a787380",
   "metadata": {},
   "outputs": [],
   "source": [
    "import uproot"
   ]
  },
  {
   "cell_type": "code",
   "execution_count": 17,
   "id": "e22b321a",
   "metadata": {},
   "outputs": [],
   "source": [
    "###store histo to a root file \n",
    "outCRfilepath = '/cms/user/guojl/ME_test/CMSSW_10_6_26/src/HZZAnalysis/NetMCCalibration/fileCR'\n",
    "outfile = uproot.recreate(f\"{outCRfilepath}/CR_NET090.root\")\n",
    "for cat in CR_lists:\n",
    "    outfile[f'CR_{cat}/data_obs'] = Data_hist[cat]\n",
    "    \n",
    "    outfile[f'CR_{cat}/DY'] = bkg_hists[cat][2]\n",
    "    outfile[f'CR_{cat}/TTjets'] = bkg_hists[cat][1]\n",
    "    outfile[f'CR_{cat}/ZV'] = bkg_hists[cat][0]\n",
    "    \n",
    "    outfile[f'CR_{cat}/ggh'] = signal_hists[cat][0]    "
   ]
  },
  {
   "cell_type": "code",
   "execution_count": 25,
   "id": "1a2712d2",
   "metadata": {},
   "outputs": [
    {
     "data": {
      "text/plain": [
       "[Histogram(Regular(40, 0, 200), storage=Weight()) # Sum: WeightedSum(value=7133.56, variance=2961.83)]"
      ]
     },
     "execution_count": 25,
     "metadata": {},
     "output_type": "execute_result"
    }
   ],
   "source": [
    "signal_hists['DY']"
   ]
  },
  {
   "cell_type": "code",
   "execution_count": 32,
   "id": "47007898",
   "metadata": {},
   "outputs": [
    {
     "ename": "AttributeError",
     "evalue": "'WritableDirectory' object has no attribute 'key'",
     "output_type": "error",
     "traceback": [
      "\u001b[0;31m---------------------------------------------------------------------------\u001b[0m",
      "\u001b[0;31mAttributeError\u001b[0m                            Traceback (most recent call last)",
      "Input \u001b[0;32mIn [32]\u001b[0m, in \u001b[0;36m<cell line: 1>\u001b[0;34m()\u001b[0m\n\u001b[0;32m----> 1\u001b[0m \u001b[43moutfile\u001b[49m\u001b[38;5;241;43m.\u001b[39;49m\u001b[43mkey\u001b[49m()\n",
      "\u001b[0;31mAttributeError\u001b[0m: 'WritableDirectory' object has no attribute 'key'"
     ]
    }
   ],
   "source": []
  },
  {
   "cell_type": "code",
   "execution_count": null,
   "id": "8f6c477e",
   "metadata": {},
   "outputs": [],
   "source": []
  }
 ],
 "metadata": {
  "kernelspec": {
   "display_name": "Python 3 (ipykernel)",
   "language": "python",
   "name": "python3"
  },
  "language_info": {
   "codemirror_mode": {
    "name": "ipython",
    "version": 3
   },
   "file_extension": ".py",
   "mimetype": "text/x-python",
   "name": "python",
   "nbconvert_exporter": "python",
   "pygments_lexer": "ipython3",
   "version": "3.8.12"
  }
 },
 "nbformat": 4,
 "nbformat_minor": 5
}
