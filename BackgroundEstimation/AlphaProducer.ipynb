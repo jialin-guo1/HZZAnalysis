{
 "cells": [
  {
   "cell_type": "code",
   "execution_count": 2,
   "id": "017bb085",
   "metadata": {},
   "outputs": [],
   "source": [
    "#import uproot4 as uproot\n",
    "import uproot \n",
    "import boost_histogram as bh\n",
    "import matplotlib.pyplot as plt\n",
    "import matplotlib as mpl\n",
    "import mplhep as hep\n",
    "import awkward as ak\n",
    "import pandas as pd\n",
    "import numpy as np"
   ]
  },
  {
   "cell_type": "code",
   "execution_count": 3,
   "id": "3d3ff840",
   "metadata": {},
   "outputs": [],
   "source": [
    "import seaborn as sns\n",
    "def set_sns_color(*args):\n",
    "    sns.palplot(sns.color_palette(*args))\n",
    "    sns.set_palette(*args)\n",
    "    \n",
    "color_order_bkg = sns.color_palette('Accent', 3)\n",
    "color_order_bkg.reverse()"
   ]
  },
  {
   "cell_type": "code",
   "execution_count": 4,
   "id": "0207d6bc",
   "metadata": {},
   "outputs": [],
   "source": [
    "use_helvet = True  ## true: use helvetica for plots, make sure the system have the font installed\n",
    "if use_helvet:\n",
    "    CMShelvet = hep.style.CMS\n",
    "    CMShelvet['font.sans-serif'] = ['Helvetica', 'Arial']\n",
    "    plt.style.use(CMShelvet)\n",
    "else:\n",
    "    plt.style.use(hep.style.CMS)"
   ]
  },
  {
   "cell_type": "code",
   "execution_count": 5,
   "id": "890e74ca",
   "metadata": {},
   "outputs": [],
   "source": [
    "import sys,os\n",
    "sys.path.append(\"/cms/user/guojl/ME_test/CMSSW_10_6_26/src/HZZAnalysis/lib\")"
   ]
  },
  {
   "cell_type": "code",
   "execution_count": 6,
   "id": "32ae0d45",
   "metadata": {},
   "outputs": [],
   "source": [
    "from utils import *"
   ]
  },
  {
   "cell_type": "code",
   "execution_count": 7,
   "id": "6a7b3524",
   "metadata": {},
   "outputs": [],
   "source": [
    "#var to read\n",
    "var_read_lists = ['pt2l','mass2l','EventWeight','foundZ1LCandidate','foundTTCRCandidate','foundZ2JCandidate','foundZ2MergedCandidata','foundTTCRCandidate','passedfullmerged','passedfullresolved','particleNetZvsQCD','passedNassociated','isEE','isMuMu',\n",
    "                        'massmerged','ptmerged',\n",
    "                        'pt2jet','mass2jet',\n",
    "                        'mass2l2jet', 'mass2lj',\n",
    "                        'KD_jjVBF',\n",
    "                         'isbjet','iscjet','islightjet']"
   ]
  },
  {
   "cell_type": "code",
   "execution_count": 8,
   "id": "8962aacf",
   "metadata": {},
   "outputs": [],
   "source": [
    "ori_dir = '/cms/user/guojl/Sample/2L2Q/UL_Legacy/2016/'\n",
    "samples_inf = {#name path cross Section\n",
    "                    #'DY_pt50To100':['MC/DYJetsToLL_Pt-50To100_MatchEWPDG20_TuneCP5_13TeV-amcatnloFXFX-pythia8', 363.8142],\n",
    "                    'DY_pt50To100':['MC/DYJetsToLL_Pt-50To100_MatchEWPDG20_TuneCP5_13TeV-amcatnloFXFX-pythia8', 398.8],\n",
    "                    #'DY_pt100To250':['MC/DYJetsToLL_Pt-100To250_MatchEWPDG20_TuneCP5_13TeV-amcatnloFXFX-pythia8',84.014804],\n",
    "                    'DY_pt100To250':['MC/DYJetsToLL_Pt-100To250_MatchEWPDG20_TuneCP5_13TeV-amcatnloFXFX-pythia8',93.61],\n",
    "                    'DY_pt250To400':['MC/DYJetsToLL_Pt-250To400_MatchEWPDG20_TuneCP5_13TeV-amcatnloFXFX-pythia8',3.67],#3.047],\n",
    "                    'DY_pt400To650':['MC/DYJetsToLL_Pt-400To650_MatchEWPDG20_TuneCP5_13TeV-amcatnloFXFX-pythia8',0.5],#0.392],\n",
    "                    'DY_pt650ToInf':['MC/DYJetsToLL_Pt-650ToInf_MatchEWPDG20_TuneCP5_13TeV-amcatnloFXFX-pythia8',0.04704],#0.03636],\n",
    "                    'TTJets':['MC/TTJets_TuneCP5_13TeV-amcatnloFXFX-pythia8',831.76],\n",
    "                    'TTTo2L2Nu':['MC/TTTo2L2Nu_TuneCP5_13TeV-powheg-pythia8',1],\n",
    "                    'WW_TuneCP5':['MC/WW_TuneCP5_13TeV-pythia8',1],\n",
    "                    'WWTo2L2Nu':['MC/WWTo2L2Nu_TuneCP5_13TeV-powheg-pythia8',11.09],\n",
    "                    'WZTo2Q2L':['MC/WZTo2Q2L_mllmin4p0_TuneCP5_13TeV-amcatnloFXFX-pythia8',6.419],\n",
    "                    'ZZTo2Q2L':['MC/ZZTo2Q2L_mllmin4p0_TuneCP5_13TeV-amcatnloFXFX-pythia8',3.696],\n",
    "                    'ggH1000':['MC/Signal/skimed/GluGluHToZZTo2L2Q_M1000_TuneCP5_13TeV_powheg2_JHUGenV7011_pythia8__asymptotic_v17-v2_0.root',5.07],\n",
    "                    'VBF1500':['MC/Signal/skimed/VBF_HToZZTo2L2Q_M1500_TuneCP5_13TeV_powheg2_JHUGenV7011_pythia8__asymptotic_v13-v1_0.root',0.77],\n",
    "                    'test':'MC/test',\n",
    "                    'Data':['Data/skimed/Data2016UL_noDuplicates.root',1],\n",
    "                    }\n",
    "\n",
    "Samples_lists = ['DY_pt50To100','DY_pt100To250','DY_pt250To400','DY_pt400To650','DY_pt650ToInf',\n",
    "              'TTJets',\n",
    "              'WZTo2Q2L',\n",
    "              'ZZTo2Q2L',\n",
    "              'WWTo2L2Nu',\n",
    "              'Data']\n",
    "\n",
    "#signal_lists = [ 'ggH1000','VBF1500']\n",
    "signal_lists = [ 'ggH1000']\n",
    "\n",
    "lumi = {2016: 16.81, 2017: 41.53, 2018: 59.74}\n",
    "year=2016\n",
    "\n",
    "bininfo = {'mass2l':[24,60,120,\"M(ll)\"],\n",
    "              'pt2l':[70,100,800,\"Pt(ll)\"],\n",
    "              #'massmerged':[28,40,180,\"M(J)\"],\n",
    "              'massmerged':[40,0,200,\"M(J)\"],\n",
    "              'ptmerged':[60,200,800,\"Pt(J)\"],\n",
    "              'mass2l2jet':[28,40,180,\"M(2l2q)\"], \n",
    "              'mass2lj':[60,500,3500,\"M(2l2q)\"],\n",
    "              'pt2jet':[70,100,800,\"Pt(jj)\"],\n",
    "              'mass2jet':[28,40,180,\"M(jj)\"],\n",
    "              'particleNetZvsQCD':[20,0,1,\"particleNetZvsQCD\"],\n",
    "              'KD_jjVBF':[20,0,1,\"VBF(score)\"]}\n",
    "\n",
    "cats = ['isEE','isMuMu']"
   ]
  },
  {
   "cell_type": "code",
   "execution_count": 9,
   "id": "825c3155",
   "metadata": {},
   "outputs": [
    {
     "name": "stdout",
     "output_type": "stream",
     "text": [
      "This is DY_pt50To100\n",
      "This is DY_pt100To250\n",
      "This is DY_pt250To400\n",
      "This is DY_pt400To650\n",
      "This is DY_pt650ToInf\n",
      "This is TTJets\n",
      "This is WZTo2Q2L\n",
      "This is ZZTo2Q2L\n",
      "This is WWTo2L2Nu\n",
      "This is Data\n",
      "This is ggH1000\n"
     ]
    }
   ],
   "source": [
    "#extract branch for each sample\n",
    "bkg_array = {}\n",
    "data_array = None\n",
    "signal_array = {}\n",
    "sumWeight = {}\n",
    "\n",
    "for sample in Samples_lists:\n",
    "    print(f\"This is {sample}\")\n",
    "    if sample!='Data':\n",
    "        indir = ori_dir+samples_inf[sample][0]+'/skimed'\n",
    "        files = find_this_rootfiles(indir)\n",
    "        sumWeight[sample] = 0\n",
    "            \n",
    "        for file in files:\n",
    "            with uproot.open(f'{indir}/{file}') as f:\n",
    "                this_sumWeight_h = f['sumWeights'].to_boost()\n",
    "                this_sumWeight = this_sumWeight_h.sum()\n",
    "                #print(f'this sum weight = {this_sumWeight}')\n",
    "                sumWeight[sample] += this_sumWeight\n",
    "                    \n",
    "        bkg_array[sample] = uproot.lazy([f\"{indir}/*.root:passedEvents\"],filter_name=var_read_lists)\n",
    "        \n",
    "    else:\n",
    "        data_path = ori_dir+samples_inf['Data'][0]\n",
    "        data_array = uproot.lazy([f\"{data_path}:passedEvents\"],filter_name=var_read_lists)\n",
    "\n",
    "for sample in signal_lists:\n",
    "    print(f\"This is {sample}\")\n",
    "    signal_path = ori_dir+samples_inf[sample][0]\n",
    "    \n",
    "    sumWeight[sample] = 0\n",
    "    with uproot.open(signal_path) as f:\n",
    "        this_sumWeight_h = f['sumWeights'].to_boost()\n",
    "        this_sumWeight = this_sumWeight_h.sum()\n",
    "        sumWeight[sample] += this_sumWeight\n",
    "        \n",
    "        signal_array[sample] = f['passedEvents'].arrays(filter_name=var_read_lists,library=\"ak\")"
   ]
  },
  {
   "cell_type": "code",
   "execution_count": 10,
   "id": "2bb9c379",
   "metadata": {},
   "outputs": [],
   "source": [
    "def make_cut(array,region,cat): \n",
    "    if region=='CR':\n",
    "        selection = f'((massmerged<70) | (massmerged>105)) & (particleNetZvsQCD>0.9) & (foundZ1LCandidate==True) & (foundZ2MergedCandidata==True) & ({cat}==True)'\n",
    "        #cut_array = array['foundZ1LCandidate'] & array['foundZ2MergedCandidata'] & ((array['massmerged']<70) | (array['massmerged']>105) & (array['particleNetZvsQCD']>0.9)) #merged\n",
    "    elif region=='SR':\n",
    "        selection = f'(massmerged>70) & (massmerged<105) & (particleNetZvsQCD>0.9) & (foundZ1LCandidate==True) & (foundZ2MergedCandidata==True) & ({cat}==True)'\n",
    "        #cut_array = array['foundTTCRCandidate'] & array['foundZ2MergedCandidata'] & ((array['massmerged']<70) | (array['massmerged']>105) & (array['particleNetZvsQCD']>0.9)) #merged\n",
    "    else:\n",
    "        print(\"[ERROR] only CR and SR are available\")\n",
    "        sys.exit()\n",
    "    \n",
    "    cut_array = ak.numexpr.evaluate(selection,array)\n",
    "        \n",
    "    #cut_array = array[cat] & array['foundZ2JCandidate'] & ((array['mass2jet']<70) | (array['mass2jet']>105)) &array['passedNassociated']#resovled\n",
    "    #cut_array = array[cat] #leptonic Z\n",
    "    return cut_array"
   ]
  },
  {
   "cell_type": "code",
   "execution_count": 11,
   "id": "545c041c",
   "metadata": {},
   "outputs": [],
   "source": [
    "import yaml"
   ]
  },
  {
   "cell_type": "code",
   "execution_count": 12,
   "id": "ce697174",
   "metadata": {},
   "outputs": [],
   "source": [
    "sf_particleNet_signal = {}\n",
    "with open('/cms/user/guojl/ME_test/CMSSW_10_6_26/src/HZZAnalysis/cards/NetSF_signal_2016Legacy.yml') as f:\n",
    "    sf_particleNet_signal = yaml.safe_load(f)"
   ]
  },
  {
   "cell_type": "code",
   "execution_count": 13,
   "id": "6e0c8012",
   "metadata": {},
   "outputs": [
    {
     "name": "stdout",
     "output_type": "stream",
     "text": [
      "This is DY_pt50To100 in CR in isEE\n",
      "This is DY_pt100To250 in CR in isEE\n",
      "This is DY_pt250To400 in CR in isEE\n",
      "This is DY_pt400To650 in CR in isEE\n",
      "This is DY_pt650ToInf in CR in isEE\n",
      "This is TTJets in CR in isEE\n",
      "This is WZTo2Q2L in CR in isEE\n",
      "This is ZZTo2Q2L in CR in isEE\n",
      "This is WWTo2L2Nu in CR in isEE\n",
      "This is Data in CR in isEE\n",
      "This is DY_pt50To100 in CR in isMuMu\n",
      "This is DY_pt100To250 in CR in isMuMu\n",
      "This is DY_pt250To400 in CR in isMuMu\n",
      "This is DY_pt400To650 in CR in isMuMu\n",
      "This is DY_pt650ToInf in CR in isMuMu\n",
      "This is TTJets in CR in isMuMu\n",
      "This is WZTo2Q2L in CR in isMuMu\n",
      "This is ZZTo2Q2L in CR in isMuMu\n",
      "This is WWTo2L2Nu in CR in isMuMu\n",
      "This is Data in CR in isMuMu\n",
      "This is DY_pt50To100 in SR in isEE\n",
      "This is DY_pt100To250 in SR in isEE\n",
      "This is DY_pt250To400 in SR in isEE\n",
      "This is DY_pt400To650 in SR in isEE\n",
      "This is DY_pt650ToInf in SR in isEE\n",
      "This is TTJets in SR in isEE\n",
      "This is WZTo2Q2L in SR in isEE\n",
      "This is ZZTo2Q2L in SR in isEE\n",
      "This is WWTo2L2Nu in SR in isEE\n",
      "This is Data in SR in isEE\n",
      "This is DY_pt50To100 in SR in isMuMu\n",
      "This is DY_pt100To250 in SR in isMuMu\n",
      "This is DY_pt250To400 in SR in isMuMu\n",
      "This is DY_pt400To650 in SR in isMuMu\n",
      "This is DY_pt650ToInf in SR in isMuMu\n",
      "This is TTJets in SR in isMuMu\n",
      "This is WZTo2Q2L in SR in isMuMu\n",
      "This is ZZTo2Q2L in SR in isMuMu\n",
      "This is WWTo2L2Nu in SR in isMuMu\n",
      "This is Data in SR in isMuMu\n"
     ]
    }
   ],
   "source": [
    "#apply cut and for each sample\n",
    "regions = ['CR','SR']\n",
    "bkg_array_cut = {}; data_array_cut = {}; signal_array_cut = {}\n",
    "for reg in regions:\n",
    "    bkg_array_cut[reg] = {}; data_array_cut[reg] = {}; signal_array_cut[reg] = {}\n",
    "    for cat in cats:\n",
    "        bkg_array_cut[reg][cat] = {}; data_array_cut[reg][cat] = None; signal_array_cut[reg][cat] = {}\n",
    "        for sample in Samples_lists:\n",
    "            print(f\"This is {sample} in {reg} in {cat}\")\n",
    "            if sample!='Data':\n",
    "                temp_array = bkg_array[sample]\n",
    "                cut_array = make_cut(temp_array,region = reg, cat = cat)\n",
    "                bkg_array_cut[reg][cat][sample] = temp_array[cut_array]\n",
    "            else:\n",
    "                temp_array = data_array\n",
    "            \n",
    "                cut_array = make_cut(temp_array,region = reg, cat = cat)\n",
    "                data_array_cut[reg][cat] = temp_array[cut_array]\n",
    "        #for sample in signal_lists:\n",
    "        #    temp_array = signal_array[sample]\n",
    "        #    cut_array = make_cut(temp_array,region = reg, cat = cat)\n",
    "        #    signal_array_cut[reg][cat][sample] = temp_array[cut_array]"
   ]
  },
  {
   "cell_type": "code",
   "execution_count": 19,
   "id": "4607077b",
   "metadata": {
    "scrolled": false
   },
   "outputs": [
    {
     "name": "stdout",
     "output_type": "stream",
     "text": [
      "massZZ bins = Variable(array([ 500.,  550.,  600.,  650.,  700.,  750.,  800.,  850.,  900.,\n",
      "        950., 1000., 1050., 1100., 1150., 1200., 1250., 1300., 1350.,\n",
      "       1400., 1450., 1500., 1550., 1600., 1650., 1700., 2000., 3500.]))\n",
      "[INFO] it is mass2lj plot\n",
      "This is DY_pt50To100 in isEE\n",
      "This is DY_pt100To250 in isEE\n",
      "This is DY_pt250To400 in isEE\n",
      "This is DY_pt400To650 in isEE\n",
      "This is DY_pt650ToInf in isEE\n",
      "This is TTJets in isEE\n",
      "This is WZTo2Q2L in isEE\n",
      "This sf_array =  [0.881, 0.975, 1.04, 0.842, 0.975, 0.842, ... 0.881, 1.11, 0.887, 0.975, 0.881]\n",
      "This is ZZTo2Q2L in isEE\n",
      "This sf_array =  [0.89, 1.04, 0.975, 0.842, 1.21, 1.04, ... 0.985, 0.738, 0.756, 0.918, 0.918, 0.89]\n",
      "This is WWTo2L2Nu in isEE\n",
      "This is Data in isEE\n",
      "data weight  = [1, 1, 1, 1, 1, 1, 1, 1, 1, 1, 1, 1, 1, 1, ... 1, 1, 1, 1, 1, 1, 1, 1, 1, 1, 1, 1, 1]\n",
      "This is DY_pt50To100 in isMuMu\n",
      "This is DY_pt100To250 in isMuMu\n",
      "This is DY_pt250To400 in isMuMu\n",
      "This is DY_pt400To650 in isMuMu\n",
      "This is DY_pt650ToInf in isMuMu\n",
      "This is TTJets in isMuMu\n",
      "This is WZTo2Q2L in isMuMu\n",
      "This sf_array =  [0.842, 0.881, 0.975, 1.08, 0.745, 0.881, ... 0.975, 0.745, 0.756, 1.21, 0.842]\n",
      "This is ZZTo2Q2L in isMuMu\n",
      "This sf_array =  [0.89, 0.842, 0.842, 0.842, 0.881, 0.985, ... 1.1, 1.04, 0.975, 1.07, 1.21, 0.89]\n",
      "This is WWTo2L2Nu in isMuMu\n",
      "This is Data in isMuMu\n",
      "data weight  = [1, 1, 1, 1, 1, 1, 1, 1, 1, 1, 1, 1, 1, 1, ... 1, 1, 1, 1, 1, 1, 1, 1, 1, 1, 1, 1, 1]\n",
      "This is DY_pt50To100 in isEE\n",
      "This is DY_pt100To250 in isEE\n",
      "This is DY_pt250To400 in isEE\n",
      "This is DY_pt400To650 in isEE\n",
      "This is DY_pt650ToInf in isEE\n",
      "This is TTJets in isEE\n",
      "This is WZTo2Q2L in isEE\n",
      "This sf_array =  [1.04, 0.985, 0.616, 1.04, 1.07, 0.975, ... 0.842, 0.975, 0.842, 0.975, 0.975, 1.11]\n",
      "This is ZZTo2Q2L in isEE\n",
      "This sf_array =  [1.04, 0.985, 0.89, 1.04, 1.21, 1.04, 1.04, ... 0.89, 1.34, 1.04, 0.89, 1.08, 0.985]\n",
      "This is WWTo2L2Nu in isEE\n",
      "This is Data in isEE\n",
      "data weight  = [1, 1, 1, 1, 1, 1, 1, 1, 1, 1, 1, 1, 1, 1, ... 1, 1, 1, 1, 1, 1, 1, 1, 1, 1, 1, 1, 1]\n",
      "This is DY_pt50To100 in isMuMu\n",
      "This is DY_pt100To250 in isMuMu\n",
      "This is DY_pt250To400 in isMuMu\n",
      "This is DY_pt400To650 in isMuMu\n",
      "This is DY_pt650ToInf in isMuMu\n",
      "This is TTJets in isMuMu\n",
      "This is WZTo2Q2L in isMuMu\n",
      "This sf_array =  [0.975, 0.975, 0.975, 0.756, 0.745, 0.929, ... 0.881, 0.842, 0.975, 0.975, 0.842]\n",
      "This is ZZTo2Q2L in isMuMu\n",
      "This sf_array =  [0.842, 0.842, 1.04, 1.1, 1.04, 0.985, ... 0.985, 1.04, 0.999, 1.04, 1.11, 0.89]\n",
      "This is WWTo2L2Nu in isMuMu\n",
      "This is Data in isMuMu\n",
      "data weight  = [1, 1, 1, 1, 1, 1, 1, 1, 1, 1, 1, 1, 1, 1, ... 1, 1, 1, 1, 1, 1, 1, 1, 1, 1, 1, 1, 1]\n",
      "Fill done\n"
     ]
    }
   ],
   "source": [
    "massZZ_low_bins = np.linspace(500,1700,25)\n",
    "massZZ_high_bins = np.array([2000,3500])\n",
    "massZZ_bins = bh.axis.Variable(ak.from_numpy(np.append(massZZ_low_bins,massZZ_high_bins)).to_list())\n",
    "print(f'massZZ bins = {massZZ_bins}')\n",
    "#set var draw \n",
    "varbs = ['mass2lj']\n",
    "for var in varbs:\n",
    "    print(f\"[INFO] it is {var} plot\")\n",
    "    nbins, xmin, xmax = bininfo[var][0], bininfo[var][1], bininfo[var][2]\n",
    "    edge = np.linspace(xmin, xmax, nbins+1)\n",
    "    if var.find('pt')!=-1 or var.find('massmerged')!=-1 or var.find('mass2jet')!=-1:\n",
    "        islogY = True\n",
    "    else:\n",
    "        islogY = True\n",
    "\n",
    "    #fill histo \n",
    "    bkg_hists = {}; Data_hist = {}; signal_hists = {}\n",
    "    for reg in regions:\n",
    "        bkg_hists[reg] = {}; Data_hist[reg] = {}; signal_hists[reg] = {}\n",
    "        for cat in cats:\n",
    "            bkg_hists[reg][cat] = [None,None,None]; Data_hist[reg][cat] = None; signal_hists[reg][cat] = []\n",
    "            for sample in Samples_lists:\n",
    "                print(f\"This is {sample} in {cat}\")\n",
    "                if sample!='Data':\n",
    "                    temp_array = bkg_array_cut[reg][cat][sample]\n",
    "                    #retray weight and apply paritcleNet weight\n",
    "                    weights = (temp_array['EventWeight']*lumi[2016]*1000*samples_inf[sample][1])/sumWeight[sample]\n",
    "                    if sample == 'ZZTo2Q2L' or sample =='WZTo2Q2L':\n",
    "                        sf_Net = GetParticleNetSignalSF(temp_array,'ZvsQCD',sf_particleNet_signal)\n",
    "                    elif sample.find('DY')!=-1:\n",
    "                        sf_Net = GetParticleNetbkgSF(temp_array,'ZvsQCD','DY')\n",
    "                    elif sample.find('TTJets')!=-1 or sample.find('WWTo2L2Nu')!=-1:\n",
    "                        sf_Net = GetParticleNetbkgSF(temp_array,'ZvsQCD','TT')\n",
    "                    else:\n",
    "                        sf_Net = ak.ones_like(temp_array['EventWeight'])\n",
    "                    weights = weights*sf_Net\n",
    "\n",
    "                    #temp_hist = get_hist(temp_array[var],weights,nbins,xmin,xmax)\n",
    "                    temp_hist = bh.Histogram(massZZ_bins,storage=bh.storage.Weight())\n",
    "                    temp_hist.fill(temp_array[var],weight = weights)\n",
    "\n",
    "\n",
    "                    if sample.find('DY')!=-1:\n",
    "                        if (bkg_hists[reg][cat])[2]==None:\n",
    "                            (bkg_hists[reg][cat])[2] = temp_hist\n",
    "                        else:\n",
    "                            (bkg_hists[reg][cat])[2]+=temp_hist\n",
    "                    if sample.find('TTJets')!=-1 or sample.find('WWTo2L2Nu')!=-1:\n",
    "                        if (bkg_hists[reg][cat])[1]==None:\n",
    "                            (bkg_hists[reg][cat])[1] = temp_hist\n",
    "                        else:\n",
    "                            (bkg_hists[reg][cat])[1]+=temp_hist\n",
    "                    if sample.find('WZTo2Q2L')!=-1 or sample.find('ZZTo2Q2L')!=-1:\n",
    "                        if (bkg_hists[reg][cat])[0]==None:\n",
    "                            (bkg_hists[reg][cat])[0] = temp_hist\n",
    "                        else:\n",
    "                            (bkg_hists[reg][cat])[0]+=temp_hist\n",
    "                else:\n",
    "                    temp_array = data_array_cut[reg][cat]\n",
    "                    weights = np.ones_like(temp_array['EventWeight'])\n",
    "                    print(f'data weight  = {weights}')\n",
    "                    #Data_hist[reg][cat] = get_hist(temp_array[var],weights,nbins,xmin,xmax)\n",
    "                    temp_hist = bh.Histogram(massZZ_bins)\n",
    "                    temp_hist.fill(temp_array[var],weight=weights)\n",
    "\n",
    "            #for sample in signal_lists:\n",
    "            #    temp_array = signal_array_cut[cat][sample]\n",
    "            #    weights = (temp_array['EventWeight']*lumi[2016]*samples_inf[sample][1]*10)/sumWeight[sample] #scale 10\n",
    "            #    sf_Net = GetParticleNetSignalSF(temp_array,tagger='ZvsQCD')\n",
    "            #    weights = weights*sf_Net\n",
    "            #    temp_hist = get_hist(temp_array[var],weights,nbins,xmin,xmax)\n",
    "            #    signal_hists[cat].append(temp_hist)\n",
    "\n",
    "print(\"Fill done\")"
   ]
  },
  {
   "cell_type": "code",
   "execution_count": 25,
   "id": "fd1bbb26",
   "metadata": {},
   "outputs": [
    {
     "name": "stdout",
     "output_type": "stream",
     "text": [
      "Alpha function in isEE in Merged case = [0.54393907 0.64415385 0.64941657 0.62698759 0.64053126 0.5284982\n",
      " 0.50778045 0.52146726 0.35565054 0.6054763  0.41572813 0.54637125\n",
      " 0.36227746 0.43948191 0.67818004 0.42577375 0.46879897 0.3384137\n",
      " 0.29261901 0.46884304 0.4925096  0.33756682 0.45088185 0.28111908\n",
      " 0.39307552 0.35068152]\n",
      "Alpha function in isMuMu in Merged case = [0.65827027 0.68679976 0.63789044 0.68708216 0.61135725 0.52616501\n",
      " 0.60928042 0.49805999 0.52212032 0.40880801 0.47925887 0.42801165\n",
      " 0.46462601 0.45346613 0.43984599 0.30628388 0.51355993 0.61098701\n",
      " 0.3512479  0.37516872 0.57243232 0.34844273 0.56705264 0.50065779\n",
      " 0.28214322 0.53396252]\n"
     ]
    },
    {
     "data": {
      "image/png": "[encoded data removed]",
      "text/plain": [
       "<Figure size 720x720 with 1 Axes>"
      ]
     },
     "metadata": {
      "needs_background": "light"
     },
     "output_type": "display_data"
    },
    {
     "data": {
      "image/png": "[encoded data removed]",
      "text/plain": [
       "<Figure size 720x720 with 1 Axes>"
      ]
     },
     "metadata": {
      "needs_background": "light"
     },
     "output_type": "display_data"
    }
   ],
   "source": [
    "#produce Alpha function and store in file \n",
    "###store histo to a root file \n",
    "AlphaBranch = {}\n",
    "outAlphafilepath = '/cms/user/guojl/ME_test/CMSSW_10_6_26/src/HZZAnalysis/BackgroundEstimation/AlphaFile'\n",
    "#outfile = uproot.recreate(f\"{outAlphafilepath}/AlphaRaio_noNETsf.root\")\n",
    "outfile = uproot.recreate(f\"{outAlphafilepath}/AlphaRaio.root\")\n",
    "for cat in cats:\n",
    "    if cat =='isEE':\n",
    "        text = 'twoEle'\n",
    "    elif cat =='isMuMu':\n",
    "        text = 'twoMuon'\n",
    "        \n",
    "    sig_content = (bkg_hists['SR'][cat])[2].view(flow=False).value\n",
    "    bkg_content = (bkg_hists['CR'][cat])[2].view(flow=False).value\n",
    "    sig_content_err = get_err((bkg_hists['SR'][cat])[2])\n",
    "    bkg_content_err = get_err((bkg_hists['CR'][cat])[2])\n",
    "    alpha = sig_content/bkg_content\n",
    "    alpha_err = np.sqrt(((sig_content_err/sig_content)*(sig_content_err/sig_content))+((bkg_content_err/bkg_content)*(bkg_content_err/bkg_content)))\n",
    "    \n",
    "    print(f'Alpha function in {cat} in Merged case = {alpha}')\n",
    "    \n",
    "    AlphaBranch[f'merged_{cat}'] = alpha\n",
    "    AlphaBranch[f'merged_{cat}_err'] = alpha_err\n",
    "    \n",
    "    x_axis = np.append(massZZ_low_bins,massZZ_high_bins)\n",
    "    \n",
    "    #width = 0.15  # the width of the bars\n",
    "    x_pos = []\n",
    "    y_val = []\n",
    "    x_err = []\n",
    "    y_err = []\n",
    "    f, ax = plt.subplots(figsize=(10, 10))\n",
    "    hep.cms.label(data=True, llabel='Preliminary', year=lumi[year], ax=ax, rlabel=r'%s $fb^{-1}$ (13 TeV)' %lumi[year], fontname='sans-serif')\n",
    "    for i in range(0,len(x_axis)-1):\n",
    "        x = (x_axis[i]+x_axis[i+1])/2\n",
    "        x_pos.append(x)\n",
    "        y = alpha[i]\n",
    "        y_val.append(y)\n",
    "        xerr = (x_axis[i+1]-x_axis[i])/2\n",
    "        x_err.append(xerr)\n",
    "        yerr = alpha_err[i]\n",
    "        y_err.append(yerr)\n",
    "        ax.plot(x,y,'o', markersize=8 ,color='black')\n",
    "    ax.errorbar(x_pos,y_val,xerr=x_err,yerr=y_err,elinewidth = 1.5,linestyle='none',color='black',label = 'Alpha Ratio')\n",
    "\n",
    "    ax.set_xlabel(r'$M_{ZZ}$ [GeV]', ha='right', x=1.0); ax.set_ylabel('Ratio', ha='right', y=1.0)\n",
    "    ax.set_ylim(-0.5, 1.5)\n",
    "    ax.text(0.05, 0.92, f'{text}', transform=ax.transAxes, fontweight='bold') \n",
    "    ax.legend(loc='upper right')\n",
    "outfile['alphatree'] = AlphaBranch\n",
    "    "
   ]
  },
  {
   "cell_type": "code",
   "execution_count": 16,
   "id": "7a23c4d1",
   "metadata": {},
   "outputs": [
    {
     "data": {
      "text/plain": [
       "array([ 500.,  550.,  600.,  650.,  700.,  750.,  800.,  850.,  900.,\n",
       "        950., 1000., 1050., 1100., 1150., 1200., 1250., 1300., 1350.,\n",
       "       1400., 1450., 1500., 1550., 1600., 1650., 1700.])"
      ]
     },
     "execution_count": 16,
     "metadata": {},
     "output_type": "execute_result"
    }
   ],
   "source": [
    "#draw alaph\n",
    "massZZ_low_bins"
   ]
  },
  {
   "cell_type": "code",
   "execution_count": 22,
   "id": "17c70ac9",
   "metadata": {
    "scrolled": false
   },
   "outputs": [
    {
     "data": {
      "text/plain": [
       "<matplotlib.legend.Legend at 0x7f5b1841c160>"
      ]
     },
     "execution_count": 22,
     "metadata": {},
     "output_type": "execute_result"
    },
    {
     "data": {
      "image/png": "[encoded data removed]",
      "text/plain": [
       "<Figure size 720x720 with 1 Axes>"
      ]
     },
     "metadata": {
      "needs_background": "light"
     },
     "output_type": "display_data"
    }
   ],
   "source": [
    "x_axis = np.append(massZZ_low_bins,massZZ_high_bins)\n",
    "#width = 0.15  # the width of the bars\n",
    "x_pos = []\n",
    "y_val = []\n",
    "x_err = []\n",
    "y_err = []\n",
    "f, ax = plt.subplots(figsize=(10, 10))\n",
    "hep.cms.label(data=True, llabel='Preliminary', year=lumi[year], ax=ax, rlabel=r'%s $fb^{-1}$ (13 TeV)' %lumi[year], fontname='sans-serif')\n",
    "for i in range(0,len(x_axis)-1):\n",
    "    x = (x_axis[i]+x_axis[i+1])/2\n",
    "    x_pos.append(x)\n",
    "    y = alpha[i]\n",
    "    y_val.append(y)\n",
    "    xerr = (x_axis[i+1]-x_axis[i])/2\n",
    "    x_err.append(xerr)\n",
    "    yerr = alpha_err[i]\n",
    "    y_err.append(yerr)\n",
    "    ax.plot(x,y,'o', markersize=8 ,color='black')\n",
    "ax.errorbar(x_pos,y_val,xerr=x_err,yerr=y_err,elinewidth = 1.5,linestyle='none',color='black',label = 'Alpha Ratio')\n",
    "\n",
    "ax.set_xlabel(r'$M_{ZZ}$ [GeV]', ha='right', x=1.0); ax.set_ylabel('Ratio', ha='right', y=1.0)\n",
    "ax.set_ylim(-0.5, 1.5)\n",
    "ax.text(0.05, 0.92, 'plot_text', transform=ax.transAxes, fontweight='bold') \n",
    "ax.legend(loc='upper right')\n"
   ]
  },
  {
   "cell_type": "code",
   "execution_count": 23,
   "id": "30ee46b3",
   "metadata": {},
   "outputs": [
    {
     "data": {
      "text/plain": [
       "array([0.06258739, 0.05627616, 0.05725593, 0.0585297 , 0.06319916,\n",
       "       0.07289954, 0.07711125, 0.08990762, 0.09763588, 0.12517727,\n",
       "       0.12890122, 0.16273965, 0.1467228 , 0.17430855, 0.21480183,\n",
       "       0.26771892, 0.25601554, 0.21066689, 0.24079624, 0.33269861,\n",
       "       0.35031106, 0.37939772, 0.40681528, 0.31160144, 0.29793096,\n",
       "       0.24606608])"
      ]
     },
     "execution_count": 23,
     "metadata": {},
     "output_type": "execute_result"
    }
   ],
   "source": [
    "alpha_err"
   ]
  },
  {
   "cell_type": "code",
   "execution_count": 24,
   "id": "9259fc3a",
   "metadata": {},
   "outputs": [
    {
     "data": {
      "text/plain": [
       "[0.0625873852969305,\n",
       " 0.056276158682176454,\n",
       " 0.05725593293325868,\n",
       " 0.05852969733504751,\n",
       " 0.06319916281412287,\n",
       " 0.07289953757701804,\n",
       " 0.07711125070107216,\n",
       " 0.08990761706512432,\n",
       " 0.09763587612398984,\n",
       " 0.12517727110662302,\n",
       " 0.12890122207837262,\n",
       " 0.16273964851727568,\n",
       " 0.14672279555525095,\n",
       " 0.17430854607338583,\n",
       " 0.2148018292290701,\n",
       " 0.2677189227885445,\n",
       " 0.2560155390918857,\n",
       " 0.21066689431432917,\n",
       " 0.24079624303832575,\n",
       " 0.33269860690267566,\n",
       " 0.3503110597949186,\n",
       " 0.37939771870709654,\n",
       " 0.40681527845526616,\n",
       " 0.31160143738659796,\n",
       " 0.29793096141512804,\n",
       " 0.24606607853295936]"
      ]
     },
     "execution_count": 24,
     "metadata": {},
     "output_type": "execute_result"
    }
   ],
   "source": [
    "y_err"
   ]
  },
  {
   "cell_type": "code",
   "execution_count": null,
   "id": "b4aef42e",
   "metadata": {},
   "outputs": [],
   "source": []
  }
 ],
 "metadata": {
  "kernelspec": {
   "display_name": "Python 3 (ipykernel)",
   "language": "python",
   "name": "python3"
  },
  "language_info": {
   "codemirror_mode": {
    "name": "ipython",
    "version": 3
   },
   "file_extension": ".py",
   "mimetype": "text/x-python",
   "name": "python",
   "nbconvert_exporter": "python",
   "pygments_lexer": "ipython3",
   "version": "3.8.12"
  }
 },
 "nbformat": 4,
 "nbformat_minor": 5
}
