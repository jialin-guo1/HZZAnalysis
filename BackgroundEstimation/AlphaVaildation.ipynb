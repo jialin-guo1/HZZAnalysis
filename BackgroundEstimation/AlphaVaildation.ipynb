{
 "cells": [
  {
   "cell_type": "code",
   "execution_count": 1,
   "id": "4fd28ab5",
   "metadata": {},
   "outputs": [],
   "source": [
    "import uproot \n",
    "import boost_histogram as bh\n",
    "import matplotlib.pyplot as plt\n",
    "import matplotlib as mpl\n",
    "import mplhep as hep\n",
    "import awkward as ak\n",
    "import pandas as pd\n",
    "import numpy as np\n",
    "import sys,os\n",
    "import yaml"
   ]
  },
  {
   "cell_type": "code",
   "execution_count": 2,
   "id": "1d76bbf5",
   "metadata": {},
   "outputs": [],
   "source": [
    "import seaborn as sns\n",
    "def set_sns_color(*args):\n",
    "    sns.palplot(sns.color_palette(*args))\n",
    "    sns.set_palette(*args)\n",
    "    \n",
    "color_order_bkg = sns.color_palette('Accent', 3)\n",
    "color_order_bkg.reverse()"
   ]
  },
  {
   "cell_type": "code",
   "execution_count": 3,
   "id": "0d0371ca",
   "metadata": {},
   "outputs": [],
   "source": [
    "use_helvet = True  ## true: use helvetica for plots, make sure the system have the font installed\n",
    "if use_helvet:\n",
    "    CMShelvet = hep.style.CMS\n",
    "    CMShelvet['font.sans-serif'] = ['Helvetica', 'Arial']\n",
    "    plt.style.use(CMShelvet)\n",
    "else:\n",
    "    plt.style.use(hep.style.CMS)"
   ]
  },
  {
   "cell_type": "code",
   "execution_count": 4,
   "id": "66315dfa",
   "metadata": {},
   "outputs": [],
   "source": [
    "sys.path.append(\"/cms/user/guojl/ME_test/CMSSW_10_6_26/src/HZZAnalysis/lib\")\n",
    "from utils import *"
   ]
  },
  {
   "cell_type": "code",
   "execution_count": 5,
   "id": "aa0d278d",
   "metadata": {},
   "outputs": [],
   "source": [
    "config = {}\n",
    "with open(\"/cms/user/guojl/ME_test/CMSSW_10_6_26/src/HZZAnalysis/cards/config_UL16.yml\") as f:\n",
    "    config = yaml.safe_load(f)\n",
    "config.keys()\n",
    "\n",
    "sf_particleNet_signal = {}\n",
    "with open('/cms/user/guojl/ME_test/CMSSW_10_6_26/src/HZZAnalysis/cards/NetSF_signal_2016Legacy.yml') as f:\n",
    "    sf_particleNet_signal = yaml.safe_load(f)"
   ]
  },
  {
   "cell_type": "code",
   "execution_count": 6,
   "id": "d4a57385",
   "metadata": {},
   "outputs": [],
   "source": [
    "year = '2016'"
   ]
  },
  {
   "cell_type": "code",
   "execution_count": 7,
   "id": "ff1bf517",
   "metadata": {},
   "outputs": [],
   "source": [
    "def extractBranch(config):\n",
    "    r'''\n",
    "    '''\n",
    "    bkg_array = {}\n",
    "    data_array = None\n",
    "    signal_array = {}\n",
    "    sumWeight = {}\n",
    "    for sample in config['Samples_lists']:\n",
    "        print(f\"This is {sample}\")\n",
    "        if sample!='Data':\n",
    "            indir = config['ori_dir']+config['samples_inf'][sample][0]+'/skimed'\n",
    "            files = find_this_rootfiles(indir)\n",
    "            sumWeight[sample] = 0\n",
    "\n",
    "            for file in files:\n",
    "                with uproot.open(f'{indir}/{file}') as f:\n",
    "                    this_sumWeight_h = f['sumWeights'].to_boost()\n",
    "                    this_sumWeight = this_sumWeight_h.sum()\n",
    "                    #print(f'this sum weight = {this_sumWeight}')\n",
    "                    sumWeight[sample] += this_sumWeight\n",
    "\n",
    "            bkg_array[sample] = uproot.lazy([f\"{indir}/*.root:passedEvents\"],filter_name=config['var_read_lists'])\n",
    "\n",
    "        else:\n",
    "            data_path = config['ori_dir']+config['samples_inf']['Data'][0]\n",
    "            data_array = uproot.lazy([f\"{data_path}:passedEvents\"],filter_name=config['var_read_lists'])\n",
    "\n",
    "    for sample in config['signal_lists']:\n",
    "        print(f\"This is {sample}\")\n",
    "        signal_path = config['ori_dir']+config['samples_inf'][sample][0]\n",
    "\n",
    "        sumWeight[sample] = 0\n",
    "        with uproot.open(signal_path) as f:\n",
    "            this_sumWeight_h = f['sumWeights'].to_boost()\n",
    "            this_sumWeight = this_sumWeight_h.sum()\n",
    "            sumWeight[sample] += this_sumWeight\n",
    "\n",
    "            signal_array[sample] = f['passedEvents'].arrays(filter_name=config['var_read_lists'],library=\"ak\")\n",
    "    \n",
    "    return bkg_array,signal_array,data_array,sumWeight\n",
    "    \n",
    "    \n",
    "    "
   ]
  },
  {
   "cell_type": "code",
   "execution_count": 8,
   "id": "03303e2f",
   "metadata": {},
   "outputs": [],
   "source": [
    "def make_cut(array,region,cat): \n",
    "    if region=='CR':\n",
    "        #selection = f'((massmerged<70) | (massmerged>135)) & (particleNetZvsQCD<0.4) & (foundZ1LCandidate==True) & (foundZ2MergedCandidata==True) & ({cat}==True)'\n",
    "        selection = f'((mass2jet<70) | (mass2jet>135)) & (foundZ1LCandidate==True) & (foundZ2JCandidate==True)'\n",
    "        #selection = f'((massmerged<70) | (massmerged>135)) & (particleNetZvsQCD>0.9) & (foundZ1LCandidate==True) & (foundZ2MergedCandidata==True) '\n",
    "        #cut_array = array['foundZ1LCandidate'] & array['foundZ2MergedCandidata'] & ((array['massmerged']<70) | (array['massmerged']>105) & (array['particleNetZvsQCD']>0.9)) #merged\n",
    "    elif region=='SR':\n",
    "        selection = f'((mass2jet>70) & (mass2jet<105)) & (foundZ1LCandidate==True) & (foundZ2JCandidate==True)'\n",
    "        #selection = f'(massmerged>70) & (massmerged<105) & (particleNetZvsQCD>0.9) & (foundZ1LCandidate==True) & (foundZ2MergedCandidata==True)'\n",
    "        #cut_array = array['foundTTCRCandidate'] & array['foundZ2MergedCandidata'] & ((array['massmerged']<70) | (array['massmerged']>105) & (array['particleNetZvsQCD']>0.9)) #merged\n",
    "    else:\n",
    "        print(\"[ERROR] only CR and SR are available\")\n",
    "        sys.exit()\n",
    "    \n",
    "    cut_array = ak.numexpr.evaluate(selection,array)\n",
    "    return cut_array"
   ]
  },
  {
   "cell_type": "code",
   "execution_count": 9,
   "id": "7d4de45f",
   "metadata": {},
   "outputs": [
    {
     "data": {
      "text/plain": [
       "['2lep']"
      ]
     },
     "execution_count": 9,
     "metadata": {},
     "output_type": "execute_result"
    }
   ],
   "source": [
    "config['channel'] = ['2lep']\n",
    "config['channel']"
   ]
  },
  {
   "cell_type": "code",
   "execution_count": 14,
   "id": "aaf83015",
   "metadata": {},
   "outputs": [],
   "source": [
    "def extractCutedBranch(config,year):\n",
    "    r'''\n",
    "    '''\n",
    "    bkg_array = {}\n",
    "    data_array = None\n",
    "    signal_array = {}\n",
    "    sumWeight = {}\n",
    "    for sample in config['Samples_lists']:\n",
    "        print(f\"This is {sample}\")\n",
    "        if sample!='Data':\n",
    "            indir = config['ori_dir']+f'/{year}/'+config['samples_inf'][sample][0]+'/skimed'\n",
    "            files = find_this_rootfiles(indir)\n",
    "            sumWeight[sample] = 0\n",
    "\n",
    "            for file in files:\n",
    "                with uproot.open(f'{indir}/{file}') as f:\n",
    "                    this_sumWeight_h = f['sumWeights'].to_boost()\n",
    "                    this_sumWeight = this_sumWeight_h.sum()\n",
    "                    #print(f'this sum weight = {this_sumWeight}')\n",
    "                    sumWeight[sample] += this_sumWeight\n",
    "\n",
    "            bkg_array[sample] = uproot.lazy([f\"{indir}/*.root:passedEvents\"],filter_name=config['var_read_lists'])\n",
    "\n",
    "        else:\n",
    "            data_path = config['ori_dir']+f'/{year}/'+config['samples_inf']['Data'][0]\n",
    "            data_array = uproot.lazy([f\"{data_path}:passedEvents\"],filter_name=config['var_read_lists'])\n",
    "\n",
    "    #for sample in config['signal_lists']:\n",
    "    #    print(f\"This is {sample}\")\n",
    "    #    signal_path = config['ori_dir']+f'/{year}/'+config['samples_inf'][sample][0]\n",
    "\n",
    "    #    sumWeight[sample] = 0\n",
    "    #    with uproot.open(signal_path) as f:\n",
    "    #        this_sumWeight_h = f['sumWeights'].to_boost()\n",
    "    #        this_sumWeight = this_sumWeight_h.sum()\n",
    "    #        sumWeight[sample] += this_sumWeight\n",
    "\n",
    "    #        signal_array[sample] = f['passedEvents'].arrays(filter_name=config['var_read_lists'],library=\"ak\")\n",
    "    #=======cut\n",
    "    regions = ['CR','SR']\n",
    "    bkg_array_cut = {}; data_array_cut = {}; signal_array_cut = {}\n",
    "    for reg in regions:\n",
    "        bkg_array_cut[reg] = {}; data_array_cut[reg] = {}; signal_array_cut[reg] = {}\n",
    "        for cat in config['channel']:\n",
    "            bkg_array_cut[reg][cat] = {}; data_array_cut[reg][cat] = None; signal_array_cut[reg][cat] = {}\n",
    "            for sample in config['Samples_lists']:\n",
    "                print(f\"This is {sample} in {reg} in {cat}\")\n",
    "                if sample!='Data':\n",
    "                    temp_array = bkg_array[sample]\n",
    "                    cut_array = make_cut(temp_array,region = reg, cat = cat)\n",
    "                    bkg_array_cut[reg][cat][sample] = temp_array[cut_array]\n",
    "                else:\n",
    "                    temp_array = data_array\n",
    "\n",
    "                    cut_array = make_cut(temp_array,region = reg, cat = cat)\n",
    "                    data_array_cut[reg][cat] = temp_array[cut_array]\n",
    "            #for sample in config['signal_lists']:\n",
    "            #    temp_array = signal_array[sample]\n",
    "            #    cut_array = make_cut(temp_array,region = reg, cat = cat)\n",
    "            #    signal_array_cut[reg][cat][sample] = temp_array[cut_array]\n",
    "    \n",
    "    return bkg_array_cut,signal_array_cut,data_array_cut,sumWeight"
   ]
  },
  {
   "cell_type": "code",
   "execution_count": 15,
   "id": "7cc03f30",
   "metadata": {},
   "outputs": [
    {
     "name": "stdout",
     "output_type": "stream",
     "text": [
      "This is DY_pt50To100\n",
      "This is DY_pt100To250\n",
      "This is DY_pt250To400\n",
      "This is DY_pt400To650\n",
      "This is DY_pt650ToInf\n",
      "This is TTJets\n",
      "This is WZTo2Q2L\n",
      "This is ZZTo2Q2L\n",
      "This is WWTo2L2Nu\n",
      "This is Data\n",
      "This is DY_pt50To100 in CR in 2lep\n",
      "This is DY_pt100To250 in CR in 2lep\n",
      "This is DY_pt250To400 in CR in 2lep\n",
      "This is DY_pt400To650 in CR in 2lep\n",
      "This is DY_pt650ToInf in CR in 2lep\n",
      "This is TTJets in CR in 2lep\n",
      "This is WZTo2Q2L in CR in 2lep\n",
      "This is ZZTo2Q2L in CR in 2lep\n",
      "This is WWTo2L2Nu in CR in 2lep\n",
      "This is Data in CR in 2lep\n",
      "This is DY_pt50To100 in SR in 2lep\n",
      "This is DY_pt100To250 in SR in 2lep\n",
      "This is DY_pt250To400 in SR in 2lep\n",
      "This is DY_pt400To650 in SR in 2lep\n",
      "This is DY_pt650ToInf in SR in 2lep\n",
      "This is TTJets in SR in 2lep\n",
      "This is WZTo2Q2L in SR in 2lep\n",
      "This is ZZTo2Q2L in SR in 2lep\n",
      "This is WWTo2L2Nu in SR in 2lep\n",
      "This is Data in SR in 2lep\n"
     ]
    }
   ],
   "source": [
    "bkg_array,signal_array,data_array,sumWeight = extractCutedBranch(config,year)"
   ]
  },
  {
   "cell_type": "code",
   "execution_count": 79,
   "id": "6931f41b",
   "metadata": {},
   "outputs": [
    {
     "name": "stdout",
     "output_type": "stream",
     "text": [
      "[424, 374, 698, 364, 490, 393, 706, 541, ... 727, 398, 612, 413, 508, 446, 929, 502]\n",
      "[1.22e+03, 457, 603, 410, 580, 383, 515, ... 349, 378, 439, 402, 581, 380, 364]\n"
     ]
    }
   ],
   "source": [
    "print(bkg_array['CR']['isEE']['DY_pt50To100']['mass2lj'])\n",
    "print(bkg_array['SR']['isEE']['DY_pt50To100']['mass2lj'])"
   ]
  },
  {
   "cell_type": "code",
   "execution_count": null,
   "id": "4a9cb8e2",
   "metadata": {},
   "outputs": [
    {
     "name": "stdout",
     "output_type": "stream",
     "text": [
      "massZZ bins = Variable(array([ 500.,  550.,  600.,  650.,  700.,  750.,  800.,  850.,  900.,\n",
      "        950., 1000., 1050., 1100., 1150., 1200., 1250., 1300., 1350.,\n",
      "       1400., 1450., 1500., 1550., 1600., 1650., 1700., 2000., 3500.]))\n",
      "[INFO] it is mass2l2jet plot\n",
      "This is DY_pt50To100 in 2lep\n",
      "This is DY_pt100To250 in 2lep\n",
      "This is DY_pt250To400 in 2lep\n",
      "This is DY_pt400To650 in 2lep\n",
      "This is DY_pt650ToInf in 2lep\n",
      "This is TTJets in 2lep\n",
      "This is WZTo2Q2L in 2lep\n",
      "This is ZZTo2Q2L in 2lep\n",
      "This is WWTo2L2Nu in 2lep\n",
      "This is Data in 2lep\n",
      "data weight  = [1, 1, 1, 1, 1, 1, 1, 1, 1, 1, 1, 1, 1, 1, ... 1, 1, 1, 1, 1, 1, 1, 1, 1, 1, 1, 1, 1]\n",
      "This is DY_pt50To100 in 2lep\n",
      "This is DY_pt100To250 in 2lep\n",
      "This is DY_pt250To400 in 2lep\n",
      "This is DY_pt400To650 in 2lep\n",
      "This is DY_pt650ToInf in 2lep\n",
      "This is TTJets in 2lep\n",
      "This is WZTo2Q2L in 2lep\n",
      "This is ZZTo2Q2L in 2lep\n",
      "This is WWTo2L2Nu in 2lep\n",
      "This is Data in 2lep\n",
      "data weight  = [1, 1, 1, 1, 1, 1, 1, 1, 1, 1, 1, 1, 1, 1, ... 1, 1, 1, 1, 1, 1, 1, 1, 1, 1, 1, 1, 1]\n",
      "Fill done\n"
     ]
    }
   ],
   "source": [
    "massZZ_low_bins = np.linspace(500,1700,25)\n",
    "massZZ_high_bins = np.array([2000,3500])\n",
    "massZZ_bins = bh.axis.Variable(ak.from_numpy(np.append(massZZ_low_bins,massZZ_high_bins)).to_list())\n",
    "regions = ['CR','SR']\n",
    "print(f'massZZ bins = {massZZ_bins}')\n",
    "#set var draw \n",
    "#varbs = ['mass2lj']\n",
    "varbs = ['mass2l2jet']\n",
    "for var in varbs:\n",
    "    print(f\"[INFO] it is {var} plot\")\n",
    "    nbins, xmin, xmax = config['bininfo'][var][0], config['bininfo'][var][1], config['bininfo'][var][2]\n",
    "    edge = np.linspace(xmin, xmax, nbins+1)\n",
    "    if var.find('pt')!=-1 or var.find('massmerged')!=-1 or var.find('mass2jet')!=-1:\n",
    "        islogY = True\n",
    "    else:\n",
    "        islogY = True\n",
    "\n",
    "    #fill histo \n",
    "    bkg_hists = {}; Data_hist = {}; signal_hists = {}\n",
    "    for reg in regions:\n",
    "        bkg_hists[reg] = {}; Data_hist[reg] = {}; signal_hists[reg] = {}\n",
    "        for cat in config['channel']:\n",
    "            bkg_hists[reg][cat] = [None,None,None]; Data_hist[reg][cat] = None; signal_hists[reg][cat] = []\n",
    "            for sample in config['Samples_lists']:\n",
    "                print(f\"This is {sample} in {cat}\")\n",
    "                if sample!='Data':\n",
    "                    temp_array = bkg_array[reg][cat][sample]\n",
    "                    #retray weight and apply paritcleNet weight\n",
    "                    weights = (temp_array['EventWeight']*config['lumi'][year]*1000*config['samples_inf'][sample][1])/sumWeight[sample]\n",
    "                    r'''\n",
    "                    if sample == 'ZZTo2Q2L' or sample =='WZTo2Q2L':\n",
    "                        sf_Net = GetParticleNetSignalSF(temp_array,'ZvsQCD',sf_particleNet_signal)\n",
    "                    elif sample.find('DY')!=-1:\n",
    "                        sf_Net = GetParticleNetbkgSF(temp_array,'ZvsQCD','DY')\n",
    "                    elif sample.find('TTJets')!=-1 or sample.find('WWTo2L2Nu')!=-1:\n",
    "                        sf_Net = GetParticleNetbkgSF(temp_array,'ZvsQCD','TT')\n",
    "                    else:\n",
    "                        sf_Net = ak.ones_like(temp_array['EventWeight'])\n",
    "                    weights = weights*sf_Net\n",
    "                    '''\n",
    "\n",
    "                    temp_hist = get_hist(temp_array[var],weights,nbins,xmin,xmax)\n",
    "                    #temp_hist = bh.Histogram(massZZ_bins,storage=bh.storage.Weight())\n",
    "                    #print(temp_array[var])\n",
    "                    #print(weights)\n",
    "                    temp_hist.fill(temp_array[var],weight = weights)\n",
    "\n",
    "\n",
    "                    if sample.find('DY')!=-1:\n",
    "                        if (bkg_hists[reg][cat])[2]==None:\n",
    "                            (bkg_hists[reg][cat])[2] = temp_hist\n",
    "                        else:\n",
    "                            (bkg_hists[reg][cat])[2]+=temp_hist\n",
    "                    if sample.find('TTJets')!=-1 or sample.find('WWTo2L2Nu')!=-1:\n",
    "                        if (bkg_hists[reg][cat])[1]==None:\n",
    "                            (bkg_hists[reg][cat])[1] = temp_hist\n",
    "                        else:\n",
    "                            (bkg_hists[reg][cat])[1]+=temp_hist\n",
    "                    if sample.find('WZTo2Q2L')!=-1 or sample.find('ZZTo2Q2L')!=-1:\n",
    "                        if (bkg_hists[reg][cat])[0]==None:\n",
    "                            (bkg_hists[reg][cat])[0] = temp_hist\n",
    "                        else:\n",
    "                            (bkg_hists[reg][cat])[0]+=temp_hist\n",
    "                else:\n",
    "                    temp_array = data_array[reg][cat]\n",
    "                    weights = np.ones_like(temp_array['EventWeight'])\n",
    "                    print(f'data weight  = {weights}')\n",
    "                    Data_hist[reg][cat] = get_hist(temp_array[var],weights,nbins,xmin,xmax)\n",
    "                    #temp_hist = bh.Histogram(massZZ_bins)\n",
    "                    temp_hist.fill(temp_array[var],weight=weights)\n",
    "\n",
    "            #for sample in signal_lists:\n",
    "            #    temp_array = signal_array_cut[cat][sample]\n",
    "            #    weights = (temp_array['EventWeight']*lumi[2016]*samples_inf[sample][1]*10)/sumWeight[sample] #scale 10\n",
    "            #    sf_Net = GetParticleNetSignalSF(temp_array,tagger='ZvsQCD')\n",
    "            #    weights = weights*sf_Net\n",
    "            #    temp_hist = get_hist(temp_array[var],weights,nbins,xmin,xmax)\n",
    "            #    signal_hists[cat].append(temp_hist)\n",
    "\n",
    "print(\"Fill done\")"
   ]
  },
  {
   "cell_type": "code",
   "execution_count": 86,
   "id": "8a85a8ee",
   "metadata": {
    "scrolled": false
   },
   "outputs": [
    {
     "name": "stdout",
     "output_type": "stream",
     "text": [
      "sig_content = [1724.71967926 1254.85078289  926.42045556  682.43402682  511.86284758\n",
      "  377.75876414  283.93674413  213.26910849  152.1485272   115.99792854\n",
      "   91.63703038   70.55857265   55.28238782   44.75699524   33.68068433\n",
      "   26.94255803   22.34650002   17.64939328   14.40266022   11.09787087\n",
      "    7.81888858    6.79921581    5.67763507    5.27160576   14.66197654\n",
      "    7.81930523]\n",
      "bkg_content = [3552.77725366 2439.96649125 1697.99254095 1214.5059213   859.48671434\n",
      "  632.45996585  483.02046616  352.08651023  273.8595052   213.39036901\n",
      "  159.05455932  134.54819614  104.82893846   81.61799951   65.71569099\n",
      "   54.07364983   44.30553413   32.98788779   28.36295716   23.09841683\n",
      "   17.57805982   13.5357341    11.80209416   10.76181253   32.39070222\n",
      "   19.61308667]\n",
      "Alpha function in 2lep in resolved case = [0.48545674 0.51429017 0.54559748 0.56190259 0.5955448  0.59728486\n",
      " 0.58783585 0.60572928 0.55557147 0.54359496 0.57613583 0.52441114\n",
      " 0.52735808 0.54837163 0.51252119 0.49825669 0.50437266 0.53502647\n",
      " 0.50779826 0.48046024 0.44480953 0.502316   0.48107014 0.48984367\n",
      " 0.45266004 0.39867795]\n"
     ]
    },
    {
     "data": {
      "image/png": "[encoded data removed]",
      "text/plain": [
       "<Figure size 720x720 with 1 Axes>"
      ]
     },
     "metadata": {
      "needs_background": "light"
     },
     "output_type": "display_data"
    }
   ],
   "source": [
    "#produce Alpha function and store in file \n",
    "###store histo to a root file \n",
    "AlphaBranch = {}\n",
    "outAlphafilepath = '/cms/user/guojl/ME_test/CMSSW_10_6_26/src/HZZAnalysis/BackgroundEstimation/AlphaFile'\n",
    "#outfile = uproot.recreate(f\"{outAlphafilepath}/AlphaRaio_noNETsf.root\")\n",
    "#with uproot.recreate(f\"{outAlphafilepath}/AlphaRaioVaildation.root\") as outfile:\n",
    "with uproot.recreate(f\"{outAlphafilepath}/AlphaRaioVaildation_resolved.root\") as outfile:\n",
    "#outfile = uproot.recreate(f\"{outAlphafilepath}/AlphaRaioVaildation.root\")\n",
    "    for cat in config['channel']:\n",
    "        if cat =='isEE':\n",
    "            text = 'twoEle'\n",
    "        elif cat =='isMuMu':\n",
    "            text = 'twoMuon'\n",
    "        else:\n",
    "            text = '2lep'\n",
    "\n",
    "        sig_content = (bkg_hists['SR'][cat])[2].view(flow=False).value\n",
    "        bkg_content = (bkg_hists['CR'][cat])[2].view(flow=False).value\n",
    "        print(f\"sig_content = {sig_content}\")\n",
    "        print(f\"bkg_content = {bkg_content}\")\n",
    "        sig_content_err = get_err((bkg_hists['SR'][cat])[2])\n",
    "        bkg_content_err = get_err((bkg_hists['CR'][cat])[2])\n",
    "        alpha = sig_content/bkg_content\n",
    "        alpha_err = np.sqrt(((sig_content_err/sig_content)*(sig_content_err/sig_content))+((bkg_content_err/bkg_content)*(bkg_content_err/bkg_content)))\n",
    "\n",
    "        #print(f'Alpha function in {cat} in Merged case = {alpha}')\n",
    "        print(f'Alpha function in {cat} in resolved case = {alpha}')\n",
    "\n",
    "        #AlphaBranch[f'merged_{cat}'] = alpha\n",
    "        #AlphaBranch[f'merged_{cat}_err'] = alpha_err\n",
    "        AlphaBranch[f'resolved_{cat}'] = alpha\n",
    "        AlphaBranch[f'resolved_{cat}_err'] = alpha_err\n",
    "\n",
    "        x_axis = np.append(massZZ_low_bins,massZZ_high_bins)\n",
    "\n",
    "        #width = 0.15  # the width of the bars\n",
    "        x_pos = []\n",
    "        y_val = []\n",
    "        x_err = []\n",
    "        y_err = []\n",
    "        f, ax = plt.subplots(figsize=(10, 10))\n",
    "        hep.cms.label(data=True, llabel='Preliminary', year=year, ax=ax, rlabel=r'%s $fb^{-1}$ (13 TeV)' %config['lumi'][year], fontname='sans-serif')\n",
    "        for i in range(0,len(x_axis)-1):\n",
    "            x = (x_axis[i]+x_axis[i+1])/2\n",
    "            x_pos.append(x)\n",
    "            y = alpha[i]\n",
    "            y_val.append(y)\n",
    "            xerr = (x_axis[i+1]-x_axis[i])/2\n",
    "            x_err.append(xerr)\n",
    "            yerr = alpha_err[i]\n",
    "            y_err.append(yerr)\n",
    "            ax.plot(x,y,'o', markersize=8 ,color='black')\n",
    "        ax.errorbar(x_pos,y_val,xerr=x_err,yerr=y_err,elinewidth = 1.5,linestyle='none',color='black',label = 'Alpha Ratio')\n",
    "\n",
    "        ax.set_xlabel(r'$M_{ZZ}$ [GeV]', ha='right', x=1.0); ax.set_ylabel('Ratio', ha='right', y=1.0)\n",
    "        ax.set_ylim(-0.5, 1.5)\n",
    "        ax.text(0.05, 0.92, f'{text}', transform=ax.transAxes, fontweight='bold') \n",
    "        ax.legend(loc='upper right')\n",
    "    outfile['alphatree'] = AlphaBranch"
   ]
  },
  {
   "cell_type": "markdown",
   "id": "5caa61c6",
   "metadata": {},
   "source": [
    "# 2.Start to Apply Alpha Function to Get The Vaildation plots"
   ]
  },
  {
   "cell_type": "code",
   "execution_count": 87,
   "id": "37a382a5",
   "metadata": {},
   "outputs": [],
   "source": [
    "#Alph_path = '/cms/user/guojl/ME_test/CMSSW_10_6_26/src/HZZAnalysis/BackgroundEstimation/AlphaFile/AlphaRaioVaildation.root'\n",
    "Alph_path = '/cms/user/guojl/ME_test/CMSSW_10_6_26/src/HZZAnalysis/BackgroundEstimation/AlphaFile/AlphaRaioVaildation_resolved.root'\n",
    "Alph_array = uproot.lazy([f\"{Alph_path}:alphatree\"])"
   ]
  },
  {
   "cell_type": "code",
   "execution_count": null,
   "id": "a28ba8fe",
   "metadata": {},
   "outputs": [],
   "source": [
    "print(f'massZZ bins = {massZZ_bins}')\n",
    "#set var draw \n",
    "varbs = ['mass2lj']\n",
    "bkg_hists = {}; Data_hist = {}; signal_hists = {}\n",
    "for var in varbs:\n",
    "    print(f\"[INFO] it is {var} plot\")\n",
    "    nbins, xmin, xmax = config['bininfo']['KD_ZJ'][0], config['bininfo']['KD_ZJ'][1], config['bininfo']['KD_ZJ'][2]\n",
    "    #edge = np.linspace(xmin, xmax, nbins+1)\n",
    "    if var.find('pt')!=-1 or var.find('massmerged')!=-1 or var.find('mass2jet')!=-1:\n",
    "        islogY = True\n",
    "    else:\n",
    "        islogY = True\n",
    "\n",
    "    #fill histo \n",
    "    #bkg_hists = {}; Data_hist = {}; signal_hists = {}\n",
    "    for reg in regions:\n",
    "        bkg_hists[reg] = {}; Data_hist[reg] = {}; signal_hists[reg] = {}\n",
    "        for cat in config['channel']:\n",
    "            bkg_hists[reg][cat] = [None,None,None,None]; Data_hist[reg][cat] = None; signal_hists[reg][cat] = []\n",
    "            for sample in config['Samples_lists']:\n",
    "                print(f\"This is {sample} in {cat}\")\n",
    "                if sample!='Data':\n",
    "                    temp_array = bkg_array[reg][cat][sample]\n",
    "                    #retray weight and apply paritcleNet weight\n",
    "                    weights = (temp_array['EventWeight']*config['lumi'][year]*1000*config['samples_inf'][sample][1])/sumWeight[sample]\n",
    "                    \n",
    "                    if sample == 'ZZTo2Q2L' or sample =='WZTo2Q2L':\n",
    "                        sf_Net = GetParticleNetSignalSF(temp_array,'ZvsQCD',sf_particleNet_signal)   \n",
    "                    #elif sample.find('DY')!=-1:\n",
    "                    #    sf_Net = GetParticleNetbkgSF(temp_array,'ZvsQCD','DY')\n",
    "                    #elif sample.find('TTJets')!=-1 or sample.find('WWTo2L2Nu')!=-1:\n",
    "                    #    sf_Net = GetParticleNetbkgSF(temp_array,'ZvsQCD','TT')\n",
    "                    else:\n",
    "                        sf_Net = ak.ones_like(temp_array['EventWeight'])\n",
    "                    weights = weights*sf_Net\n",
    "                    \n",
    "\n",
    "                    #temp_hist = get_hist(temp_array[var],weights,nbins,xmin,xmax)\n",
    "                    temp_hist = bh.Histogram(massZZ_bins,storage=bh.storage.Weight())\n",
    "                    temp_hist.fill(temp_array[var],weight = weights)\n",
    "\n",
    "                    print(\"[INFO] stroe kd\")\n",
    "                    hist_KD = get_hist(temp_array['KD_ZJ'],weights,nbins,xmin,xmax)\n",
    "                    hist_KD.fill(temp_array['KD_ZJ'],weight = weights)\n",
    "                    \n",
    "\n",
    "\n",
    "                    if sample.find('DY')!=-1:\n",
    "                        print(\"[INFO] KD_array = \",temp_array['KD_ZJ'])\n",
    "                        print(\"[INFO] hist_KD = \",hist_KD.view(flow=False).value)\n",
    "                        if (bkg_hists[reg][cat])[3]==None:\n",
    "                            #(bkg_hists[reg][cat])[3] = temp_hist\n",
    "                            (bkg_hists[reg][cat])[3] = hist_KD\n",
    "                        else:\n",
    "                            #(bkg_hists[reg][cat])[3]+=temp_hist\n",
    "                            (bkg_hists[reg][cat])[3]+=hist_KD\n",
    "                    if sample.find('TTJets')!=-1 or sample.find('WWTo2L2Nu')!=-1:\n",
    "                        if (bkg_hists[reg][cat])[1]==None:\n",
    "                            (bkg_hists[reg][cat])[1] = temp_hist\n",
    "                        else:\n",
    "                            (bkg_hists[reg][cat])[1]+=temp_hist\n",
    "                    if sample.find('WZTo2Q2L')!=-1 or sample.find('ZZTo2Q2L')!=-1:\n",
    "                        if (bkg_hists[reg][cat])[0]==None:\n",
    "                            (bkg_hists[reg][cat])[0] = temp_hist\n",
    "                        else:\n",
    "                            (bkg_hists[reg][cat])[0]+=temp_hist\n",
    "                else:\n",
    "                    temp_array = data_array[reg][cat]\n",
    "                    weights = np.ones_like(temp_array['EventWeight'])\n",
    "                    print(f'data weight  = {weights}')\n",
    "                    #Data_hist[reg][cat] = get_hist(temp_array[var],weights,nbins,xmin,xmax)\n",
    "                    Data_hist[reg][cat] = bh.Histogram(massZZ_bins,storage=bh.storage.Weight())\n",
    "                    Data_hist[reg][cat].fill(temp_array[var],weight=weights)\n",
    "                    #Data_hist[reg][cat] = temp_hist\n",
    "\n",
    "            for sample in config['signal_lists']:\n",
    "                temp_array = signal_array[reg][cat][sample]\n",
    "                weights = (temp_array['EventWeight']*config['lumi']['2016']*config['samples_inf'][sample][1]*10)/sumWeight[sample] #scale 10\n",
    "                #sf_Net = GetParticleNetSignalSF(temp_array,'ZvsQCD',sf_particleNet_signal)\n",
    "                #weights = weights*sf_Net\n",
    "                #temp_hist = get_hist(temp_array[var],weights,nbins,xmin,xmax)\n",
    "                temp_hist = bh.Histogram(massZZ_bins,storage=bh.storage.Weight())\n",
    "                temp_hist.fill(temp_array[var],weight = weights)\n",
    "                signal_hists[reg][cat].append(temp_hist)"
   ]
  },
  {
   "cell_type": "code",
   "execution_count": 90,
   "id": "d66c20c9",
   "metadata": {},
   "outputs": [
    {
     "name": "stdout",
     "output_type": "stream",
     "text": [
      "massZZ bins = Variable(array([ 500.,  550.,  600.,  650.,  700.,  750.,  800.,  850.,  900.,\n",
      "        950., 1000., 1050., 1100., 1150., 1200., 1250., 1300., 1350.,\n",
      "       1400., 1450., 1500., 1550., 1600., 1650., 1700., 2000., 3500.]))\n",
      "[INFO] it is mass2l2jet plot\n",
      "This is DY_pt50To100 in 2lep\n",
      "This is DY_pt100To250 in 2lep\n",
      "This is DY_pt250To400 in 2lep\n",
      "This is DY_pt400To650 in 2lep\n",
      "This is DY_pt650ToInf in 2lep\n",
      "This is TTJets in 2lep\n",
      "This is WZTo2Q2L in 2lep\n",
      "This sf_array =  [0, 0, 0, 0, 0, 0, 0, 0, 0, 0, 0, 0, 0, ... 0, 0, 1.11, 0, 0, 0, 0, 0, 0, 0, 0, 0, 0]\n",
      "This is ZZTo2Q2L in 2lep\n",
      "This sf_array =  [0, 0, 0, 0, 0, 0, 0, 1.04, 0, 0, 0, 0, ... 0, 0.985, 0, 0, 0, 0, 0, 0, 0, 0, 0, 0]\n",
      "This is WWTo2L2Nu in 2lep\n",
      "This is Data in 2lep\n",
      "data weight  = [1, 1, 1, 1, 1, 1, 1, 1, 1, 1, 1, 1, 1, 1, ... 1, 1, 1, 1, 1, 1, 1, 1, 1, 1, 1, 1, 1]\n",
      "Fill done\n",
      "[INFO] start to stroe 2D\n",
      "[INFO] stroe 2D done\n"
     ]
    },
    {
     "data": {
      "image/png": "[encoded data removed]",
      "text/plain": [
       "<Figure size 720x720 with 2 Axes>"
      ]
     },
     "metadata": {
      "needs_background": "light"
     },
     "output_type": "display_data"
    }
   ],
   "source": [
    "#with uproot.recreate('template_merged_Zjet.root') as outfile:\n",
    "with uproot.recreate('template_resolved_Zjet.root') as outfile:\n",
    "    regions = ['CR']\n",
    "    print(f'massZZ bins = {massZZ_bins}')\n",
    "    #set var draw \n",
    "    #varbs = ['mass2lj']\n",
    "    varbs = ['mass2l2jet']\n",
    "    bkg_hists = {}; Data_hist = {}; signal_hists = {}\n",
    "    bkg_arr = {}; Data_arr = {}; weight_arr={}\n",
    "\n",
    "    for var in varbs:\n",
    "        print(f\"[INFO] it is {var} plot\")\n",
    "        #nbins, xmin, xmax = config['bininfo']['KD_ZJ'][0], config['bininfo']['KD_ZJ'][1], config['bininfo']['KD_ZJ'][2]\n",
    "        nbins, xmin, xmax = config['bininfo']['KD_Zjj'][0], config['bininfo']['KD_Zjj'][1], config['bininfo']['KD_Zjj'][2]\n",
    "        #edge = np.linspace(xmin, xmax, nbins+1)\n",
    "        if var.find('pt')!=-1 or var.find('massmerged')!=-1 or var.find('mass2jet')!=-1:\n",
    "            islogY = True\n",
    "        else:\n",
    "            islogY = True\n",
    "\n",
    "        #fill histo \n",
    "        #bkg_hists = {}; Data_hist = {}; signal_hists = {}\n",
    "        for reg in regions:\n",
    "            bkg_hists[reg] = {}; Data_hist[reg] = {}; signal_hists[reg] = {}\n",
    "            bkg_arr[reg] = {}; Data_arr[reg] = {}; weight_arr[reg]={}\n",
    "            for cat in config['channel']:\n",
    "                bkg_hists[reg][cat] = [None,None,None,None]; Data_hist[reg][cat] = None; signal_hists[reg][cat] = []\n",
    "                bkg_arr[reg][cat] = [None,None,None,None]; Data_arr[reg][cat] = None; weight_arr[reg][cat] = {}\n",
    "                for sample in config['Samples_lists']:\n",
    "                    print(f\"This is {sample} in {cat}\")\n",
    "                    if sample!='Data':\n",
    "                        if sample.find('DY')!=-1: continue\n",
    "                        temp_array = bkg_array[reg][cat][sample]\n",
    "                        #retray weight and apply paritcleNet weight\n",
    "                        weights = (temp_array['EventWeight']*config['lumi'][year]*1000*config['samples_inf'][sample][1])/sumWeight[sample]\n",
    "\n",
    "                        if sample == 'ZZTo2Q2L' or sample =='WZTo2Q2L':\n",
    "                            sf_Net = GetParticleNetSignalSF(temp_array,'ZvsQCD',sf_particleNet_signal)   \n",
    "                        #elif sample.find('DY')!=-1:\n",
    "                        #    sf_Net = GetParticleNetbkgSF(temp_array,'ZvsQCD','DY')\n",
    "                        #elif sample.find('TTJets')!=-1 or sample.find('WWTo2L2Nu')!=-1:\n",
    "                        #    sf_Net = GetParticleNetbkgSF(temp_array,'ZvsQCD','TT')\n",
    "                        else:\n",
    "                            sf_Net = ak.ones_like(temp_array['EventWeight'])\n",
    "                        weights = weights*sf_Net\n",
    "\n",
    "\n",
    "                        #temp_hist = get_hist(temp_array[var],weights,nbins,xmin,xmax)\n",
    "                        temp_hist = bh.Histogram(massZZ_bins,bh.axis.Regular(20, 0, 1),storage=bh.storage.Weight())\n",
    "                        temp_hist.fill(temp_array[var],temp_array['KD_Zjj'],weight = weights)\n",
    "\n",
    "                        #print(\"[INFO] stroe kd\")\n",
    "                        #hist_KD = get_hist(temp_array['KD_ZJ'],weights,nbins,xmin,xmax)\n",
    "                        #hist_KD.fill(temp_array['KD_ZJ'],weight = weights)\n",
    "\n",
    "\n",
    "\n",
    "                        #if sample.find('DY')!=-1:\n",
    "                        #    print(\"[INFO] KD_array = \",temp_array['KD_ZJ'])\n",
    "                        #    print(\"[INFO] hist_KD = \",hist_KD.view(flow=False).value)\n",
    "                        #    if (bkg_hists[reg][cat])[3]==None:\n",
    "                        #        #(bkg_hists[reg][cat])[3] = temp_hist\n",
    "                        #        (bkg_hists[reg][cat])[3] = hist_KD\n",
    "                        #    else:\n",
    "                        #        #(bkg_hists[reg][cat])[3]+=temp_hist\n",
    "                        #        (bkg_hists[reg][cat])[3]+=hist_KD\n",
    "                        if sample.find('TTJets')!=-1 or sample.find('WWTo2L2Nu')!=-1:\n",
    "                            if (bkg_hists[reg][cat])[1]==None:\n",
    "                                (bkg_hists[reg][cat])[1] = temp_hist\n",
    "                            else:\n",
    "                                (bkg_hists[reg][cat])[1]+=temp_hist\n",
    "                        if sample.find('WZTo2Q2L')!=-1 or sample.find('ZZTo2Q2L')!=-1:\n",
    "                            if (bkg_hists[reg][cat])[0]==None:\n",
    "                                (bkg_hists[reg][cat])[0] = temp_hist\n",
    "                            else:\n",
    "                                (bkg_hists[reg][cat])[0]+=temp_hist\n",
    "                    else:\n",
    "                        temp_array = data_array[reg][cat]\n",
    "                        weights = np.ones_like(temp_array['EventWeight'])\n",
    "                        print(f'data weight  = {weights}')\n",
    "                        #Data_hist[reg][cat] = get_hist(temp_array[var],weights,nbins,xmin,xmax)\n",
    "                        Data_hist[reg][cat] = bh.Histogram(massZZ_bins,bh.axis.Regular(20, 0, 1),storage=bh.storage.Weight())\n",
    "                        Data_hist[reg][cat].fill(temp_array[var],temp_array['KD_Zjj'],weight=weights)\n",
    "                        #Data_hist[reg][cat] = temp_hist\n",
    "\n",
    "                #for sample in config['signal_lists']:\n",
    "                #    temp_array = signal_array[reg][cat][sample]\n",
    "                #    weights = (temp_array['EventWeight']*config['lumi']['2016']*config['samples_inf'][sample][1]*10)/sumWeight[sample] #scale 10\n",
    "                #    #sf_Net = GetParticleNetSignalSF(temp_array,'ZvsQCD',sf_particleNet_signal)\n",
    "                #    #weights = weights*sf_Net\n",
    "                #    #temp_hist = get_hist(temp_array[var],weights,nbins,xmin,xmax)\n",
    "                #    temp_hist = bh.Histogram(massZZ_bins,storage=bh.storage.Weight())\n",
    "                #    temp_hist.fill(temp_array[var],weight = weights)\n",
    "                #    signal_hists[reg][cat].append(temp_hist)\n",
    "\n",
    "    print(\"Fill done\")\n",
    "    #store 2D template\n",
    "    print(\"[INFO] start to stroe 2D\")\n",
    "    Data_hist['CR']['2lep'].view(flow=False).value = Data_hist['CR']['2lep'].view(flow=False).value - (bkg_hists['CR']['2lep'])[0].view(flow=False).value- (bkg_hists['CR']['2lep'])[1].view(flow=False).value\n",
    "    #Data_hist['CR']['2lep'].view(flow=False).value[:,0] = Data_hist['CR']['2lep'].view(flow=False).value[:,0]*Alph_array[f'merged_{cat}']\n",
    "    Data_hist['CR']['2lep'].view(flow=False).value[:,0] = Data_hist['CR']['2lep'].view(flow=False).value[:,0]*Alph_array[f'resolved_{cat}']\n",
    "    #content_data = Data_hist['CR']['2lep'].view(flow=False).value\n",
    "    #content_TT = (bkg_hists['CR']['2lep'])[0].view(flow=False).value\n",
    "    #content_ZV = (bkg_hists['CR']['2lep'])[1].view(flow=False).value\n",
    "    #content_DY = content_data - content_TT - content_ZV\n",
    "    #content_DY[:,0] = content_DY[:,0]*Alph_array[f'merged_{cat}']\n",
    "    #SR_DY = bh.Histogram(massZZ_bins,bh.axis.Regular(20, 0, 1))\n",
    "    #SR_DY.fill(content_DY)\n",
    "\n",
    "    hep.hist2dplot(Data_hist['CR']['2lep'])\n",
    "    #plt.close()\n",
    "\n",
    "    #outfile['DY_merged'] = Data_hist['CR']['2lep']\n",
    "    #outfile['DY_merged_up'] = Data_hist['CR']['2lep']\n",
    "    #outfile['DY_merged_down'] = Data_hist['CR']['2lep']\n",
    "    outfile['DY_resolved'] = Data_hist['CR']['2lep']\n",
    "    outfile['DY_resolved_up'] = Data_hist['CR']['2lep']\n",
    "    outfile['DY_resolved_down'] = Data_hist['CR']['2lep']\n",
    "    print(\"[INFO] stroe 2D done\")\n",
    "\n",
    "    "
   ]
  },
  {
   "cell_type": "code",
   "execution_count": 76,
   "id": "f2bc9f02",
   "metadata": {},
   "outputs": [
    {
     "data": {
      "text/plain": [
       "array([110.,  78.,  80.,  54.,  44.,  33.,  41.,  25.,  20.,  13.,  15.,\n",
       "         5.,   6.,  10.,   5.,   2.,   1.,   4.,   2.,   4.,   2.,   2.,\n",
       "         2.,   1.,   6.,   1.])"
      ]
     },
     "execution_count": 76,
     "metadata": {},
     "output_type": "execute_result"
    }
   ],
   "source": [
    "Data_hist['CR']['2lep'].view(flow=False).value[:,0]"
   ]
  },
  {
   "cell_type": "code",
   "execution_count": 77,
   "id": "2436e357",
   "metadata": {},
   "outputs": [],
   "source": [
    " Data_hist['CR']['2lep'].view(flow=False).value = Data_hist['CR']['2lep'].view(flow=False).value - (bkg_hists['CR']['2lep'])[0].view(flow=False).value- (bkg_hists['CR']['2lep'])[1].view(flow=False).value\n"
   ]
  },
  {
   "cell_type": "code",
   "execution_count": 78,
   "id": "cbe04411",
   "metadata": {},
   "outputs": [
    {
     "data": {
      "text/plain": [
       "array([99.61328749, 70.30920173, 75.36614313, 49.93049381, 42.13868974,\n",
       "       29.87356584, 37.6879127 , 24.06897371, 19.93157765, 12.2460785 ,\n",
       "       14.71158262,  4.39701039,  4.83271254,  9.42185558,  4.8564734 ,\n",
       "        1.47573349, -0.40897316,  4.28582857,  1.8526408 ,  3.99516205,\n",
       "        1.62254587,  1.98865037,  1.98278883,  0.97597906,  5.48512206,\n",
       "        0.90515165])"
      ]
     },
     "execution_count": 78,
     "metadata": {},
     "output_type": "execute_result"
    }
   ],
   "source": [
    " Data_hist['CR']['2lep'].view(flow=False).value[:,0]"
   ]
  },
  {
   "cell_type": "code",
   "execution_count": 38,
   "id": "e11d7572",
   "metadata": {
    "scrolled": false
   },
   "outputs": [
    {
     "name": "stdout",
     "output_type": "stream",
     "text": [
      "This is 2lep\n"
     ]
    },
    {
     "ename": "ValueError",
     "evalue": "cannot broadcast RegularArray of size 20 with RegularArray of size 26\n\n(https://github.com/scikit-hep/awkward-1.0/blob/1.8.0/src/awkward/_util.py#L914)",
     "output_type": "error",
     "traceback": [
      "\u001b[0;31m---------------------------------------------------------------------------\u001b[0m",
      "\u001b[0;31mValueError\u001b[0m                                Traceback (most recent call last)",
      "\u001b[1;32m/cms/user/guojl/ME_test/CMSSW_10_6_26/src/HZZAnalysis/BackgroundEstimation/AlphaVaildation.ipynb Cell 21\u001b[0m in \u001b[0;36m<cell line: 3>\u001b[0;34m()\u001b[0m\n\u001b[1;32m     <a href='vscode-notebook-cell://ssh-remote%2Bcerntoihep/cms/user/guojl/ME_test/CMSSW_10_6_26/src/HZZAnalysis/BackgroundEstimation/AlphaVaildation.ipynb#ch0000019vscode-remote?line=14'>15</a>\u001b[0m Data_content \u001b[39m=\u001b[39m Data_hist[\u001b[39m'\u001b[39m\u001b[39mCR\u001b[39m\u001b[39m'\u001b[39m][cat]\u001b[39m.\u001b[39mview(flow\u001b[39m=\u001b[39m\u001b[39mFalse\u001b[39;00m)\u001b[39m.\u001b[39mvalue\n\u001b[1;32m     <a href='vscode-notebook-cell://ssh-remote%2Bcerntoihep/cms/user/guojl/ME_test/CMSSW_10_6_26/src/HZZAnalysis/BackgroundEstimation/AlphaVaildation.ipynb#ch0000019vscode-remote?line=16'>17</a>\u001b[0m Data_SB \u001b[39m=\u001b[39m (Data_content \u001b[39m-\u001b[39m ZV_content)\u001b[39m-\u001b[39m TT_content\n\u001b[0;32m---> <a href='vscode-notebook-cell://ssh-remote%2Bcerntoihep/cms/user/guojl/ME_test/CMSSW_10_6_26/src/HZZAnalysis/BackgroundEstimation/AlphaVaildation.ipynb#ch0000019vscode-remote?line=18'>19</a>\u001b[0m SR_DY \u001b[39m=\u001b[39m Data_SB\u001b[39m*\u001b[39;49mAlph_array[\u001b[39mf\u001b[39;49m\u001b[39m'\u001b[39;49m\u001b[39mmerged_\u001b[39;49m\u001b[39m{\u001b[39;49;00mcat\u001b[39m}\u001b[39;49;00m\u001b[39m'\u001b[39;49m]\n\u001b[1;32m     <a href='vscode-notebook-cell://ssh-remote%2Bcerntoihep/cms/user/guojl/ME_test/CMSSW_10_6_26/src/HZZAnalysis/BackgroundEstimation/AlphaVaildation.ipynb#ch0000019vscode-remote?line=20'>21</a>\u001b[0m (bkg_hists[\u001b[39m'\u001b[39m\u001b[39mSR\u001b[39m\u001b[39m'\u001b[39m][cat])[\u001b[39m2\u001b[39m] \u001b[39m=\u001b[39m bh\u001b[39m.\u001b[39mHistogram(massZZ_bins)\n\u001b[1;32m     <a href='vscode-notebook-cell://ssh-remote%2Bcerntoihep/cms/user/guojl/ME_test/CMSSW_10_6_26/src/HZZAnalysis/BackgroundEstimation/AlphaVaildation.ipynb#ch0000019vscode-remote?line=22'>23</a>\u001b[0m ((bkg_hists[\u001b[39m'\u001b[39m\u001b[39mSR\u001b[39m\u001b[39m'\u001b[39m][cat])[\u001b[39m2\u001b[39m])[:] \u001b[39m=\u001b[39m SR_DY\n",
      "File \u001b[0;32m/cms/user/guojl/miniconda/envs/uprootframe/lib/python3.8/site-packages/awkward/highlevel.py:1411\u001b[0m, in \u001b[0;36mArray.__array_ufunc__\u001b[0;34m(self, ufunc, method, *inputs, **kwargs)\u001b[0m\n\u001b[1;32m   1354\u001b[0m \u001b[39m\"\"\"\u001b[39;00m\n\u001b[1;32m   1355\u001b[0m \u001b[39mIntercepts attempts to pass this Array to a NumPy\u001b[39;00m\n\u001b[1;32m   1356\u001b[0m \u001b[39m[universal functions](https://docs.scipy.org/doc/numpy/reference/ufuncs.html)\u001b[39;00m\n\u001b[0;32m   (...)\u001b[0m\n\u001b[1;32m   1408\u001b[0m \u001b[39mSee also #__array_function__.\u001b[39;00m\n\u001b[1;32m   1409\u001b[0m \u001b[39m\"\"\"\u001b[39;00m\n\u001b[1;32m   1410\u001b[0m \u001b[39mif\u001b[39;00m \u001b[39mnot\u001b[39;00m \u001b[39mhasattr\u001b[39m(\u001b[39mself\u001b[39m, \u001b[39m\"\u001b[39m\u001b[39m_tracers\u001b[39m\u001b[39m\"\u001b[39m):\n\u001b[0;32m-> 1411\u001b[0m     \u001b[39mreturn\u001b[39;00m ak\u001b[39m.\u001b[39;49m_connect\u001b[39m.\u001b[39;49m_numpy\u001b[39m.\u001b[39;49marray_ufunc(ufunc, method, inputs, kwargs)\n\u001b[1;32m   1412\u001b[0m \u001b[39melse\u001b[39;00m:\n\u001b[1;32m   1413\u001b[0m     \u001b[39mreturn\u001b[39;00m ak\u001b[39m.\u001b[39m_connect\u001b[39m.\u001b[39m_jax\u001b[39m.\u001b[39mjax_utils\u001b[39m.\u001b[39marray_ufunc(\n\u001b[1;32m   1414\u001b[0m         \u001b[39mself\u001b[39m, ufunc, method, inputs, kwargs\n\u001b[1;32m   1415\u001b[0m     )\n",
      "File \u001b[0;32m/cms/user/guojl/miniconda/envs/uprootframe/lib/python3.8/site-packages/awkward/_connect/_numpy.py:250\u001b[0m, in \u001b[0;36marray_ufunc\u001b[0;34m(ufunc, method, inputs, kwargs)\u001b[0m\n\u001b[1;32m    240\u001b[0m         \u001b[39mraise\u001b[39;00m \u001b[39mValueError\u001b[39;00m(\n\u001b[1;32m    241\u001b[0m             \u001b[39m\"\u001b[39m\u001b[39mno overloads for custom types: \u001b[39m\u001b[39m{}\u001b[39;00m\u001b[39m(\u001b[39m\u001b[39m{}\u001b[39;00m\u001b[39m)\u001b[39m\u001b[39m\"\u001b[39m\u001b[39m.\u001b[39mformat(\n\u001b[1;32m    242\u001b[0m                 ufunc\u001b[39m.\u001b[39m\u001b[39m__name__\u001b[39m,\n\u001b[0;32m   (...)\u001b[0m\n\u001b[1;32m    245\u001b[0m             \u001b[39m+\u001b[39m ak\u001b[39m.\u001b[39m_util\u001b[39m.\u001b[39mexception_suffix(\u001b[39m__file__\u001b[39m)\n\u001b[1;32m    246\u001b[0m         )\n\u001b[1;32m    248\u001b[0m     \u001b[39mreturn\u001b[39;00m \u001b[39mNone\u001b[39;00m\n\u001b[0;32m--> 250\u001b[0m out \u001b[39m=\u001b[39m ak\u001b[39m.\u001b[39;49m_util\u001b[39m.\u001b[39;49mbroadcast_and_apply(\n\u001b[1;32m    251\u001b[0m     inputs, getfunction, behavior, allow_records\u001b[39m=\u001b[39;49m\u001b[39mFalse\u001b[39;49;00m, pass_depth\u001b[39m=\u001b[39;49m\u001b[39mFalse\u001b[39;49;00m\n\u001b[1;32m    252\u001b[0m )\n\u001b[1;32m    253\u001b[0m \u001b[39massert\u001b[39;00m \u001b[39misinstance\u001b[39m(out, \u001b[39mtuple\u001b[39m) \u001b[39mand\u001b[39;00m \u001b[39mlen\u001b[39m(out) \u001b[39m==\u001b[39m \u001b[39m1\u001b[39m\n\u001b[1;32m    254\u001b[0m \u001b[39mreturn\u001b[39;00m ak\u001b[39m.\u001b[39m_util\u001b[39m.\u001b[39mwrap(out[\u001b[39m0\u001b[39m], behavior)\n",
      "File \u001b[0;32m/cms/user/guojl/miniconda/envs/uprootframe/lib/python3.8/site-packages/awkward/_util.py:1138\u001b[0m, in \u001b[0;36mbroadcast_and_apply\u001b[0;34m(inputs, getfunction, behavior, allow_records, pass_depth, pass_user, user, left_broadcast, right_broadcast, numpy_to_regular, regular_to_jagged)\u001b[0m\n\u001b[1;32m   1135\u001b[0m         nextinputs\u001b[39m.\u001b[39mappend(x)\n\u001b[1;32m   1137\u001b[0m isscalar \u001b[39m=\u001b[39m []\n\u001b[0;32m-> 1138\u001b[0m out \u001b[39m=\u001b[39m apply(broadcast_pack(nextinputs, isscalar), \u001b[39m0\u001b[39;49m, \u001b[39mNone\u001b[39;49;00m)\n\u001b[1;32m   1139\u001b[0m \u001b[39massert\u001b[39;00m \u001b[39misinstance\u001b[39m(out, \u001b[39mtuple\u001b[39m)\n\u001b[1;32m   1140\u001b[0m \u001b[39mreturn\u001b[39;00m \u001b[39mtuple\u001b[39m(broadcast_unpack(x, isscalar) \u001b[39mfor\u001b[39;00m x \u001b[39min\u001b[39;00m out)\n",
      "File \u001b[0;32m/cms/user/guojl/miniconda/envs/uprootframe/lib/python3.8/site-packages/awkward/_util.py:722\u001b[0m, in \u001b[0;36mbroadcast_and_apply.<locals>.apply\u001b[0;34m(inputs, depth, user)\u001b[0m\n\u001b[1;32m    720\u001b[0m             nextinputs\u001b[39m.\u001b[39mappend(obj)\n\u001b[1;32m    721\u001b[0m         \u001b[39mif\u001b[39;00m \u001b[39many\u001b[39m(x \u001b[39mis\u001b[39;00m \u001b[39mnot\u001b[39;00m y \u001b[39mfor\u001b[39;00m x, y \u001b[39min\u001b[39;00m \u001b[39mzip\u001b[39m(inputs, nextinputs)):\n\u001b[0;32m--> 722\u001b[0m             \u001b[39mreturn\u001b[39;00m apply(nextinputs, depth, user)\n\u001b[1;32m    724\u001b[0m \u001b[39m# now all lengths must agree\u001b[39;00m\n\u001b[1;32m    725\u001b[0m checklength([x \u001b[39mfor\u001b[39;00m x \u001b[39min\u001b[39;00m inputs \u001b[39mif\u001b[39;00m \u001b[39misinstance\u001b[39m(x, ak\u001b[39m.\u001b[39mlayout\u001b[39m.\u001b[39mContent)])\n",
      "File \u001b[0;32m/cms/user/guojl/miniconda/envs/uprootframe/lib/python3.8/site-packages/awkward/_util.py:919\u001b[0m, in \u001b[0;36mbroadcast_and_apply.<locals>.apply\u001b[0;34m(inputs, depth, user)\u001b[0m\n\u001b[1;32m    916\u001b[0m     \u001b[39melse\u001b[39;00m:\n\u001b[1;32m    917\u001b[0m         nextinputs\u001b[39m.\u001b[39mappend(x)\n\u001b[0;32m--> 919\u001b[0m outcontent \u001b[39m=\u001b[39m apply(nextinputs, depth \u001b[39m+\u001b[39;49m \u001b[39m1\u001b[39;49m, user)\n\u001b[1;32m    920\u001b[0m \u001b[39massert\u001b[39;00m \u001b[39misinstance\u001b[39m(outcontent, \u001b[39mtuple\u001b[39m)\n\u001b[1;32m    922\u001b[0m length \u001b[39m=\u001b[39m \u001b[39mNone\u001b[39;00m\n",
      "File \u001b[0;32m/cms/user/guojl/miniconda/envs/uprootframe/lib/python3.8/site-packages/awkward/_util.py:909\u001b[0m, in \u001b[0;36mbroadcast_and_apply.<locals>.apply\u001b[0;34m(inputs, depth, user)\u001b[0m\n\u001b[1;32m    907\u001b[0m         nextinputs\u001b[39m.\u001b[39mappend(x\u001b[39m.\u001b[39mcontent[: \u001b[39mlen\u001b[39m(x) \u001b[39m*\u001b[39m x\u001b[39m.\u001b[39msize])\n\u001b[1;32m    908\u001b[0m     \u001b[39melse\u001b[39;00m:\n\u001b[0;32m--> 909\u001b[0m         \u001b[39mraise\u001b[39;00m \u001b[39mValueError\u001b[39;00m(\n\u001b[1;32m    910\u001b[0m             \u001b[39m\"\u001b[39m\u001b[39mcannot broadcast RegularArray of size \u001b[39m\u001b[39m\"\u001b[39m\n\u001b[1;32m    911\u001b[0m             \u001b[39m\"\u001b[39m\u001b[39m{}\u001b[39;00m\u001b[39m with RegularArray of size \u001b[39m\u001b[39m{}\u001b[39;00m\u001b[39m\"\u001b[39m\u001b[39m.\u001b[39mformat(\n\u001b[1;32m    912\u001b[0m                 x\u001b[39m.\u001b[39msize, maxsize\n\u001b[1;32m    913\u001b[0m             )\n\u001b[1;32m    914\u001b[0m             \u001b[39m+\u001b[39m exception_suffix(\u001b[39m__file__\u001b[39m)\n\u001b[1;32m    915\u001b[0m         )\n\u001b[1;32m    916\u001b[0m \u001b[39melse\u001b[39;00m:\n\u001b[1;32m    917\u001b[0m     nextinputs\u001b[39m.\u001b[39mappend(x)\n",
      "\u001b[0;31mValueError\u001b[0m: cannot broadcast RegularArray of size 20 with RegularArray of size 26\n\n(https://github.com/scikit-hep/awkward-1.0/blob/1.8.0/src/awkward/_util.py#L914)"
     ]
    }
   ],
   "source": [
    "#reduce TT ZV and WW from Data Sideband\n",
    "#H_Data_SB = Data_hist['CR']['isEE'] - (bkg_hists['CR']['isEE'])[1] - (bkg_hists['CR']['isEE'])[0]\n",
    "with uproot.recreate(\"template_merged_Zjet.root\") as outfile:\n",
    "    for cat in config['channel']:\n",
    "        if cat =='isEE':\n",
    "            text = 'twoEle'\n",
    "        elif cat =='isMuMu':\n",
    "            text = 'twoMuon'\n",
    "        else:\n",
    "            text = '2lep'\n",
    "\n",
    "        print(f\"This is {cat}\")\n",
    "        TT_content = (bkg_hists['CR'][cat])[1].view(flow=False).value\n",
    "        ZV_content = (bkg_hists['CR'][cat])[0].view(flow=False).value\n",
    "        Data_content = Data_hist['CR'][cat].view(flow=False).value\n",
    "\n",
    "        Data_SB = (Data_content - ZV_content)- TT_content\n",
    "\n",
    "        SR_DY = Data_SB*Alph_array[f'merged_{cat}']\n",
    "\n",
    "        (bkg_hists['SR'][cat])[2] = bh.Histogram(massZZ_bins)\n",
    "\n",
    "        ((bkg_hists['SR'][cat])[2])[:] = SR_DY\n",
    "\n",
    "        hist2D = bh.Histogram(massZZ_bins,bh.axis.Regular(20, 0, 1))\n",
    "        hist2D = np.array(SR_DY,(bkg_hists['SR']['2lep'])[3].view(flow=False).value)\n",
    "        #hist2D[0,:] = (bkg_hists['SR']['2lep'])[3].view(flow=False).value\n",
    "        #hist2D[:,0] = SR_DY\n",
    "\n",
    "        outfile['DY_merged'] = hist2D\n",
    "        outfile['DY_merged_up'] = hist2D\n",
    "        outfile['DY_merged_donw'] = hist2D\n",
    "\n",
    "        print(\"[INFO] stroe done\")\n",
    "\n",
    "        #set_sns_color(color_order_bkg)\n",
    "        #edge = np.append(massZZ_low_bins,massZZ_high_bins)\n",
    "        #f = plt.figure(figsize=(12,12))\n",
    "        #gs = mpl.gridspec.GridSpec(2, 1, height_ratios=[3, 1], hspace=0)\n",
    "        #ax = f.add_subplot(gs[0])\n",
    "        #hep.cms.label(data=True, llabel='Preliminary', year='2016', ax=ax, rlabel=r'%s $fb^{-1}$ (13 TeV)' %config['lumi'][year], fontname='sans-serif')\n",
    "        ##hep.cms.label(data=True, year=year, ax=ax, rlabel=r'%s $fb^{-1}$ (13 TeV)'%lumi[year], fontname='sans-serif')\n",
    "#\n",
    "        #hep.histplot(bkg_hists['SR'][cat],label=[f'MC ({var})' for var in ['WZ,ZZ','TT,WW','Z+jets']],histtype='fill', edgecolor='k', linewidth=1, stack=True) ## draw MC\n",
    "        #ax.set_xlabel(r'$M_{ZZ}$ [GeV]', ha='right', x=1.0)\n",
    "        #ax.set_ylabel('Events / bin', ha='right', y=1.0);\n",
    "#\n",
    "        ###SIGNAL\n",
    "        #colors = ['blue', 'red']\n",
    "        #hep.histplot(signal_hists['SR'][cat],label=[ var for var in ['ggH(m1000)x10','VBF(m1500)x10']],linestyle=[style for style in [':','--']], color=[color for color in colors])\n",
    "#\n",
    "        ###DATA\n",
    "        #data_err = get_err(Data_hist['SR'][cat])\n",
    "        #data = Data_hist['SR'][cat].values()\n",
    "        ##hep.histplot(Data_hist[cat], yerr=data_err,label='Data', histtype='errorbar', color='k', markersize=15, elinewidth=1.5) ## draw data\n",
    "        #plot_hist(Data_hist['SR'][cat],label='Data', histtype='errorbar', color='k', markersize=15, elinewidth=1.5) ## draw data\n",
    "#\n",
    "        ##bkg_hist = bkg_hists['SR']['isEE'][0]+bkg_hists['SR']['isEE'][1]+bkg_hists['SR']['isEE'][2]\n",
    "        #bkg_tot = bkg_hists['SR'][cat][0].values()+bkg_hists['SR'][cat][1].values()+bkg_hists['SR'][cat][2].values()\n",
    "        #bkg_err = np.sqrt(bkg_tot)\n",
    "        #print(f'bkg_err in {cat} = {bkg_err}')\n",
    "        #ax.fill_between(edge, (bkg_tot-bkg_err).tolist()+[0], (bkg_tot+bkg_err).tolist()+[0], label='BKG total unce.', step='post', hatch='\\\\\\\\', edgecolor='darkblue', facecolor='none', linewidth=0) ## draw bkg unce.\n",
    "        #ax.fill_between(edge, (bkg_tot-bkg_err-Alph_array[f'merged_{cat}_err']).tolist()+[0], (bkg_tot-bkg_err).tolist()+[0], label='Alpha total unce.', step='post', hatch='xx', edgecolor='darkgrey', facecolor='none', linewidth=0) ## draw bkg unce.\n",
    "        #ax.fill_between(edge, (bkg_tot+bkg_err).tolist()+[0], (bkg_tot+bkg_err+Alph_array[f'merged_{cat}_err']).tolist()+[0],step='post', hatch='xx', edgecolor='darkgrey', facecolor='none', linewidth=0) ## draw bkg unce.\n",
    "#\n",
    "#\n",
    "        #ax.set(yscale = \"log\")\n",
    "        #ax.set_ylim(1e-1, 3*ax.get_ylim()[1])\n",
    "        #ax.text(0.05, 0.92, f'{text}', transform=ax.transAxes, fontweight='bold') \n",
    "        #ax.legend(fontsize=18)\n",
    "        ###==========================================Ratio panel========================\n",
    "        #ax1 = f.add_subplot(gs[1]); ax1.set_xlim(xmin, xmax); ax1.set_ylim(0.001, 1.999)\n",
    "        #ax1.set_xlabel(config['bininfo'][var][3], ha='right', x=1.0); ax1.set_ylabel('Data / MC', ha='center')\n",
    "        #ax1.plot([xmin,xmax], [1,1], 'k'); ax1.plot([xmin,xmax], [0.5,0.5], 'k:'); ax1.plot([xmin,xmax], [1.5,1.5], 'k:')\n",
    "#\n",
    "        #ratio=np.nan_to_num((data/bkg_tot),nan=-1)\n",
    "        #ratio_err = np.nan_to_num((data_err/bkg_tot),nan=-1)\n",
    "        #hep.histplot(ratio, yerr = ratio_err,bins=edge, histtype='errorbar', color='k', markersize=15, elinewidth=1)\n",
    "        ##hep.histplot(data/bkg_tot, yerr = data_err/bkg_err,bins=edge, histtype='errorbar', color='k', markersize=15, elinewidth=1)\n",
    "        ##if plot_unce:\n",
    "        #ratio_unc_low = np.nan_to_num(((bkg_tot-bkg_err)/bkg_tot),nan=-1)\n",
    "        #ratio_unc_up = np.nan_to_num(((bkg_tot+bkg_err)/bkg_tot),nan=-1)\n",
    "        #ax1.fill_between(edge, ratio_unc_low.tolist()+[0],ratio_unc_up.tolist()+[0], step='post', hatch='\\\\\\\\', edgecolor='darkblue', facecolor='none', linewidth=0) ## draw bkg unce.\n",
    "        ##ax1.fill_between(edge, ((bkg_tot-bkg_err)/bkg_tot).tolist()+[0], ((bkg_tot+bkg_err)/bkg_tot).tolist()+[0], step='post', hatch='\\\\\\\\', edgecolor='darkblue', facecolor='none', linewidth=0) ## draw bkg unce."
   ]
  },
  {
   "cell_type": "code",
   "execution_count": 85,
   "id": "5b402bbe",
   "metadata": {},
   "outputs": [],
   "source": [
    "hist2D = bh.Histogram(massZZ_bins,bh.axis.Regular(20, 0, 1))"
   ]
  },
  {
   "cell_type": "code",
   "execution_count": 87,
   "id": "baa6d13b",
   "metadata": {},
   "outputs": [
    {
     "data": {
      "text/plain": [
       "Histogram(\n",
       "  Variable(array([ 500.,  550.,  600.,  650.,  700.,  750.,  800.,  850.,  900.,\n",
       "        950., 1000., 1050., 1100., 1150., 1200., 1250., 1300., 1350.,\n",
       "       1400., 1450., 1500., 1550., 1600., 1650., 1700., 2000., 3500.])),\n",
       "  Regular(20, 0, 1),\n",
       "  storage=Double()) # Sum: 0.0 (1.0 with flow)"
      ]
     },
     "execution_count": 87,
     "metadata": {},
     "output_type": "execute_result"
    }
   ],
   "source": [
    "hist2D.fill(1,2,weight =1)"
   ]
  },
  {
   "cell_type": "code",
   "execution_count": 46,
   "id": "681e1de6",
   "metadata": {},
   "outputs": [
    {
     "data": {
      "text/plain": [
       "array([70.21362863, 82.63412566, 85.2713908 , 85.46517519, 66.19560302,\n",
       "       67.05284223, 58.33868199, 51.26323717, 47.72209999, 40.14754439,\n",
       "       39.71792572, 41.90558412, 38.94285579, 33.93679384, 36.08582487,\n",
       "       36.4113139 , 39.29806949, 44.90038964, 58.89604066, 72.76204162])"
      ]
     },
     "execution_count": 46,
     "metadata": {},
     "output_type": "execute_result"
    }
   ],
   "source": [
    "(bkg_hists['SR']['2lep'])[3].view(flow=False).value"
   ]
  },
  {
   "cell_type": "code",
   "execution_count": 82,
   "id": "fb4b5ed6",
   "metadata": {},
   "outputs": [],
   "source": [
    "hist2D = SR_DY"
   ]
  },
  {
   "cell_type": "code",
   "execution_count": 71,
   "id": "32c6d033",
   "metadata": {},
   "outputs": [],
   "source": [
    "hist2D[:,0] = SR_DY"
   ]
  },
  {
   "cell_type": "code",
   "execution_count": 73,
   "id": "95634196",
   "metadata": {},
   "outputs": [],
   "source": [
    "hist2D[0,:] = (bkg_hists['SR']['2lep'])[3].view(flow=False).value"
   ]
  },
  {
   "cell_type": "code",
   "execution_count": 84,
   "id": "581dac3f",
   "metadata": {},
   "outputs": [
    {
     "ename": "ValueError",
     "evalue": "in NumpyArray, too many dimensions in slice\n\n(https://github.com/scikit-hep/awkward-1.0/blob/1.8.0/src/libawkward/array/NumpyArray.cpp#L4153)",
     "output_type": "error",
     "traceback": [
      "\u001b[0;31m---------------------------------------------------------------------------\u001b[0m",
      "\u001b[0;31mValueError\u001b[0m                                Traceback (most recent call last)",
      "\u001b[1;32m/cms/user/guojl/ME_test/CMSSW_10_6_26/src/HZZAnalysis/BackgroundEstimation/AlphaVaildation.ipynb Cell 25\u001b[0m in \u001b[0;36m<cell line: 1>\u001b[0;34m()\u001b[0m\n\u001b[0;32m----> <a href='vscode-notebook-cell://ssh-remote%2Bcerntoihep/cms/user/guojl/ME_test/CMSSW_10_6_26/src/HZZAnalysis/BackgroundEstimation/AlphaVaildation.ipynb#ch0000026vscode-remote?line=0'>1</a>\u001b[0m hist2D[\u001b[39m0\u001b[39;49m,:]\n",
      "File \u001b[0;32m/cms/user/guojl/miniconda/envs/uprootframe/lib/python3.8/site-packages/awkward/highlevel.py:991\u001b[0m, in \u001b[0;36mArray.__getitem__\u001b[0;34m(self, where)\u001b[0m\n\u001b[1;32m    579\u001b[0m \u001b[39m\"\"\"\u001b[39;00m\n\u001b[1;32m    580\u001b[0m \u001b[39mArgs:\u001b[39;00m\n\u001b[1;32m    581\u001b[0m \u001b[39m    where (many types supported; see below): Index of positions to\u001b[39;00m\n\u001b[0;32m   (...)\u001b[0m\n\u001b[1;32m    988\u001b[0m \u001b[39mhave the same dimension as the array being indexed.\u001b[39;00m\n\u001b[1;32m    989\u001b[0m \u001b[39m\"\"\"\u001b[39;00m\n\u001b[1;32m    990\u001b[0m \u001b[39mif\u001b[39;00m \u001b[39mnot\u001b[39;00m \u001b[39mhasattr\u001b[39m(\u001b[39mself\u001b[39m, \u001b[39m\"\u001b[39m\u001b[39m_tracers\u001b[39m\u001b[39m\"\u001b[39m):\n\u001b[0;32m--> 991\u001b[0m     tmp \u001b[39m=\u001b[39m ak\u001b[39m.\u001b[39m_util\u001b[39m.\u001b[39mwrap(\u001b[39mself\u001b[39;49m\u001b[39m.\u001b[39;49mlayout[where], \u001b[39mself\u001b[39m\u001b[39m.\u001b[39m_behavior)\n\u001b[1;32m    992\u001b[0m \u001b[39melse\u001b[39;00m:\n\u001b[1;32m    993\u001b[0m     tmp \u001b[39m=\u001b[39m ak\u001b[39m.\u001b[39m_connect\u001b[39m.\u001b[39m_jax\u001b[39m.\u001b[39mjax_utils\u001b[39m.\u001b[39m_jaxtracers_getitem(\u001b[39mself\u001b[39m, where)\n",
      "File \u001b[0;32m/cms/user/guojl/miniconda/envs/uprootframe/lib/python3.8/site-packages/awkward/partition.py:264\u001b[0m, in \u001b[0;36mPartitionedArray.__getitem__\u001b[0;34m(self, where)\u001b[0m\n\u001b[1;32m    259\u001b[0m         \u001b[39mraise\u001b[39;00m \u001b[39mValueError\u001b[39;00m(\n\u001b[1;32m    260\u001b[0m             \u001b[39mf\u001b[39m\u001b[39m\"\u001b[39m\u001b[39m{\u001b[39;00m\u001b[39mtype\u001b[39m(\u001b[39mself\u001b[39m)\u001b[39m.\u001b[39m\u001b[39m__name__\u001b[39m\u001b[39m}\u001b[39;00m\u001b[39m index out of range\u001b[39m\u001b[39m\"\u001b[39m\n\u001b[1;32m    261\u001b[0m             \u001b[39m+\u001b[39m ak\u001b[39m.\u001b[39m_util\u001b[39m.\u001b[39mexception_suffix(\u001b[39m__file__\u001b[39m)\n\u001b[1;32m    262\u001b[0m         )\n\u001b[1;32m    263\u001b[0m     partitionid, index \u001b[39m=\u001b[39m \u001b[39mself\u001b[39m\u001b[39m.\u001b[39m_ext\u001b[39m.\u001b[39mpartitionid_index_at(head)\n\u001b[0;32m--> 264\u001b[0m     \u001b[39mreturn\u001b[39;00m \u001b[39mself\u001b[39;49m\u001b[39m.\u001b[39;49mpartition(partitionid)[(index,) \u001b[39m+\u001b[39;49m tail]\n\u001b[1;32m    266\u001b[0m \u001b[39melif\u001b[39;00m \u001b[39misinstance\u001b[39m(head, \u001b[39mslice\u001b[39m):\n\u001b[1;32m    267\u001b[0m     partitions \u001b[39m=\u001b[39m \u001b[39mself\u001b[39m\u001b[39m.\u001b[39m_ext\u001b[39m.\u001b[39mgetitem_range(\n\u001b[1;32m    268\u001b[0m         head\u001b[39m.\u001b[39mstart, head\u001b[39m.\u001b[39mstop, head\u001b[39m.\u001b[39mstep\n\u001b[1;32m    269\u001b[0m     )\u001b[39m.\u001b[39mpartitions\n",
      "\u001b[0;31mValueError\u001b[0m: in NumpyArray, too many dimensions in slice\n\n(https://github.com/scikit-hep/awkward-1.0/blob/1.8.0/src/libawkward/array/NumpyArray.cpp#L4153)"
     ]
    }
   ],
   "source": [
    "hist2D[0,:]"
   ]
  },
  {
   "cell_type": "code",
   "execution_count": null,
   "id": "34c997c6",
   "metadata": {},
   "outputs": [],
   "source": []
  }
 ],
 "metadata": {
  "kernelspec": {
   "display_name": "Python 3.8.12",
   "language": "python",
   "name": "python3"
  },
  "language_info": {
   "codemirror_mode": {
    "name": "ipython",
    "version": 3
   },
   "file_extension": ".py",
   "mimetype": "text/x-python",
   "name": "python",
   "nbconvert_exporter": "python",
   "pygments_lexer": "ipython3",
   "version": "3.8.12"
  },
  "vscode": {
   "interpreter": {
    "hash": "4f1650c5957004eab59b4c5750b0e19405ac261edfa12e93067e108f80b5ccd8"
   }
  }
 },
 "nbformat": 4,
 "nbformat_minor": 5
}
