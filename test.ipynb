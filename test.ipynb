{
 "cells": [
  {
   "cell_type": "code",
   "execution_count": 1,
   "metadata": {},
   "outputs": [],
   "source": [
    "import uproot \n",
    "import matplotlib.pyplot as plt\n",
    "import matplotlib as mpl\n",
    "import mplhep as hep\n",
    "import awkward as ak\n",
    "import pandas as pd\n",
    "import numpy as np\n",
    "import seaborn as sns\n",
    "import sys,os\n",
    "import hist\n",
    "sys.path.append(\"/cms/user/guojl/ME_test/CMSSW_10_6_26/src/HZZAnalysis/lib\")\n",
    "from utils import *\n",
    "from setting import setting\n"
   ]
  },
  {
   "cell_type": "code",
   "execution_count": 3,
   "metadata": {},
   "outputs": [],
   "source": [
    "year = '2018'; cutcat = 'resolved'\n",
    "cat = '2lep'; tag='all'; var = 'mass2jet'"
   ]
  },
  {
   "cell_type": "code",
   "execution_count": 4,
   "metadata": {},
   "outputs": [],
   "source": [
    "h = GetHisto(year,cutcat).hist"
   ]
  },
  {
   "cell_type": "code",
   "execution_count": 5,
   "metadata": {},
   "outputs": [],
   "source": [
    "hist_data = h[cutcat][f'Data_CR_{cat}_{tag}_{var}']"
   ]
  },
  {
   "cell_type": "code",
   "execution_count": 15,
   "metadata": {},
   "outputs": [
    {
     "data": {
      "text/html": [
       "<html>\n",
       "<div style=\"display:flex; align-items:center;\">\n",
       "<div style=\"width:290px;\">\n",
       "<svg xmlns=\"http://www.w3.org/2000/svg\" viewBox=\"-10 -105 270 120\">\n",
       "<line x1=\"-5\" y1=\"0\" x2=\"255\" y2=\"0\" style=\"fill:none;stroke-width:2;stroke:currentColor\"/>\n",
       "<text text-anchor=\"middle\" x=\"0\" y=\"15\" style=\"fill:currentColor;\">\n",
       "40\n",
       "</text>\n",
       "<text text-anchor=\"middle\" x=\"250\" y=\"15\" style=\"fill:currentColor;\">\n",
       "70\n",
       "</text>\n",
       "<text text-anchor=\"middle\" x=\"125.0\" y=\"15\" style=\"fill:currentColor;\">\n",
       "M(jj)\n",
       "</text>\n",
       "<polyline points=\"  0,0   0,-91.4 41.6667,-91.4 41.6667,-100 83.3333,-100 83.3333,-98.5 125,-98.5 125,-90.5 166.667,-90.5 166.667,-83 208.333,-83 208.333,-79 250,-79 250,0\" style=\"fill:none; stroke:currentColor;\"/>\n",
       "</svg>\n",
       "</div>\n",
       "<div style=\"flex=grow:1;\">\n",
       "Regular(6, 40, 70, name='M(jj)')<br/>\n",
       "<hr style=\"margin-top:.2em; margin-bottom:.2em;\"/>\n",
       "Weight() Σ=WeightedSum(value=68321, variance=68321) <em>(WeightedSum(value=139461, variance=139461) with flow)</em>\n",
       "\n",
       "</div>\n",
       "</div>\n",
       "</html>"
      ],
      "text/plain": [
       "Hist(Regular(6, 40, 70, name='M(jj)'), storage=Weight()) # Sum: WeightedSum(value=68321, variance=68321) (WeightedSum(value=139461, variance=139461) with flow)"
      ]
     },
     "execution_count": 15,
     "metadata": {},
     "output_type": "execute_result"
    }
   ],
   "source": [
    "hist_data[hist.loc(40):hist.loc(70)]"
   ]
  },
  {
   "cell_type": "code",
   "execution_count": 18,
   "metadata": {},
   "outputs": [
    {
     "data": {
      "text/plain": [
       "[StairsArtists(stairs=<matplotlib.patches.StepPatch object at 0x7fc436431b50>, errorbar=<ErrorbarContainer object of 3 artists>, legend_artist=<ErrorbarContainer object of 3 artists>)]"
      ]
     },
     "execution_count": 18,
     "metadata": {},
     "output_type": "execute_result"
    },
    {
     "data": {
      "image/png": "[encoded data removed]",
      "text/plain": [
       "<Figure size 720x720 with 1 Axes>"
      ]
     },
     "metadata": {
      "needs_background": "light"
     },
     "output_type": "display_data"
    }
   ],
   "source": [
    "f, ax = plt.subplots(figsize=(10, 10))\n",
    "#hep.cms.label(data=True, llabel='Preliminary',year=self.year, ax=ax, rlabel=r'%s $fb^{-1}$ (13 TeV)'%self.config['lumi'][self.year], fontname='sans-serif')\n",
    "ax.set_xlim(40, 180); ax.set_ylabel('Events / bin', ha='right', y=1.0)\n",
    "hep.histplot(hist_data[hist.loc(40):hist.loc(70)])\n",
    "hep.histplot(hist_data[hist.loc(135):hist.loc(180)])"
   ]
  },
  {
   "cell_type": "code",
   "execution_count": 17,
   "metadata": {},
   "outputs": [],
   "source": [
    "fileP = \"/cms/user/guojl/Sample/2L2Q/UL_Legacy/2018/MC/ggh/skimed/ggh.root\"\n",
    "f = uproot.open(fileP)"
   ]
  },
  {
   "cell_type": "code",
   "execution_count": 18,
   "metadata": {},
   "outputs": [],
   "source": [
    "arr = f['passedEvents'].arrays(filter_name = ['jet*','found*','pt*','mergedjet*','mass*','particleNetZvsQCD'])"
   ]
  },
  {
   "cell_type": "markdown",
   "metadata": {},
   "source": []
  },
  {
   "cell_type": "code",
   "execution_count": 4,
   "metadata": {},
   "outputs": [],
   "source": [
    "selection = '(foundZ1LCandidate==True) & (foundZ2JCandidate==True) '\n",
    "cut_array = ak.numexpr.evaluate(selection,arr)\n",
    "arr_cut = arr[cut_array]"
   ]
  },
  {
   "cell_type": "code",
   "execution_count": 7,
   "metadata": {},
   "outputs": [
    {
     "data": {
      "text/html": [
       "<html>\n",
       "<div style=\"display:flex; align-items:center;\">\n",
       "<div style=\"width:290px;\">\n",
       "<svg xmlns=\"http://www.w3.org/2000/svg\" viewBox=\"-10 -105 270 120\">\n",
       "<line x1=\"-5\" y1=\"0\" x2=\"255\" y2=\"0\" style=\"fill:none;stroke-width:2;stroke:currentColor\"/>\n",
       "<text text-anchor=\"middle\" x=\"0\" y=\"15\" style=\"fill:currentColor;\">\n",
       "30\n",
       "</text>\n",
       "<text text-anchor=\"middle\" x=\"250\" y=\"15\" style=\"fill:currentColor;\">\n",
       "130\n",
       "</text>\n",
       "<text text-anchor=\"middle\" x=\"125.0\" y=\"15\" style=\"fill:currentColor;\">\n",
       "pt\n",
       "</text>\n",
       "<polyline points=\"  0,0   0,-97.2   5,-97.2   5,-97.2  10,-97.2  10,-100  15,-100  15,-99.5  20,-99.5  20,-89.2  25,-89.2  25,-83.7  30,-83.7  30,-75.7  35,-75.7  35,-69.5  40,-69.5  40,-78.6  45,-78.6  45,-75.1  50,-75.1  50,-85.2  55,-85.2  55,-81.2  60,-81.2  60,-73.2  65,-73.2  65,-68.6  70,-68.6  70,-69.6  75,-69.6  75,-66  80,-66  80,-67.5  85,-67.5  85,-68.4  90,-68.4  90,-68.4  95,-68.4  95,-60.2 100,-60.2 100,-66.1 105,-66.1 105,-61.1 110,-61.1 110,-59.3 115,-59.3 115,-64.2 120,-64.2 120,-62.9 125,-62.9 125,-54.9 130,-54.9 130,-54.7 135,-54.7 135,-56.5 140,-56.5 140,-57 145,-57 145,-54.7 150,-54.7 150,-53.5 155,-53.5 155,-50.3 160,-50.3 160,-49.9 165,-49.9 165,-51.1 170,-51.1 170,-52.4 175,-52.4 175,-46.7 180,-46.7 180,-48.8 185,-48.8 185,-48 190,-48 190,-48.5 195,-48.5 195,-44.6 200,-44.6 200,-44.7 205,-44.7 205,-40.5 210,-40.5 210,-42.5 215,-42.5 215,-36.6 220,-36.6 220,-36.6 225,-36.6 225,-35.6 230,-35.6 230,-40.2 235,-40.2 235,-35 240,-35 240,-38.9 245,-38.9 245,-37.4 250,-37.4 250,0\" style=\"fill:none; stroke:currentColor;\"/>\n",
       "</svg>\n",
       "</div>\n",
       "<div style=\"flex=grow:1;\">\n",
       "Regular(50, 30, 130, name='pt')<br/>\n",
       "<hr style=\"margin-top:.2em; margin-bottom:.2em;\"/>\n",
       "Double() Σ=22489.0 <em>(33386.0 with flow)</em>\n",
       "\n",
       "</div>\n",
       "</div>\n",
       "</html>"
      ],
      "text/plain": [
       "Hist(Regular(50, 30, 130, name='pt'), storage=Double()) # Sum: 22489.0 (33386.0 with flow)"
      ]
     },
     "execution_count": 7,
     "metadata": {},
     "output_type": "execute_result"
    }
   ],
   "source": [
    "nbins = 120; low = 0; high = 1200\n",
    "h_mean = hist.Hist(hist.axis.Regular(bins=nbins, start=low, stop=high, name=\"pt\"))\n",
    "h_mean.fill(arr_cut.jet_1_pt); h_mean.fill(arr_cut.jet_2_pt)\n",
    "h_up = hist.Hist(hist.axis.Regular(bins=nbins, start=low, stop=high, name=\"pt\"))\n",
    "h_up.fill(arr_cut.jetpt_1_jesup_split_Total); h_up.fill(arr_cut.jetpt_2_jesup_split_Total)\n",
    "h_dn = hist.Hist(hist.axis.Regular(bins=nbins, start=low, stop=high, name=\"pt\"))\n",
    "h_dn.fill(arr_cut.jetpt_1_jesdn_split_Total); h_dn.fill(arr_cut.jetpt_2_jesdn_split_Total)"
   ]
  },
  {
   "cell_type": "code",
   "execution_count": 8,
   "metadata": {},
   "outputs": [
    {
     "name": "stdout",
     "output_type": "stream",
     "text": [
      "(Regular(50, 30, 130, name='pt'),)\n",
      "(Regular(50, 30, 130, name='pt'),)\n"
     ]
    }
   ],
   "source": [
    "print(h_dn.axes)\n",
    "print(h_mean.axes)"
   ]
  },
  {
   "cell_type": "code",
   "execution_count": 9,
   "metadata": {},
   "outputs": [
    {
     "data": {
      "text/plain": [
       "<matplotlib.legend.Legend at 0x7f8b91b5e760>"
      ]
     },
     "execution_count": 9,
     "metadata": {},
     "output_type": "execute_result"
    },
    {
     "data": {
      "image/png": "[encoded data removed]",
      "text/plain": [
       "<Figure size 864x864 with 1 Axes>"
      ]
     },
     "metadata": {
      "needs_background": "light"
     },
     "output_type": "display_data"
    }
   ],
   "source": [
    "fig = plt.figure(figsize=(12,12))\n",
    "hep.histplot(h_mean,label = \"mean\")\n",
    "hep.histplot(h_up,label='up')\n",
    "hep.histplot(h_dn,label='dn')\n",
    "plt.legend(loc=1,fontsize=30)"
   ]
  },
  {
   "cell_type": "code",
   "execution_count": 12,
   "metadata": {},
   "outputs": [],
   "source": [
    "def GetUncFromUpDn(h_mean,h_up,h_dn):\n",
    "    mean = h_mean.values().sum()\n",
    "    h_mean_up  = h_mean - h_up\n",
    "    mean_up = abs(h_mean_up.values()).sum()\n",
    "    h_mean_dn = h_mean - h_dn\n",
    "    mean_dn = abs(h_mean_dn.values()).sum()\n",
    "    uncUp = mean_up/mean\n",
    "    uncDn = mean_dn/mean\n",
    "    return uncUp, uncDn"
   ]
  },
  {
   "cell_type": "code",
   "execution_count": 13,
   "metadata": {},
   "outputs": [],
   "source": [
    "up,dn = GetUncFromUpDn(h_mean,h_up,h_dn)"
   ]
  },
  {
   "cell_type": "code",
   "execution_count": 16,
   "metadata": {},
   "outputs": [
    {
     "data": {
      "text/plain": [
       "hist.hist.Hist"
      ]
     },
     "execution_count": 16,
     "metadata": {},
     "output_type": "execute_result"
    }
   ],
   "source": [
    "type(h_mean)"
   ]
  },
  {
   "cell_type": "code",
   "execution_count": 4,
   "metadata": {},
   "outputs": [],
   "source": [
    "arr = uproot.lazy(['/cms/user/guojl/Sample/2L2Q/UL_Legacy/2018/MC/sig/skimed/GluGluHToZZTo2L2Q_M500_TuneCP5_13TeV_powheg2_JHUGenV7011_pythia8__v16_L1v1-v1_0.root:passedEvents'])"
   ]
  },
  {
   "cell_type": "code",
   "execution_count": 19,
   "metadata": {},
   "outputs": [],
   "source": [
    "config = setting().config"
   ]
  },
  {
   "cell_type": "code",
   "execution_count": 25,
   "metadata": {},
   "outputs": [],
   "source": [
    "cut = \"(foundZ2JCandidate_up==True) & (mass2l2jet_up>450)\"\n",
    "#cut = \"((mass2jet_up<70) | (mass2jet_up>135)) & (foundZ1LCandidate==True) & (foundZ2JCandidate_up==True) & (mass2l2jet_up)>450 & (KD_jjVBF_up<0.5) & (isEE==True) & (jet_1_deepbtag_up>0.2770) & (jet_2_deepbtag_up>0.2770)\"\n",
    "cut_arr = ak.numexpr.evaluate(cut,arr)\n"
   ]
  },
  {
   "cell_type": "code",
   "execution_count": 16,
   "metadata": {},
   "outputs": [
    {
     "name": "stdout",
     "output_type": "stream",
     "text": [
      "((mass2jet_up<70) | (mass2jet_up>135)) & (foundZ1LCandidate==True) & (foundZ2JCandidate_up==True) & (mass2l2jet_up)>450 & (KD_jjVBF_up<0.5) & (isEE==True) & (jet_1_deepbtag_up>0.2770) & (jet_2_deepbtag_up>0.2770)\n"
     ]
    },
    {
     "ename": "TypeError",
     "evalue": "unsupported operand type(s) for &: 'int' and 'OpNode'",
     "output_type": "error",
     "traceback": [
      "\u001b[0;31m---------------------------------------------------------------------------\u001b[0m",
      "\u001b[0;31mTypeError\u001b[0m                                 Traceback (most recent call last)",
      "\u001b[1;32m/cms/user/guojl/ME_test/CMSSW_10_6_26/src/HZZAnalysis/test.ipynb Cell 19\u001b[0m in \u001b[0;36m<cell line: 4>\u001b[0;34m()\u001b[0m\n\u001b[1;32m      <a href='vscode-notebook-cell://ssh-remote%2Bihep/cms/user/guojl/ME_test/CMSSW_10_6_26/src/HZZAnalysis/test.ipynb#X25sdnNjb2RlLXJlbW90ZQ%3D%3D?line=6'>7</a>\u001b[0m selection \u001b[39m=\u001b[39m config[\u001b[39m'\u001b[39m\u001b[39mcut\u001b[39m\u001b[39m'\u001b[39m][\u001b[39m'\u001b[39m\u001b[39mresolved_up\u001b[39m\u001b[39m'\u001b[39m][reg][cat][tag]\n\u001b[1;32m      <a href='vscode-notebook-cell://ssh-remote%2Bihep/cms/user/guojl/ME_test/CMSSW_10_6_26/src/HZZAnalysis/test.ipynb#X25sdnNjb2RlLXJlbW90ZQ%3D%3D?line=7'>8</a>\u001b[0m \u001b[39mprint\u001b[39m(selection)\n\u001b[0;32m----> <a href='vscode-notebook-cell://ssh-remote%2Bihep/cms/user/guojl/ME_test/CMSSW_10_6_26/src/HZZAnalysis/test.ipynb#X25sdnNjb2RlLXJlbW90ZQ%3D%3D?line=8'>9</a>\u001b[0m cut_arr \u001b[39m=\u001b[39m ak\u001b[39m.\u001b[39;49mnumexpr\u001b[39m.\u001b[39;49mevaluate(selection,arr)\n\u001b[1;32m     <a href='vscode-notebook-cell://ssh-remote%2Bihep/cms/user/guojl/ME_test/CMSSW_10_6_26/src/HZZAnalysis/test.ipynb#X25sdnNjb2RlLXJlbW90ZQ%3D%3D?line=9'>10</a>\u001b[0m cut_event \u001b[39m=\u001b[39m arr[cut_arr]\n",
      "File \u001b[0;32m/cms/user/guojl/miniconda/envs/uprootframe/lib/python3.8/site-packages/awkward/_connect/_numexpr.py:77\u001b[0m, in \u001b[0;36mevaluate\u001b[0;34m(expression, local_dict, global_dict, order, casting, **kwargs)\u001b[0m\n\u001b[1;32m     75\u001b[0m expr_key \u001b[39m=\u001b[39m (expression, \u001b[39mtuple\u001b[39m(\u001b[39msorted\u001b[39m(context\u001b[39m.\u001b[39mitems())))\n\u001b[1;32m     76\u001b[0m \u001b[39mif\u001b[39;00m expr_key \u001b[39mnot\u001b[39;00m \u001b[39min\u001b[39;00m numexpr\u001b[39m.\u001b[39mnecompiler\u001b[39m.\u001b[39m_names_cache:\n\u001b[0;32m---> 77\u001b[0m     numexpr\u001b[39m.\u001b[39mnecompiler\u001b[39m.\u001b[39m_names_cache[expr_key] \u001b[39m=\u001b[39m numexpr\u001b[39m.\u001b[39;49mnecompiler\u001b[39m.\u001b[39;49mgetExprNames(\n\u001b[1;32m     78\u001b[0m         expression, context\n\u001b[1;32m     79\u001b[0m     )\n\u001b[1;32m     80\u001b[0m names, ex_uses_vml \u001b[39m=\u001b[39m numexpr\u001b[39m.\u001b[39mnecompiler\u001b[39m.\u001b[39m_names_cache[expr_key]\n\u001b[1;32m     81\u001b[0m arguments \u001b[39m=\u001b[39m getArguments(names, local_dict, global_dict)\n",
      "File \u001b[0;32m/cms/user/guojl/miniconda/envs/uprootframe/lib/python3.8/site-packages/numexpr/necompiler.py:696\u001b[0m, in \u001b[0;36mgetExprNames\u001b[0;34m(text, context)\u001b[0m\n\u001b[1;32m    695\u001b[0m \u001b[39mdef\u001b[39;00m \u001b[39mgetExprNames\u001b[39m(text, context):\n\u001b[0;32m--> 696\u001b[0m     ex \u001b[39m=\u001b[39m stringToExpression(text, {}, context)\n\u001b[1;32m    697\u001b[0m     ast \u001b[39m=\u001b[39m expressionToAST(ex)\n\u001b[1;32m    698\u001b[0m     input_order \u001b[39m=\u001b[39m getInputOrder(ast, \u001b[39mNone\u001b[39;00m)\n",
      "File \u001b[0;32m/cms/user/guojl/miniconda/envs/uprootframe/lib/python3.8/site-packages/numexpr/necompiler.py:289\u001b[0m, in \u001b[0;36mstringToExpression\u001b[0;34m(s, types, context)\u001b[0m\n\u001b[1;32m    287\u001b[0m names\u001b[39m.\u001b[39mupdate(expressions\u001b[39m.\u001b[39mfunctions)\n\u001b[1;32m    288\u001b[0m \u001b[39m# now build the expression\u001b[39;00m\n\u001b[0;32m--> 289\u001b[0m ex \u001b[39m=\u001b[39m \u001b[39meval\u001b[39;49m(c, names)\n\u001b[1;32m    290\u001b[0m \u001b[39mif\u001b[39;00m expressions\u001b[39m.\u001b[39misConstant(ex):\n\u001b[1;32m    291\u001b[0m     ex \u001b[39m=\u001b[39m expressions\u001b[39m.\u001b[39mConstantNode(ex, expressions\u001b[39m.\u001b[39mgetKind(ex))\n",
      "File \u001b[0;32m<expr>:1\u001b[0m, in \u001b[0;36m<module>\u001b[0;34m\u001b[0m\n",
      "\u001b[0;31mTypeError\u001b[0m: unsupported operand type(s) for &: 'int' and 'OpNode'"
     ]
    }
   ],
   "source": [
    "leptonic_cut_cats=['isEE','isMuMu','2lep']\n",
    "regions = ['CR','SR','ALL']\n",
    "tags = ['btag','untag','vbftag','all']\n",
    "for reg in regions:\n",
    "    for cat in leptonic_cut_cats:\n",
    "        for tag in tags:\n",
    "            selection = config['cut']['resolved_up'][reg][cat][tag]\n",
    "            print(selection)\n",
    "            cut_arr = ak.numexpr.evaluate(selection,arr)\n",
    "            cut_event = arr[cut_arr]"
   ]
  },
  {
   "cell_type": "code",
   "execution_count": 18,
   "metadata": {},
   "outputs": [
    {
     "data": {
      "text/plain": [
       "<Array [True, False, True, ... True, False] type='123613 * bool'>"
      ]
     },
     "execution_count": 18,
     "metadata": {},
     "output_type": "execute_result"
    }
   ],
   "source": [
    "arr.mass2l2jet_up>450"
   ]
  },
  {
   "cell_type": "code",
   "execution_count": null,
   "metadata": {},
   "outputs": [],
   "source": []
  }
 ],
 "metadata": {
  "kernelspec": {
   "display_name": "Python 3",
   "language": "python",
   "name": "python3"
  },
  "language_info": {
   "codemirror_mode": {
    "name": "ipython",
    "version": 3
   },
   "file_extension": ".py",
   "mimetype": "text/x-python",
   "name": "python",
   "nbconvert_exporter": "python",
   "pygments_lexer": "ipython3",
   "version": "3.8.12"
  },
  "orig_nbformat": 4,
  "vscode": {
   "interpreter": {
    "hash": "4f1650c5957004eab59b4c5750b0e19405ac261edfa12e93067e108f80b5ccd8"
   }
  }
 },
 "nbformat": 4,
 "nbformat_minor": 2
}
